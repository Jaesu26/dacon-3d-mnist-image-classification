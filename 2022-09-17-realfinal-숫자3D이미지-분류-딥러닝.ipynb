{
  "nbformat": 4,
  "nbformat_minor": 0,
  "metadata": {
    "colab": {
      "provenance": [],
      "collapsed_sections": [],
      "include_colab_link": true
    },
    "kernelspec": {
      "name": "python3",
      "display_name": "Python 3"
    },
    "language_info": {
      "name": "python"
    },
    "gpuClass": "standard",
    "widgets": {
      "application/vnd.jupyter.widget-state+json": {
        "485b967935e544a6b139ec586433b400": {
          "model_module": "@jupyter-widgets/controls",
          "model_name": "HBoxModel",
          "model_module_version": "1.5.0",
          "state": {
            "_dom_classes": [],
            "_model_module": "@jupyter-widgets/controls",
            "_model_module_version": "1.5.0",
            "_model_name": "HBoxModel",
            "_view_count": null,
            "_view_module": "@jupyter-widgets/controls",
            "_view_module_version": "1.5.0",
            "_view_name": "HBoxView",
            "box_style": "",
            "children": [
              "IPY_MODEL_d57526f438f94fd3af4492f87f88cd2c",
              "IPY_MODEL_08b3e0c729d745ae9d7b02b8e5d6b3df",
              "IPY_MODEL_6b820e917dfa4a3bbb05688ce26a9c80"
            ],
            "layout": "IPY_MODEL_874e328590d94264979757646dbfb49c"
          }
        },
        "d57526f438f94fd3af4492f87f88cd2c": {
          "model_module": "@jupyter-widgets/controls",
          "model_name": "HTMLModel",
          "model_module_version": "1.5.0",
          "state": {
            "_dom_classes": [],
            "_model_module": "@jupyter-widgets/controls",
            "_model_module_version": "1.5.0",
            "_model_name": "HTMLModel",
            "_view_count": null,
            "_view_module": "@jupyter-widgets/controls",
            "_view_module_version": "1.5.0",
            "_view_name": "HTMLView",
            "description": "",
            "description_tooltip": null,
            "layout": "IPY_MODEL_06151b81a7e941df9be7e9e703de118d",
            "placeholder": "​",
            "style": "IPY_MODEL_aef2966b88c34cd9b6d35e416796ca94",
            "value": " 28%"
          }
        },
        "08b3e0c729d745ae9d7b02b8e5d6b3df": {
          "model_module": "@jupyter-widgets/controls",
          "model_name": "FloatProgressModel",
          "model_module_version": "1.5.0",
          "state": {
            "_dom_classes": [],
            "_model_module": "@jupyter-widgets/controls",
            "_model_module_version": "1.5.0",
            "_model_name": "FloatProgressModel",
            "_view_count": null,
            "_view_module": "@jupyter-widgets/controls",
            "_view_module_version": "1.5.0",
            "_view_name": "ProgressView",
            "bar_style": "danger",
            "description": "",
            "description_tooltip": null,
            "layout": "IPY_MODEL_dadeb86c6a714bec97cf736bf53f65aa",
            "max": 29,
            "min": 0,
            "orientation": "horizontal",
            "style": "IPY_MODEL_03ce44fa68bc4844ac3a32d5edead442",
            "value": 8
          }
        },
        "6b820e917dfa4a3bbb05688ce26a9c80": {
          "model_module": "@jupyter-widgets/controls",
          "model_name": "HTMLModel",
          "model_module_version": "1.5.0",
          "state": {
            "_dom_classes": [],
            "_model_module": "@jupyter-widgets/controls",
            "_model_module_version": "1.5.0",
            "_model_name": "HTMLModel",
            "_view_count": null,
            "_view_module": "@jupyter-widgets/controls",
            "_view_module_version": "1.5.0",
            "_view_name": "HTMLView",
            "description": "",
            "description_tooltip": null,
            "layout": "IPY_MODEL_4180e02b3c3145168b06f748be98f763",
            "placeholder": "​",
            "style": "IPY_MODEL_9c820d56b4c24e40977963a27932e06f",
            "value": " 8/29 [32:39&lt;1:15:42, 216.31s/it]"
          }
        },
        "874e328590d94264979757646dbfb49c": {
          "model_module": "@jupyter-widgets/base",
          "model_name": "LayoutModel",
          "model_module_version": "1.2.0",
          "state": {
            "_model_module": "@jupyter-widgets/base",
            "_model_module_version": "1.2.0",
            "_model_name": "LayoutModel",
            "_view_count": null,
            "_view_module": "@jupyter-widgets/base",
            "_view_module_version": "1.2.0",
            "_view_name": "LayoutView",
            "align_content": null,
            "align_items": null,
            "align_self": null,
            "border": null,
            "bottom": null,
            "display": null,
            "flex": null,
            "flex_flow": null,
            "grid_area": null,
            "grid_auto_columns": null,
            "grid_auto_flow": null,
            "grid_auto_rows": null,
            "grid_column": null,
            "grid_gap": null,
            "grid_row": null,
            "grid_template_areas": null,
            "grid_template_columns": null,
            "grid_template_rows": null,
            "height": null,
            "justify_content": null,
            "justify_items": null,
            "left": null,
            "margin": null,
            "max_height": null,
            "max_width": null,
            "min_height": null,
            "min_width": null,
            "object_fit": null,
            "object_position": null,
            "order": null,
            "overflow": null,
            "overflow_x": null,
            "overflow_y": null,
            "padding": null,
            "right": null,
            "top": null,
            "visibility": null,
            "width": null
          }
        },
        "06151b81a7e941df9be7e9e703de118d": {
          "model_module": "@jupyter-widgets/base",
          "model_name": "LayoutModel",
          "model_module_version": "1.2.0",
          "state": {
            "_model_module": "@jupyter-widgets/base",
            "_model_module_version": "1.2.0",
            "_model_name": "LayoutModel",
            "_view_count": null,
            "_view_module": "@jupyter-widgets/base",
            "_view_module_version": "1.2.0",
            "_view_name": "LayoutView",
            "align_content": null,
            "align_items": null,
            "align_self": null,
            "border": null,
            "bottom": null,
            "display": null,
            "flex": null,
            "flex_flow": null,
            "grid_area": null,
            "grid_auto_columns": null,
            "grid_auto_flow": null,
            "grid_auto_rows": null,
            "grid_column": null,
            "grid_gap": null,
            "grid_row": null,
            "grid_template_areas": null,
            "grid_template_columns": null,
            "grid_template_rows": null,
            "height": null,
            "justify_content": null,
            "justify_items": null,
            "left": null,
            "margin": null,
            "max_height": null,
            "max_width": null,
            "min_height": null,
            "min_width": null,
            "object_fit": null,
            "object_position": null,
            "order": null,
            "overflow": null,
            "overflow_x": null,
            "overflow_y": null,
            "padding": null,
            "right": null,
            "top": null,
            "visibility": null,
            "width": null
          }
        },
        "aef2966b88c34cd9b6d35e416796ca94": {
          "model_module": "@jupyter-widgets/controls",
          "model_name": "DescriptionStyleModel",
          "model_module_version": "1.5.0",
          "state": {
            "_model_module": "@jupyter-widgets/controls",
            "_model_module_version": "1.5.0",
            "_model_name": "DescriptionStyleModel",
            "_view_count": null,
            "_view_module": "@jupyter-widgets/base",
            "_view_module_version": "1.2.0",
            "_view_name": "StyleView",
            "description_width": ""
          }
        },
        "dadeb86c6a714bec97cf736bf53f65aa": {
          "model_module": "@jupyter-widgets/base",
          "model_name": "LayoutModel",
          "model_module_version": "1.2.0",
          "state": {
            "_model_module": "@jupyter-widgets/base",
            "_model_module_version": "1.2.0",
            "_model_name": "LayoutModel",
            "_view_count": null,
            "_view_module": "@jupyter-widgets/base",
            "_view_module_version": "1.2.0",
            "_view_name": "LayoutView",
            "align_content": null,
            "align_items": null,
            "align_self": null,
            "border": null,
            "bottom": null,
            "display": null,
            "flex": null,
            "flex_flow": null,
            "grid_area": null,
            "grid_auto_columns": null,
            "grid_auto_flow": null,
            "grid_auto_rows": null,
            "grid_column": null,
            "grid_gap": null,
            "grid_row": null,
            "grid_template_areas": null,
            "grid_template_columns": null,
            "grid_template_rows": null,
            "height": null,
            "justify_content": null,
            "justify_items": null,
            "left": null,
            "margin": null,
            "max_height": null,
            "max_width": null,
            "min_height": null,
            "min_width": null,
            "object_fit": null,
            "object_position": null,
            "order": null,
            "overflow": null,
            "overflow_x": null,
            "overflow_y": null,
            "padding": null,
            "right": null,
            "top": null,
            "visibility": null,
            "width": null
          }
        },
        "03ce44fa68bc4844ac3a32d5edead442": {
          "model_module": "@jupyter-widgets/controls",
          "model_name": "ProgressStyleModel",
          "model_module_version": "1.5.0",
          "state": {
            "_model_module": "@jupyter-widgets/controls",
            "_model_module_version": "1.5.0",
            "_model_name": "ProgressStyleModel",
            "_view_count": null,
            "_view_module": "@jupyter-widgets/base",
            "_view_module_version": "1.2.0",
            "_view_name": "StyleView",
            "bar_color": null,
            "description_width": ""
          }
        },
        "4180e02b3c3145168b06f748be98f763": {
          "model_module": "@jupyter-widgets/base",
          "model_name": "LayoutModel",
          "model_module_version": "1.2.0",
          "state": {
            "_model_module": "@jupyter-widgets/base",
            "_model_module_version": "1.2.0",
            "_model_name": "LayoutModel",
            "_view_count": null,
            "_view_module": "@jupyter-widgets/base",
            "_view_module_version": "1.2.0",
            "_view_name": "LayoutView",
            "align_content": null,
            "align_items": null,
            "align_self": null,
            "border": null,
            "bottom": null,
            "display": null,
            "flex": null,
            "flex_flow": null,
            "grid_area": null,
            "grid_auto_columns": null,
            "grid_auto_flow": null,
            "grid_auto_rows": null,
            "grid_column": null,
            "grid_gap": null,
            "grid_row": null,
            "grid_template_areas": null,
            "grid_template_columns": null,
            "grid_template_rows": null,
            "height": null,
            "justify_content": null,
            "justify_items": null,
            "left": null,
            "margin": null,
            "max_height": null,
            "max_width": null,
            "min_height": null,
            "min_width": null,
            "object_fit": null,
            "object_position": null,
            "order": null,
            "overflow": null,
            "overflow_x": null,
            "overflow_y": null,
            "padding": null,
            "right": null,
            "top": null,
            "visibility": null,
            "width": null
          }
        },
        "9c820d56b4c24e40977963a27932e06f": {
          "model_module": "@jupyter-widgets/controls",
          "model_name": "DescriptionStyleModel",
          "model_module_version": "1.5.0",
          "state": {
            "_model_module": "@jupyter-widgets/controls",
            "_model_module_version": "1.5.0",
            "_model_name": "DescriptionStyleModel",
            "_view_count": null,
            "_view_module": "@jupyter-widgets/base",
            "_view_module_version": "1.2.0",
            "_view_name": "StyleView",
            "description_width": ""
          }
        },
        "1c38f78836db49eea11c94a9489362c9": {
          "model_module": "@jupyter-widgets/controls",
          "model_name": "HBoxModel",
          "model_module_version": "1.5.0",
          "state": {
            "_dom_classes": [],
            "_model_module": "@jupyter-widgets/controls",
            "_model_module_version": "1.5.0",
            "_model_name": "HBoxModel",
            "_view_count": null,
            "_view_module": "@jupyter-widgets/controls",
            "_view_module_version": "1.5.0",
            "_view_name": "HBoxView",
            "box_style": "",
            "children": [
              "IPY_MODEL_41017da8af3f47a480440c239ea143ad",
              "IPY_MODEL_06f46524df9b40df9f3a4c40cacc9c99",
              "IPY_MODEL_c92be5059be34a21bfe94dc09bc2aa77"
            ],
            "layout": "IPY_MODEL_f506588403064be0b111ea9ea4f76ef2"
          }
        },
        "41017da8af3f47a480440c239ea143ad": {
          "model_module": "@jupyter-widgets/controls",
          "model_name": "HTMLModel",
          "model_module_version": "1.5.0",
          "state": {
            "_dom_classes": [],
            "_model_module": "@jupyter-widgets/controls",
            "_model_module_version": "1.5.0",
            "_model_name": "HTMLModel",
            "_view_count": null,
            "_view_module": "@jupyter-widgets/controls",
            "_view_module_version": "1.5.0",
            "_view_name": "HTMLView",
            "description": "",
            "description_tooltip": null,
            "layout": "IPY_MODEL_257a86c499d0455a9dc6ac3aacc6b829",
            "placeholder": "​",
            "style": "IPY_MODEL_58a49b7ac898433f998762e57e4225ec",
            "value": "100%"
          }
        },
        "06f46524df9b40df9f3a4c40cacc9c99": {
          "model_module": "@jupyter-widgets/controls",
          "model_name": "FloatProgressModel",
          "model_module_version": "1.5.0",
          "state": {
            "_dom_classes": [],
            "_model_module": "@jupyter-widgets/controls",
            "_model_module_version": "1.5.0",
            "_model_name": "FloatProgressModel",
            "_view_count": null,
            "_view_module": "@jupyter-widgets/controls",
            "_view_module_version": "1.5.0",
            "_view_name": "ProgressView",
            "bar_style": "success",
            "description": "",
            "description_tooltip": null,
            "layout": "IPY_MODEL_8dd753006fb9430dbde2102d3d8f6dd8",
            "max": 1250,
            "min": 0,
            "orientation": "horizontal",
            "style": "IPY_MODEL_a7ccb587cf384974b0dd115beba14407",
            "value": 1250
          }
        },
        "c92be5059be34a21bfe94dc09bc2aa77": {
          "model_module": "@jupyter-widgets/controls",
          "model_name": "HTMLModel",
          "model_module_version": "1.5.0",
          "state": {
            "_dom_classes": [],
            "_model_module": "@jupyter-widgets/controls",
            "_model_module_version": "1.5.0",
            "_model_name": "HTMLModel",
            "_view_count": null,
            "_view_module": "@jupyter-widgets/controls",
            "_view_module_version": "1.5.0",
            "_view_name": "HTMLView",
            "description": "",
            "description_tooltip": null,
            "layout": "IPY_MODEL_6c43c05ef14a4029b66213c36bd1bf55",
            "placeholder": "​",
            "style": "IPY_MODEL_76e3796da45440e5a11ccc5ad885f289",
            "value": " 1250/1250 [03:37&lt;00:00,  5.95it/s]"
          }
        },
        "f506588403064be0b111ea9ea4f76ef2": {
          "model_module": "@jupyter-widgets/base",
          "model_name": "LayoutModel",
          "model_module_version": "1.2.0",
          "state": {
            "_model_module": "@jupyter-widgets/base",
            "_model_module_version": "1.2.0",
            "_model_name": "LayoutModel",
            "_view_count": null,
            "_view_module": "@jupyter-widgets/base",
            "_view_module_version": "1.2.0",
            "_view_name": "LayoutView",
            "align_content": null,
            "align_items": null,
            "align_self": null,
            "border": null,
            "bottom": null,
            "display": null,
            "flex": null,
            "flex_flow": null,
            "grid_area": null,
            "grid_auto_columns": null,
            "grid_auto_flow": null,
            "grid_auto_rows": null,
            "grid_column": null,
            "grid_gap": null,
            "grid_row": null,
            "grid_template_areas": null,
            "grid_template_columns": null,
            "grid_template_rows": null,
            "height": null,
            "justify_content": null,
            "justify_items": null,
            "left": null,
            "margin": null,
            "max_height": null,
            "max_width": null,
            "min_height": null,
            "min_width": null,
            "object_fit": null,
            "object_position": null,
            "order": null,
            "overflow": null,
            "overflow_x": null,
            "overflow_y": null,
            "padding": null,
            "right": null,
            "top": null,
            "visibility": null,
            "width": null
          }
        },
        "257a86c499d0455a9dc6ac3aacc6b829": {
          "model_module": "@jupyter-widgets/base",
          "model_name": "LayoutModel",
          "model_module_version": "1.2.0",
          "state": {
            "_model_module": "@jupyter-widgets/base",
            "_model_module_version": "1.2.0",
            "_model_name": "LayoutModel",
            "_view_count": null,
            "_view_module": "@jupyter-widgets/base",
            "_view_module_version": "1.2.0",
            "_view_name": "LayoutView",
            "align_content": null,
            "align_items": null,
            "align_self": null,
            "border": null,
            "bottom": null,
            "display": null,
            "flex": null,
            "flex_flow": null,
            "grid_area": null,
            "grid_auto_columns": null,
            "grid_auto_flow": null,
            "grid_auto_rows": null,
            "grid_column": null,
            "grid_gap": null,
            "grid_row": null,
            "grid_template_areas": null,
            "grid_template_columns": null,
            "grid_template_rows": null,
            "height": null,
            "justify_content": null,
            "justify_items": null,
            "left": null,
            "margin": null,
            "max_height": null,
            "max_width": null,
            "min_height": null,
            "min_width": null,
            "object_fit": null,
            "object_position": null,
            "order": null,
            "overflow": null,
            "overflow_x": null,
            "overflow_y": null,
            "padding": null,
            "right": null,
            "top": null,
            "visibility": null,
            "width": null
          }
        },
        "58a49b7ac898433f998762e57e4225ec": {
          "model_module": "@jupyter-widgets/controls",
          "model_name": "DescriptionStyleModel",
          "model_module_version": "1.5.0",
          "state": {
            "_model_module": "@jupyter-widgets/controls",
            "_model_module_version": "1.5.0",
            "_model_name": "DescriptionStyleModel",
            "_view_count": null,
            "_view_module": "@jupyter-widgets/base",
            "_view_module_version": "1.2.0",
            "_view_name": "StyleView",
            "description_width": ""
          }
        },
        "8dd753006fb9430dbde2102d3d8f6dd8": {
          "model_module": "@jupyter-widgets/base",
          "model_name": "LayoutModel",
          "model_module_version": "1.2.0",
          "state": {
            "_model_module": "@jupyter-widgets/base",
            "_model_module_version": "1.2.0",
            "_model_name": "LayoutModel",
            "_view_count": null,
            "_view_module": "@jupyter-widgets/base",
            "_view_module_version": "1.2.0",
            "_view_name": "LayoutView",
            "align_content": null,
            "align_items": null,
            "align_self": null,
            "border": null,
            "bottom": null,
            "display": null,
            "flex": null,
            "flex_flow": null,
            "grid_area": null,
            "grid_auto_columns": null,
            "grid_auto_flow": null,
            "grid_auto_rows": null,
            "grid_column": null,
            "grid_gap": null,
            "grid_row": null,
            "grid_template_areas": null,
            "grid_template_columns": null,
            "grid_template_rows": null,
            "height": null,
            "justify_content": null,
            "justify_items": null,
            "left": null,
            "margin": null,
            "max_height": null,
            "max_width": null,
            "min_height": null,
            "min_width": null,
            "object_fit": null,
            "object_position": null,
            "order": null,
            "overflow": null,
            "overflow_x": null,
            "overflow_y": null,
            "padding": null,
            "right": null,
            "top": null,
            "visibility": null,
            "width": null
          }
        },
        "a7ccb587cf384974b0dd115beba14407": {
          "model_module": "@jupyter-widgets/controls",
          "model_name": "ProgressStyleModel",
          "model_module_version": "1.5.0",
          "state": {
            "_model_module": "@jupyter-widgets/controls",
            "_model_module_version": "1.5.0",
            "_model_name": "ProgressStyleModel",
            "_view_count": null,
            "_view_module": "@jupyter-widgets/base",
            "_view_module_version": "1.2.0",
            "_view_name": "StyleView",
            "bar_color": null,
            "description_width": ""
          }
        },
        "6c43c05ef14a4029b66213c36bd1bf55": {
          "model_module": "@jupyter-widgets/base",
          "model_name": "LayoutModel",
          "model_module_version": "1.2.0",
          "state": {
            "_model_module": "@jupyter-widgets/base",
            "_model_module_version": "1.2.0",
            "_model_name": "LayoutModel",
            "_view_count": null,
            "_view_module": "@jupyter-widgets/base",
            "_view_module_version": "1.2.0",
            "_view_name": "LayoutView",
            "align_content": null,
            "align_items": null,
            "align_self": null,
            "border": null,
            "bottom": null,
            "display": null,
            "flex": null,
            "flex_flow": null,
            "grid_area": null,
            "grid_auto_columns": null,
            "grid_auto_flow": null,
            "grid_auto_rows": null,
            "grid_column": null,
            "grid_gap": null,
            "grid_row": null,
            "grid_template_areas": null,
            "grid_template_columns": null,
            "grid_template_rows": null,
            "height": null,
            "justify_content": null,
            "justify_items": null,
            "left": null,
            "margin": null,
            "max_height": null,
            "max_width": null,
            "min_height": null,
            "min_width": null,
            "object_fit": null,
            "object_position": null,
            "order": null,
            "overflow": null,
            "overflow_x": null,
            "overflow_y": null,
            "padding": null,
            "right": null,
            "top": null,
            "visibility": null,
            "width": null
          }
        },
        "76e3796da45440e5a11ccc5ad885f289": {
          "model_module": "@jupyter-widgets/controls",
          "model_name": "DescriptionStyleModel",
          "model_module_version": "1.5.0",
          "state": {
            "_model_module": "@jupyter-widgets/controls",
            "_model_module_version": "1.5.0",
            "_model_name": "DescriptionStyleModel",
            "_view_count": null,
            "_view_module": "@jupyter-widgets/base",
            "_view_module_version": "1.2.0",
            "_view_name": "StyleView",
            "description_width": ""
          }
        },
        "31b1e70e641b41978e3e901d4fc6eb1d": {
          "model_module": "@jupyter-widgets/controls",
          "model_name": "HBoxModel",
          "model_module_version": "1.5.0",
          "state": {
            "_dom_classes": [],
            "_model_module": "@jupyter-widgets/controls",
            "_model_module_version": "1.5.0",
            "_model_name": "HBoxModel",
            "_view_count": null,
            "_view_module": "@jupyter-widgets/controls",
            "_view_module_version": "1.5.0",
            "_view_name": "HBoxView",
            "box_style": "",
            "children": [
              "IPY_MODEL_d36024423b444feca786f504ce3a4cf4",
              "IPY_MODEL_93b649688e5247e0a99213cca604fa70",
              "IPY_MODEL_05765c513b414cf78b0f0719ad075dd5"
            ],
            "layout": "IPY_MODEL_c0884029cc384a2081c5ad0e19226996"
          }
        },
        "d36024423b444feca786f504ce3a4cf4": {
          "model_module": "@jupyter-widgets/controls",
          "model_name": "HTMLModel",
          "model_module_version": "1.5.0",
          "state": {
            "_dom_classes": [],
            "_model_module": "@jupyter-widgets/controls",
            "_model_module_version": "1.5.0",
            "_model_name": "HTMLModel",
            "_view_count": null,
            "_view_module": "@jupyter-widgets/controls",
            "_view_module_version": "1.5.0",
            "_view_name": "HTMLView",
            "description": "",
            "description_tooltip": null,
            "layout": "IPY_MODEL_d30af49b707b407cbfe90714b7bc1f9a",
            "placeholder": "​",
            "style": "IPY_MODEL_c657a6bc1c2c40e8886ccb9b1d9787e4",
            "value": "100%"
          }
        },
        "93b649688e5247e0a99213cca604fa70": {
          "model_module": "@jupyter-widgets/controls",
          "model_name": "FloatProgressModel",
          "model_module_version": "1.5.0",
          "state": {
            "_dom_classes": [],
            "_model_module": "@jupyter-widgets/controls",
            "_model_module_version": "1.5.0",
            "_model_name": "FloatProgressModel",
            "_view_count": null,
            "_view_module": "@jupyter-widgets/controls",
            "_view_module_version": "1.5.0",
            "_view_name": "ProgressView",
            "bar_style": "success",
            "description": "",
            "description_tooltip": null,
            "layout": "IPY_MODEL_e32dd5a2d7344a2a955394da868f3ee3",
            "max": 1250,
            "min": 0,
            "orientation": "horizontal",
            "style": "IPY_MODEL_ee438bba783d452896cc29060aacc059",
            "value": 1250
          }
        },
        "05765c513b414cf78b0f0719ad075dd5": {
          "model_module": "@jupyter-widgets/controls",
          "model_name": "HTMLModel",
          "model_module_version": "1.5.0",
          "state": {
            "_dom_classes": [],
            "_model_module": "@jupyter-widgets/controls",
            "_model_module_version": "1.5.0",
            "_model_name": "HTMLModel",
            "_view_count": null,
            "_view_module": "@jupyter-widgets/controls",
            "_view_module_version": "1.5.0",
            "_view_name": "HTMLView",
            "description": "",
            "description_tooltip": null,
            "layout": "IPY_MODEL_8e3a891d75de4dbf819831edfc5e7d93",
            "placeholder": "​",
            "style": "IPY_MODEL_1a4282a6ff1b4b6ba1dac2608f286aa5",
            "value": " 1250/1250 [03:26&lt;00:00,  6.08it/s]"
          }
        },
        "c0884029cc384a2081c5ad0e19226996": {
          "model_module": "@jupyter-widgets/base",
          "model_name": "LayoutModel",
          "model_module_version": "1.2.0",
          "state": {
            "_model_module": "@jupyter-widgets/base",
            "_model_module_version": "1.2.0",
            "_model_name": "LayoutModel",
            "_view_count": null,
            "_view_module": "@jupyter-widgets/base",
            "_view_module_version": "1.2.0",
            "_view_name": "LayoutView",
            "align_content": null,
            "align_items": null,
            "align_self": null,
            "border": null,
            "bottom": null,
            "display": null,
            "flex": null,
            "flex_flow": null,
            "grid_area": null,
            "grid_auto_columns": null,
            "grid_auto_flow": null,
            "grid_auto_rows": null,
            "grid_column": null,
            "grid_gap": null,
            "grid_row": null,
            "grid_template_areas": null,
            "grid_template_columns": null,
            "grid_template_rows": null,
            "height": null,
            "justify_content": null,
            "justify_items": null,
            "left": null,
            "margin": null,
            "max_height": null,
            "max_width": null,
            "min_height": null,
            "min_width": null,
            "object_fit": null,
            "object_position": null,
            "order": null,
            "overflow": null,
            "overflow_x": null,
            "overflow_y": null,
            "padding": null,
            "right": null,
            "top": null,
            "visibility": null,
            "width": null
          }
        },
        "d30af49b707b407cbfe90714b7bc1f9a": {
          "model_module": "@jupyter-widgets/base",
          "model_name": "LayoutModel",
          "model_module_version": "1.2.0",
          "state": {
            "_model_module": "@jupyter-widgets/base",
            "_model_module_version": "1.2.0",
            "_model_name": "LayoutModel",
            "_view_count": null,
            "_view_module": "@jupyter-widgets/base",
            "_view_module_version": "1.2.0",
            "_view_name": "LayoutView",
            "align_content": null,
            "align_items": null,
            "align_self": null,
            "border": null,
            "bottom": null,
            "display": null,
            "flex": null,
            "flex_flow": null,
            "grid_area": null,
            "grid_auto_columns": null,
            "grid_auto_flow": null,
            "grid_auto_rows": null,
            "grid_column": null,
            "grid_gap": null,
            "grid_row": null,
            "grid_template_areas": null,
            "grid_template_columns": null,
            "grid_template_rows": null,
            "height": null,
            "justify_content": null,
            "justify_items": null,
            "left": null,
            "margin": null,
            "max_height": null,
            "max_width": null,
            "min_height": null,
            "min_width": null,
            "object_fit": null,
            "object_position": null,
            "order": null,
            "overflow": null,
            "overflow_x": null,
            "overflow_y": null,
            "padding": null,
            "right": null,
            "top": null,
            "visibility": null,
            "width": null
          }
        },
        "c657a6bc1c2c40e8886ccb9b1d9787e4": {
          "model_module": "@jupyter-widgets/controls",
          "model_name": "DescriptionStyleModel",
          "model_module_version": "1.5.0",
          "state": {
            "_model_module": "@jupyter-widgets/controls",
            "_model_module_version": "1.5.0",
            "_model_name": "DescriptionStyleModel",
            "_view_count": null,
            "_view_module": "@jupyter-widgets/base",
            "_view_module_version": "1.2.0",
            "_view_name": "StyleView",
            "description_width": ""
          }
        },
        "e32dd5a2d7344a2a955394da868f3ee3": {
          "model_module": "@jupyter-widgets/base",
          "model_name": "LayoutModel",
          "model_module_version": "1.2.0",
          "state": {
            "_model_module": "@jupyter-widgets/base",
            "_model_module_version": "1.2.0",
            "_model_name": "LayoutModel",
            "_view_count": null,
            "_view_module": "@jupyter-widgets/base",
            "_view_module_version": "1.2.0",
            "_view_name": "LayoutView",
            "align_content": null,
            "align_items": null,
            "align_self": null,
            "border": null,
            "bottom": null,
            "display": null,
            "flex": null,
            "flex_flow": null,
            "grid_area": null,
            "grid_auto_columns": null,
            "grid_auto_flow": null,
            "grid_auto_rows": null,
            "grid_column": null,
            "grid_gap": null,
            "grid_row": null,
            "grid_template_areas": null,
            "grid_template_columns": null,
            "grid_template_rows": null,
            "height": null,
            "justify_content": null,
            "justify_items": null,
            "left": null,
            "margin": null,
            "max_height": null,
            "max_width": null,
            "min_height": null,
            "min_width": null,
            "object_fit": null,
            "object_position": null,
            "order": null,
            "overflow": null,
            "overflow_x": null,
            "overflow_y": null,
            "padding": null,
            "right": null,
            "top": null,
            "visibility": null,
            "width": null
          }
        },
        "ee438bba783d452896cc29060aacc059": {
          "model_module": "@jupyter-widgets/controls",
          "model_name": "ProgressStyleModel",
          "model_module_version": "1.5.0",
          "state": {
            "_model_module": "@jupyter-widgets/controls",
            "_model_module_version": "1.5.0",
            "_model_name": "ProgressStyleModel",
            "_view_count": null,
            "_view_module": "@jupyter-widgets/base",
            "_view_module_version": "1.2.0",
            "_view_name": "StyleView",
            "bar_color": null,
            "description_width": ""
          }
        },
        "8e3a891d75de4dbf819831edfc5e7d93": {
          "model_module": "@jupyter-widgets/base",
          "model_name": "LayoutModel",
          "model_module_version": "1.2.0",
          "state": {
            "_model_module": "@jupyter-widgets/base",
            "_model_module_version": "1.2.0",
            "_model_name": "LayoutModel",
            "_view_count": null,
            "_view_module": "@jupyter-widgets/base",
            "_view_module_version": "1.2.0",
            "_view_name": "LayoutView",
            "align_content": null,
            "align_items": null,
            "align_self": null,
            "border": null,
            "bottom": null,
            "display": null,
            "flex": null,
            "flex_flow": null,
            "grid_area": null,
            "grid_auto_columns": null,
            "grid_auto_flow": null,
            "grid_auto_rows": null,
            "grid_column": null,
            "grid_gap": null,
            "grid_row": null,
            "grid_template_areas": null,
            "grid_template_columns": null,
            "grid_template_rows": null,
            "height": null,
            "justify_content": null,
            "justify_items": null,
            "left": null,
            "margin": null,
            "max_height": null,
            "max_width": null,
            "min_height": null,
            "min_width": null,
            "object_fit": null,
            "object_position": null,
            "order": null,
            "overflow": null,
            "overflow_x": null,
            "overflow_y": null,
            "padding": null,
            "right": null,
            "top": null,
            "visibility": null,
            "width": null
          }
        },
        "1a4282a6ff1b4b6ba1dac2608f286aa5": {
          "model_module": "@jupyter-widgets/controls",
          "model_name": "DescriptionStyleModel",
          "model_module_version": "1.5.0",
          "state": {
            "_model_module": "@jupyter-widgets/controls",
            "_model_module_version": "1.5.0",
            "_model_name": "DescriptionStyleModel",
            "_view_count": null,
            "_view_module": "@jupyter-widgets/base",
            "_view_module_version": "1.2.0",
            "_view_name": "StyleView",
            "description_width": ""
          }
        },
        "4daf1b4bbffe464c883b2cfde46ee412": {
          "model_module": "@jupyter-widgets/controls",
          "model_name": "HBoxModel",
          "model_module_version": "1.5.0",
          "state": {
            "_dom_classes": [],
            "_model_module": "@jupyter-widgets/controls",
            "_model_module_version": "1.5.0",
            "_model_name": "HBoxModel",
            "_view_count": null,
            "_view_module": "@jupyter-widgets/controls",
            "_view_module_version": "1.5.0",
            "_view_name": "HBoxView",
            "box_style": "",
            "children": [
              "IPY_MODEL_c08a1bf62d1449f8a3ee06ec7e9632c2",
              "IPY_MODEL_72c32e565e364187b99737c380a0371d",
              "IPY_MODEL_6c24dba8ccf84f1bba4a810a7a98ed59"
            ],
            "layout": "IPY_MODEL_77414c3378a04c178ea3e832561bc4b7"
          }
        },
        "c08a1bf62d1449f8a3ee06ec7e9632c2": {
          "model_module": "@jupyter-widgets/controls",
          "model_name": "HTMLModel",
          "model_module_version": "1.5.0",
          "state": {
            "_dom_classes": [],
            "_model_module": "@jupyter-widgets/controls",
            "_model_module_version": "1.5.0",
            "_model_name": "HTMLModel",
            "_view_count": null,
            "_view_module": "@jupyter-widgets/controls",
            "_view_module_version": "1.5.0",
            "_view_name": "HTMLView",
            "description": "",
            "description_tooltip": null,
            "layout": "IPY_MODEL_e640ee2135a445a38d6e2fdc030b9f5e",
            "placeholder": "​",
            "style": "IPY_MODEL_4b924dfee4db411aace23159662938f2",
            "value": "100%"
          }
        },
        "72c32e565e364187b99737c380a0371d": {
          "model_module": "@jupyter-widgets/controls",
          "model_name": "FloatProgressModel",
          "model_module_version": "1.5.0",
          "state": {
            "_dom_classes": [],
            "_model_module": "@jupyter-widgets/controls",
            "_model_module_version": "1.5.0",
            "_model_name": "FloatProgressModel",
            "_view_count": null,
            "_view_module": "@jupyter-widgets/controls",
            "_view_module_version": "1.5.0",
            "_view_name": "ProgressView",
            "bar_style": "success",
            "description": "",
            "description_tooltip": null,
            "layout": "IPY_MODEL_38e96c263a1f4a76aef337f812b790fa",
            "max": 1250,
            "min": 0,
            "orientation": "horizontal",
            "style": "IPY_MODEL_bd5cb089e09449988f1169e50c5a67ad",
            "value": 1250
          }
        },
        "6c24dba8ccf84f1bba4a810a7a98ed59": {
          "model_module": "@jupyter-widgets/controls",
          "model_name": "HTMLModel",
          "model_module_version": "1.5.0",
          "state": {
            "_dom_classes": [],
            "_model_module": "@jupyter-widgets/controls",
            "_model_module_version": "1.5.0",
            "_model_name": "HTMLModel",
            "_view_count": null,
            "_view_module": "@jupyter-widgets/controls",
            "_view_module_version": "1.5.0",
            "_view_name": "HTMLView",
            "description": "",
            "description_tooltip": null,
            "layout": "IPY_MODEL_a0e5c33ebcfd4f839d636b9b9c7e5098",
            "placeholder": "​",
            "style": "IPY_MODEL_889c99e6784f4e98b754f3e9c53a679f",
            "value": " 1250/1250 [03:27&lt;00:00,  6.15it/s]"
          }
        },
        "77414c3378a04c178ea3e832561bc4b7": {
          "model_module": "@jupyter-widgets/base",
          "model_name": "LayoutModel",
          "model_module_version": "1.2.0",
          "state": {
            "_model_module": "@jupyter-widgets/base",
            "_model_module_version": "1.2.0",
            "_model_name": "LayoutModel",
            "_view_count": null,
            "_view_module": "@jupyter-widgets/base",
            "_view_module_version": "1.2.0",
            "_view_name": "LayoutView",
            "align_content": null,
            "align_items": null,
            "align_self": null,
            "border": null,
            "bottom": null,
            "display": null,
            "flex": null,
            "flex_flow": null,
            "grid_area": null,
            "grid_auto_columns": null,
            "grid_auto_flow": null,
            "grid_auto_rows": null,
            "grid_column": null,
            "grid_gap": null,
            "grid_row": null,
            "grid_template_areas": null,
            "grid_template_columns": null,
            "grid_template_rows": null,
            "height": null,
            "justify_content": null,
            "justify_items": null,
            "left": null,
            "margin": null,
            "max_height": null,
            "max_width": null,
            "min_height": null,
            "min_width": null,
            "object_fit": null,
            "object_position": null,
            "order": null,
            "overflow": null,
            "overflow_x": null,
            "overflow_y": null,
            "padding": null,
            "right": null,
            "top": null,
            "visibility": null,
            "width": null
          }
        },
        "e640ee2135a445a38d6e2fdc030b9f5e": {
          "model_module": "@jupyter-widgets/base",
          "model_name": "LayoutModel",
          "model_module_version": "1.2.0",
          "state": {
            "_model_module": "@jupyter-widgets/base",
            "_model_module_version": "1.2.0",
            "_model_name": "LayoutModel",
            "_view_count": null,
            "_view_module": "@jupyter-widgets/base",
            "_view_module_version": "1.2.0",
            "_view_name": "LayoutView",
            "align_content": null,
            "align_items": null,
            "align_self": null,
            "border": null,
            "bottom": null,
            "display": null,
            "flex": null,
            "flex_flow": null,
            "grid_area": null,
            "grid_auto_columns": null,
            "grid_auto_flow": null,
            "grid_auto_rows": null,
            "grid_column": null,
            "grid_gap": null,
            "grid_row": null,
            "grid_template_areas": null,
            "grid_template_columns": null,
            "grid_template_rows": null,
            "height": null,
            "justify_content": null,
            "justify_items": null,
            "left": null,
            "margin": null,
            "max_height": null,
            "max_width": null,
            "min_height": null,
            "min_width": null,
            "object_fit": null,
            "object_position": null,
            "order": null,
            "overflow": null,
            "overflow_x": null,
            "overflow_y": null,
            "padding": null,
            "right": null,
            "top": null,
            "visibility": null,
            "width": null
          }
        },
        "4b924dfee4db411aace23159662938f2": {
          "model_module": "@jupyter-widgets/controls",
          "model_name": "DescriptionStyleModel",
          "model_module_version": "1.5.0",
          "state": {
            "_model_module": "@jupyter-widgets/controls",
            "_model_module_version": "1.5.0",
            "_model_name": "DescriptionStyleModel",
            "_view_count": null,
            "_view_module": "@jupyter-widgets/base",
            "_view_module_version": "1.2.0",
            "_view_name": "StyleView",
            "description_width": ""
          }
        },
        "38e96c263a1f4a76aef337f812b790fa": {
          "model_module": "@jupyter-widgets/base",
          "model_name": "LayoutModel",
          "model_module_version": "1.2.0",
          "state": {
            "_model_module": "@jupyter-widgets/base",
            "_model_module_version": "1.2.0",
            "_model_name": "LayoutModel",
            "_view_count": null,
            "_view_module": "@jupyter-widgets/base",
            "_view_module_version": "1.2.0",
            "_view_name": "LayoutView",
            "align_content": null,
            "align_items": null,
            "align_self": null,
            "border": null,
            "bottom": null,
            "display": null,
            "flex": null,
            "flex_flow": null,
            "grid_area": null,
            "grid_auto_columns": null,
            "grid_auto_flow": null,
            "grid_auto_rows": null,
            "grid_column": null,
            "grid_gap": null,
            "grid_row": null,
            "grid_template_areas": null,
            "grid_template_columns": null,
            "grid_template_rows": null,
            "height": null,
            "justify_content": null,
            "justify_items": null,
            "left": null,
            "margin": null,
            "max_height": null,
            "max_width": null,
            "min_height": null,
            "min_width": null,
            "object_fit": null,
            "object_position": null,
            "order": null,
            "overflow": null,
            "overflow_x": null,
            "overflow_y": null,
            "padding": null,
            "right": null,
            "top": null,
            "visibility": null,
            "width": null
          }
        },
        "bd5cb089e09449988f1169e50c5a67ad": {
          "model_module": "@jupyter-widgets/controls",
          "model_name": "ProgressStyleModel",
          "model_module_version": "1.5.0",
          "state": {
            "_model_module": "@jupyter-widgets/controls",
            "_model_module_version": "1.5.0",
            "_model_name": "ProgressStyleModel",
            "_view_count": null,
            "_view_module": "@jupyter-widgets/base",
            "_view_module_version": "1.2.0",
            "_view_name": "StyleView",
            "bar_color": null,
            "description_width": ""
          }
        },
        "a0e5c33ebcfd4f839d636b9b9c7e5098": {
          "model_module": "@jupyter-widgets/base",
          "model_name": "LayoutModel",
          "model_module_version": "1.2.0",
          "state": {
            "_model_module": "@jupyter-widgets/base",
            "_model_module_version": "1.2.0",
            "_model_name": "LayoutModel",
            "_view_count": null,
            "_view_module": "@jupyter-widgets/base",
            "_view_module_version": "1.2.0",
            "_view_name": "LayoutView",
            "align_content": null,
            "align_items": null,
            "align_self": null,
            "border": null,
            "bottom": null,
            "display": null,
            "flex": null,
            "flex_flow": null,
            "grid_area": null,
            "grid_auto_columns": null,
            "grid_auto_flow": null,
            "grid_auto_rows": null,
            "grid_column": null,
            "grid_gap": null,
            "grid_row": null,
            "grid_template_areas": null,
            "grid_template_columns": null,
            "grid_template_rows": null,
            "height": null,
            "justify_content": null,
            "justify_items": null,
            "left": null,
            "margin": null,
            "max_height": null,
            "max_width": null,
            "min_height": null,
            "min_width": null,
            "object_fit": null,
            "object_position": null,
            "order": null,
            "overflow": null,
            "overflow_x": null,
            "overflow_y": null,
            "padding": null,
            "right": null,
            "top": null,
            "visibility": null,
            "width": null
          }
        },
        "889c99e6784f4e98b754f3e9c53a679f": {
          "model_module": "@jupyter-widgets/controls",
          "model_name": "DescriptionStyleModel",
          "model_module_version": "1.5.0",
          "state": {
            "_model_module": "@jupyter-widgets/controls",
            "_model_module_version": "1.5.0",
            "_model_name": "DescriptionStyleModel",
            "_view_count": null,
            "_view_module": "@jupyter-widgets/base",
            "_view_module_version": "1.2.0",
            "_view_name": "StyleView",
            "description_width": ""
          }
        },
        "c0a6a6862afc4091832a8d3f6238da74": {
          "model_module": "@jupyter-widgets/controls",
          "model_name": "HBoxModel",
          "model_module_version": "1.5.0",
          "state": {
            "_dom_classes": [],
            "_model_module": "@jupyter-widgets/controls",
            "_model_module_version": "1.5.0",
            "_model_name": "HBoxModel",
            "_view_count": null,
            "_view_module": "@jupyter-widgets/controls",
            "_view_module_version": "1.5.0",
            "_view_name": "HBoxView",
            "box_style": "",
            "children": [
              "IPY_MODEL_800a332b38f64845b198764d532b288e",
              "IPY_MODEL_d2ecd3b0f78d4919ad797b7b7d39c10a",
              "IPY_MODEL_a9f44df2becc4a7da8b53ea1caa44c95"
            ],
            "layout": "IPY_MODEL_1db4c20e04ca4a4380ad808d18304632"
          }
        },
        "800a332b38f64845b198764d532b288e": {
          "model_module": "@jupyter-widgets/controls",
          "model_name": "HTMLModel",
          "model_module_version": "1.5.0",
          "state": {
            "_dom_classes": [],
            "_model_module": "@jupyter-widgets/controls",
            "_model_module_version": "1.5.0",
            "_model_name": "HTMLModel",
            "_view_count": null,
            "_view_module": "@jupyter-widgets/controls",
            "_view_module_version": "1.5.0",
            "_view_name": "HTMLView",
            "description": "",
            "description_tooltip": null,
            "layout": "IPY_MODEL_ca47bdf6a90e4e069e75c5278c66e265",
            "placeholder": "​",
            "style": "IPY_MODEL_0cbbfca1b5cd4c8a83db23833291fe8d",
            "value": "100%"
          }
        },
        "d2ecd3b0f78d4919ad797b7b7d39c10a": {
          "model_module": "@jupyter-widgets/controls",
          "model_name": "FloatProgressModel",
          "model_module_version": "1.5.0",
          "state": {
            "_dom_classes": [],
            "_model_module": "@jupyter-widgets/controls",
            "_model_module_version": "1.5.0",
            "_model_name": "FloatProgressModel",
            "_view_count": null,
            "_view_module": "@jupyter-widgets/controls",
            "_view_module_version": "1.5.0",
            "_view_name": "ProgressView",
            "bar_style": "success",
            "description": "",
            "description_tooltip": null,
            "layout": "IPY_MODEL_33e16600e0414651b979b12217ba741b",
            "max": 1250,
            "min": 0,
            "orientation": "horizontal",
            "style": "IPY_MODEL_8b934752c2bc4699980c42a1eb393dca",
            "value": 1250
          }
        },
        "a9f44df2becc4a7da8b53ea1caa44c95": {
          "model_module": "@jupyter-widgets/controls",
          "model_name": "HTMLModel",
          "model_module_version": "1.5.0",
          "state": {
            "_dom_classes": [],
            "_model_module": "@jupyter-widgets/controls",
            "_model_module_version": "1.5.0",
            "_model_name": "HTMLModel",
            "_view_count": null,
            "_view_module": "@jupyter-widgets/controls",
            "_view_module_version": "1.5.0",
            "_view_name": "HTMLView",
            "description": "",
            "description_tooltip": null,
            "layout": "IPY_MODEL_e7d9da26efc34935be3ef24a8e7c5785",
            "placeholder": "​",
            "style": "IPY_MODEL_107474acb9184bcfbc87436caf5f17f2",
            "value": " 1250/1250 [03:25&lt;00:00,  5.97it/s]"
          }
        },
        "1db4c20e04ca4a4380ad808d18304632": {
          "model_module": "@jupyter-widgets/base",
          "model_name": "LayoutModel",
          "model_module_version": "1.2.0",
          "state": {
            "_model_module": "@jupyter-widgets/base",
            "_model_module_version": "1.2.0",
            "_model_name": "LayoutModel",
            "_view_count": null,
            "_view_module": "@jupyter-widgets/base",
            "_view_module_version": "1.2.0",
            "_view_name": "LayoutView",
            "align_content": null,
            "align_items": null,
            "align_self": null,
            "border": null,
            "bottom": null,
            "display": null,
            "flex": null,
            "flex_flow": null,
            "grid_area": null,
            "grid_auto_columns": null,
            "grid_auto_flow": null,
            "grid_auto_rows": null,
            "grid_column": null,
            "grid_gap": null,
            "grid_row": null,
            "grid_template_areas": null,
            "grid_template_columns": null,
            "grid_template_rows": null,
            "height": null,
            "justify_content": null,
            "justify_items": null,
            "left": null,
            "margin": null,
            "max_height": null,
            "max_width": null,
            "min_height": null,
            "min_width": null,
            "object_fit": null,
            "object_position": null,
            "order": null,
            "overflow": null,
            "overflow_x": null,
            "overflow_y": null,
            "padding": null,
            "right": null,
            "top": null,
            "visibility": null,
            "width": null
          }
        },
        "ca47bdf6a90e4e069e75c5278c66e265": {
          "model_module": "@jupyter-widgets/base",
          "model_name": "LayoutModel",
          "model_module_version": "1.2.0",
          "state": {
            "_model_module": "@jupyter-widgets/base",
            "_model_module_version": "1.2.0",
            "_model_name": "LayoutModel",
            "_view_count": null,
            "_view_module": "@jupyter-widgets/base",
            "_view_module_version": "1.2.0",
            "_view_name": "LayoutView",
            "align_content": null,
            "align_items": null,
            "align_self": null,
            "border": null,
            "bottom": null,
            "display": null,
            "flex": null,
            "flex_flow": null,
            "grid_area": null,
            "grid_auto_columns": null,
            "grid_auto_flow": null,
            "grid_auto_rows": null,
            "grid_column": null,
            "grid_gap": null,
            "grid_row": null,
            "grid_template_areas": null,
            "grid_template_columns": null,
            "grid_template_rows": null,
            "height": null,
            "justify_content": null,
            "justify_items": null,
            "left": null,
            "margin": null,
            "max_height": null,
            "max_width": null,
            "min_height": null,
            "min_width": null,
            "object_fit": null,
            "object_position": null,
            "order": null,
            "overflow": null,
            "overflow_x": null,
            "overflow_y": null,
            "padding": null,
            "right": null,
            "top": null,
            "visibility": null,
            "width": null
          }
        },
        "0cbbfca1b5cd4c8a83db23833291fe8d": {
          "model_module": "@jupyter-widgets/controls",
          "model_name": "DescriptionStyleModel",
          "model_module_version": "1.5.0",
          "state": {
            "_model_module": "@jupyter-widgets/controls",
            "_model_module_version": "1.5.0",
            "_model_name": "DescriptionStyleModel",
            "_view_count": null,
            "_view_module": "@jupyter-widgets/base",
            "_view_module_version": "1.2.0",
            "_view_name": "StyleView",
            "description_width": ""
          }
        },
        "33e16600e0414651b979b12217ba741b": {
          "model_module": "@jupyter-widgets/base",
          "model_name": "LayoutModel",
          "model_module_version": "1.2.0",
          "state": {
            "_model_module": "@jupyter-widgets/base",
            "_model_module_version": "1.2.0",
            "_model_name": "LayoutModel",
            "_view_count": null,
            "_view_module": "@jupyter-widgets/base",
            "_view_module_version": "1.2.0",
            "_view_name": "LayoutView",
            "align_content": null,
            "align_items": null,
            "align_self": null,
            "border": null,
            "bottom": null,
            "display": null,
            "flex": null,
            "flex_flow": null,
            "grid_area": null,
            "grid_auto_columns": null,
            "grid_auto_flow": null,
            "grid_auto_rows": null,
            "grid_column": null,
            "grid_gap": null,
            "grid_row": null,
            "grid_template_areas": null,
            "grid_template_columns": null,
            "grid_template_rows": null,
            "height": null,
            "justify_content": null,
            "justify_items": null,
            "left": null,
            "margin": null,
            "max_height": null,
            "max_width": null,
            "min_height": null,
            "min_width": null,
            "object_fit": null,
            "object_position": null,
            "order": null,
            "overflow": null,
            "overflow_x": null,
            "overflow_y": null,
            "padding": null,
            "right": null,
            "top": null,
            "visibility": null,
            "width": null
          }
        },
        "8b934752c2bc4699980c42a1eb393dca": {
          "model_module": "@jupyter-widgets/controls",
          "model_name": "ProgressStyleModel",
          "model_module_version": "1.5.0",
          "state": {
            "_model_module": "@jupyter-widgets/controls",
            "_model_module_version": "1.5.0",
            "_model_name": "ProgressStyleModel",
            "_view_count": null,
            "_view_module": "@jupyter-widgets/base",
            "_view_module_version": "1.2.0",
            "_view_name": "StyleView",
            "bar_color": null,
            "description_width": ""
          }
        },
        "e7d9da26efc34935be3ef24a8e7c5785": {
          "model_module": "@jupyter-widgets/base",
          "model_name": "LayoutModel",
          "model_module_version": "1.2.0",
          "state": {
            "_model_module": "@jupyter-widgets/base",
            "_model_module_version": "1.2.0",
            "_model_name": "LayoutModel",
            "_view_count": null,
            "_view_module": "@jupyter-widgets/base",
            "_view_module_version": "1.2.0",
            "_view_name": "LayoutView",
            "align_content": null,
            "align_items": null,
            "align_self": null,
            "border": null,
            "bottom": null,
            "display": null,
            "flex": null,
            "flex_flow": null,
            "grid_area": null,
            "grid_auto_columns": null,
            "grid_auto_flow": null,
            "grid_auto_rows": null,
            "grid_column": null,
            "grid_gap": null,
            "grid_row": null,
            "grid_template_areas": null,
            "grid_template_columns": null,
            "grid_template_rows": null,
            "height": null,
            "justify_content": null,
            "justify_items": null,
            "left": null,
            "margin": null,
            "max_height": null,
            "max_width": null,
            "min_height": null,
            "min_width": null,
            "object_fit": null,
            "object_position": null,
            "order": null,
            "overflow": null,
            "overflow_x": null,
            "overflow_y": null,
            "padding": null,
            "right": null,
            "top": null,
            "visibility": null,
            "width": null
          }
        },
        "107474acb9184bcfbc87436caf5f17f2": {
          "model_module": "@jupyter-widgets/controls",
          "model_name": "DescriptionStyleModel",
          "model_module_version": "1.5.0",
          "state": {
            "_model_module": "@jupyter-widgets/controls",
            "_model_module_version": "1.5.0",
            "_model_name": "DescriptionStyleModel",
            "_view_count": null,
            "_view_module": "@jupyter-widgets/base",
            "_view_module_version": "1.2.0",
            "_view_name": "StyleView",
            "description_width": ""
          }
        },
        "a074b614ad3449c6af4d07e17504ea2f": {
          "model_module": "@jupyter-widgets/controls",
          "model_name": "HBoxModel",
          "model_module_version": "1.5.0",
          "state": {
            "_dom_classes": [],
            "_model_module": "@jupyter-widgets/controls",
            "_model_module_version": "1.5.0",
            "_model_name": "HBoxModel",
            "_view_count": null,
            "_view_module": "@jupyter-widgets/controls",
            "_view_module_version": "1.5.0",
            "_view_name": "HBoxView",
            "box_style": "",
            "children": [
              "IPY_MODEL_61b4fa89b2b6406e874faae5f6d5a7ba",
              "IPY_MODEL_0fd8ec3a73084b23a6caf034aefbd810",
              "IPY_MODEL_0920797b6d8e48f591933c6b9b340065"
            ],
            "layout": "IPY_MODEL_5692a089960a4ffea54e965184103415"
          }
        },
        "61b4fa89b2b6406e874faae5f6d5a7ba": {
          "model_module": "@jupyter-widgets/controls",
          "model_name": "HTMLModel",
          "model_module_version": "1.5.0",
          "state": {
            "_dom_classes": [],
            "_model_module": "@jupyter-widgets/controls",
            "_model_module_version": "1.5.0",
            "_model_name": "HTMLModel",
            "_view_count": null,
            "_view_module": "@jupyter-widgets/controls",
            "_view_module_version": "1.5.0",
            "_view_name": "HTMLView",
            "description": "",
            "description_tooltip": null,
            "layout": "IPY_MODEL_7f479a9c560448088f6a089038c9d6c6",
            "placeholder": "​",
            "style": "IPY_MODEL_57ce90f1de4c4507863bff3ebe786059",
            "value": "100%"
          }
        },
        "0fd8ec3a73084b23a6caf034aefbd810": {
          "model_module": "@jupyter-widgets/controls",
          "model_name": "FloatProgressModel",
          "model_module_version": "1.5.0",
          "state": {
            "_dom_classes": [],
            "_model_module": "@jupyter-widgets/controls",
            "_model_module_version": "1.5.0",
            "_model_name": "FloatProgressModel",
            "_view_count": null,
            "_view_module": "@jupyter-widgets/controls",
            "_view_module_version": "1.5.0",
            "_view_name": "ProgressView",
            "bar_style": "success",
            "description": "",
            "description_tooltip": null,
            "layout": "IPY_MODEL_b2adf4f18a9d44c69ef1d316689fea54",
            "max": 1250,
            "min": 0,
            "orientation": "horizontal",
            "style": "IPY_MODEL_de90da27a8444001803785dac16fcdd0",
            "value": 1250
          }
        },
        "0920797b6d8e48f591933c6b9b340065": {
          "model_module": "@jupyter-widgets/controls",
          "model_name": "HTMLModel",
          "model_module_version": "1.5.0",
          "state": {
            "_dom_classes": [],
            "_model_module": "@jupyter-widgets/controls",
            "_model_module_version": "1.5.0",
            "_model_name": "HTMLModel",
            "_view_count": null,
            "_view_module": "@jupyter-widgets/controls",
            "_view_module_version": "1.5.0",
            "_view_name": "HTMLView",
            "description": "",
            "description_tooltip": null,
            "layout": "IPY_MODEL_2df16000e35b4cb08f7ce1832171b8ad",
            "placeholder": "​",
            "style": "IPY_MODEL_b9595a2584954569bc7b802fbff57e75",
            "value": " 1250/1250 [03:25&lt;00:00,  6.12it/s]"
          }
        },
        "5692a089960a4ffea54e965184103415": {
          "model_module": "@jupyter-widgets/base",
          "model_name": "LayoutModel",
          "model_module_version": "1.2.0",
          "state": {
            "_model_module": "@jupyter-widgets/base",
            "_model_module_version": "1.2.0",
            "_model_name": "LayoutModel",
            "_view_count": null,
            "_view_module": "@jupyter-widgets/base",
            "_view_module_version": "1.2.0",
            "_view_name": "LayoutView",
            "align_content": null,
            "align_items": null,
            "align_self": null,
            "border": null,
            "bottom": null,
            "display": null,
            "flex": null,
            "flex_flow": null,
            "grid_area": null,
            "grid_auto_columns": null,
            "grid_auto_flow": null,
            "grid_auto_rows": null,
            "grid_column": null,
            "grid_gap": null,
            "grid_row": null,
            "grid_template_areas": null,
            "grid_template_columns": null,
            "grid_template_rows": null,
            "height": null,
            "justify_content": null,
            "justify_items": null,
            "left": null,
            "margin": null,
            "max_height": null,
            "max_width": null,
            "min_height": null,
            "min_width": null,
            "object_fit": null,
            "object_position": null,
            "order": null,
            "overflow": null,
            "overflow_x": null,
            "overflow_y": null,
            "padding": null,
            "right": null,
            "top": null,
            "visibility": null,
            "width": null
          }
        },
        "7f479a9c560448088f6a089038c9d6c6": {
          "model_module": "@jupyter-widgets/base",
          "model_name": "LayoutModel",
          "model_module_version": "1.2.0",
          "state": {
            "_model_module": "@jupyter-widgets/base",
            "_model_module_version": "1.2.0",
            "_model_name": "LayoutModel",
            "_view_count": null,
            "_view_module": "@jupyter-widgets/base",
            "_view_module_version": "1.2.0",
            "_view_name": "LayoutView",
            "align_content": null,
            "align_items": null,
            "align_self": null,
            "border": null,
            "bottom": null,
            "display": null,
            "flex": null,
            "flex_flow": null,
            "grid_area": null,
            "grid_auto_columns": null,
            "grid_auto_flow": null,
            "grid_auto_rows": null,
            "grid_column": null,
            "grid_gap": null,
            "grid_row": null,
            "grid_template_areas": null,
            "grid_template_columns": null,
            "grid_template_rows": null,
            "height": null,
            "justify_content": null,
            "justify_items": null,
            "left": null,
            "margin": null,
            "max_height": null,
            "max_width": null,
            "min_height": null,
            "min_width": null,
            "object_fit": null,
            "object_position": null,
            "order": null,
            "overflow": null,
            "overflow_x": null,
            "overflow_y": null,
            "padding": null,
            "right": null,
            "top": null,
            "visibility": null,
            "width": null
          }
        },
        "57ce90f1de4c4507863bff3ebe786059": {
          "model_module": "@jupyter-widgets/controls",
          "model_name": "DescriptionStyleModel",
          "model_module_version": "1.5.0",
          "state": {
            "_model_module": "@jupyter-widgets/controls",
            "_model_module_version": "1.5.0",
            "_model_name": "DescriptionStyleModel",
            "_view_count": null,
            "_view_module": "@jupyter-widgets/base",
            "_view_module_version": "1.2.0",
            "_view_name": "StyleView",
            "description_width": ""
          }
        },
        "b2adf4f18a9d44c69ef1d316689fea54": {
          "model_module": "@jupyter-widgets/base",
          "model_name": "LayoutModel",
          "model_module_version": "1.2.0",
          "state": {
            "_model_module": "@jupyter-widgets/base",
            "_model_module_version": "1.2.0",
            "_model_name": "LayoutModel",
            "_view_count": null,
            "_view_module": "@jupyter-widgets/base",
            "_view_module_version": "1.2.0",
            "_view_name": "LayoutView",
            "align_content": null,
            "align_items": null,
            "align_self": null,
            "border": null,
            "bottom": null,
            "display": null,
            "flex": null,
            "flex_flow": null,
            "grid_area": null,
            "grid_auto_columns": null,
            "grid_auto_flow": null,
            "grid_auto_rows": null,
            "grid_column": null,
            "grid_gap": null,
            "grid_row": null,
            "grid_template_areas": null,
            "grid_template_columns": null,
            "grid_template_rows": null,
            "height": null,
            "justify_content": null,
            "justify_items": null,
            "left": null,
            "margin": null,
            "max_height": null,
            "max_width": null,
            "min_height": null,
            "min_width": null,
            "object_fit": null,
            "object_position": null,
            "order": null,
            "overflow": null,
            "overflow_x": null,
            "overflow_y": null,
            "padding": null,
            "right": null,
            "top": null,
            "visibility": null,
            "width": null
          }
        },
        "de90da27a8444001803785dac16fcdd0": {
          "model_module": "@jupyter-widgets/controls",
          "model_name": "ProgressStyleModel",
          "model_module_version": "1.5.0",
          "state": {
            "_model_module": "@jupyter-widgets/controls",
            "_model_module_version": "1.5.0",
            "_model_name": "ProgressStyleModel",
            "_view_count": null,
            "_view_module": "@jupyter-widgets/base",
            "_view_module_version": "1.2.0",
            "_view_name": "StyleView",
            "bar_color": null,
            "description_width": ""
          }
        },
        "2df16000e35b4cb08f7ce1832171b8ad": {
          "model_module": "@jupyter-widgets/base",
          "model_name": "LayoutModel",
          "model_module_version": "1.2.0",
          "state": {
            "_model_module": "@jupyter-widgets/base",
            "_model_module_version": "1.2.0",
            "_model_name": "LayoutModel",
            "_view_count": null,
            "_view_module": "@jupyter-widgets/base",
            "_view_module_version": "1.2.0",
            "_view_name": "LayoutView",
            "align_content": null,
            "align_items": null,
            "align_self": null,
            "border": null,
            "bottom": null,
            "display": null,
            "flex": null,
            "flex_flow": null,
            "grid_area": null,
            "grid_auto_columns": null,
            "grid_auto_flow": null,
            "grid_auto_rows": null,
            "grid_column": null,
            "grid_gap": null,
            "grid_row": null,
            "grid_template_areas": null,
            "grid_template_columns": null,
            "grid_template_rows": null,
            "height": null,
            "justify_content": null,
            "justify_items": null,
            "left": null,
            "margin": null,
            "max_height": null,
            "max_width": null,
            "min_height": null,
            "min_width": null,
            "object_fit": null,
            "object_position": null,
            "order": null,
            "overflow": null,
            "overflow_x": null,
            "overflow_y": null,
            "padding": null,
            "right": null,
            "top": null,
            "visibility": null,
            "width": null
          }
        },
        "b9595a2584954569bc7b802fbff57e75": {
          "model_module": "@jupyter-widgets/controls",
          "model_name": "DescriptionStyleModel",
          "model_module_version": "1.5.0",
          "state": {
            "_model_module": "@jupyter-widgets/controls",
            "_model_module_version": "1.5.0",
            "_model_name": "DescriptionStyleModel",
            "_view_count": null,
            "_view_module": "@jupyter-widgets/base",
            "_view_module_version": "1.2.0",
            "_view_name": "StyleView",
            "description_width": ""
          }
        },
        "022b5355b6df43c294708e03cb2f64eb": {
          "model_module": "@jupyter-widgets/controls",
          "model_name": "HBoxModel",
          "model_module_version": "1.5.0",
          "state": {
            "_dom_classes": [],
            "_model_module": "@jupyter-widgets/controls",
            "_model_module_version": "1.5.0",
            "_model_name": "HBoxModel",
            "_view_count": null,
            "_view_module": "@jupyter-widgets/controls",
            "_view_module_version": "1.5.0",
            "_view_name": "HBoxView",
            "box_style": "",
            "children": [
              "IPY_MODEL_19d7ffbef9b4497eb40014e96891df8e",
              "IPY_MODEL_e7ae5cf3d8d44ecfb52e7db16579f71f",
              "IPY_MODEL_e8cf145fc1224c43b6d61649e292fe5e"
            ],
            "layout": "IPY_MODEL_d036322a81ba416c876dee2c848b3ae0"
          }
        },
        "19d7ffbef9b4497eb40014e96891df8e": {
          "model_module": "@jupyter-widgets/controls",
          "model_name": "HTMLModel",
          "model_module_version": "1.5.0",
          "state": {
            "_dom_classes": [],
            "_model_module": "@jupyter-widgets/controls",
            "_model_module_version": "1.5.0",
            "_model_name": "HTMLModel",
            "_view_count": null,
            "_view_module": "@jupyter-widgets/controls",
            "_view_module_version": "1.5.0",
            "_view_name": "HTMLView",
            "description": "",
            "description_tooltip": null,
            "layout": "IPY_MODEL_306eda18c43342978b1968c7d8d9eccc",
            "placeholder": "​",
            "style": "IPY_MODEL_e10082a7a8854976ac0de6e6d83e5aca",
            "value": "100%"
          }
        },
        "e7ae5cf3d8d44ecfb52e7db16579f71f": {
          "model_module": "@jupyter-widgets/controls",
          "model_name": "FloatProgressModel",
          "model_module_version": "1.5.0",
          "state": {
            "_dom_classes": [],
            "_model_module": "@jupyter-widgets/controls",
            "_model_module_version": "1.5.0",
            "_model_name": "FloatProgressModel",
            "_view_count": null,
            "_view_module": "@jupyter-widgets/controls",
            "_view_module_version": "1.5.0",
            "_view_name": "ProgressView",
            "bar_style": "success",
            "description": "",
            "description_tooltip": null,
            "layout": "IPY_MODEL_57911e3c7096437094fed35c25a6908a",
            "max": 1250,
            "min": 0,
            "orientation": "horizontal",
            "style": "IPY_MODEL_c18b36824c4d4698b65deae7f26dded2",
            "value": 1250
          }
        },
        "e8cf145fc1224c43b6d61649e292fe5e": {
          "model_module": "@jupyter-widgets/controls",
          "model_name": "HTMLModel",
          "model_module_version": "1.5.0",
          "state": {
            "_dom_classes": [],
            "_model_module": "@jupyter-widgets/controls",
            "_model_module_version": "1.5.0",
            "_model_name": "HTMLModel",
            "_view_count": null,
            "_view_module": "@jupyter-widgets/controls",
            "_view_module_version": "1.5.0",
            "_view_name": "HTMLView",
            "description": "",
            "description_tooltip": null,
            "layout": "IPY_MODEL_25203c4ea7ce42aebd069af691434344",
            "placeholder": "​",
            "style": "IPY_MODEL_fb0f5c5bc5c9415daf34674b6da14f88",
            "value": " 1250/1250 [03:25&lt;00:00,  6.15it/s]"
          }
        },
        "d036322a81ba416c876dee2c848b3ae0": {
          "model_module": "@jupyter-widgets/base",
          "model_name": "LayoutModel",
          "model_module_version": "1.2.0",
          "state": {
            "_model_module": "@jupyter-widgets/base",
            "_model_module_version": "1.2.0",
            "_model_name": "LayoutModel",
            "_view_count": null,
            "_view_module": "@jupyter-widgets/base",
            "_view_module_version": "1.2.0",
            "_view_name": "LayoutView",
            "align_content": null,
            "align_items": null,
            "align_self": null,
            "border": null,
            "bottom": null,
            "display": null,
            "flex": null,
            "flex_flow": null,
            "grid_area": null,
            "grid_auto_columns": null,
            "grid_auto_flow": null,
            "grid_auto_rows": null,
            "grid_column": null,
            "grid_gap": null,
            "grid_row": null,
            "grid_template_areas": null,
            "grid_template_columns": null,
            "grid_template_rows": null,
            "height": null,
            "justify_content": null,
            "justify_items": null,
            "left": null,
            "margin": null,
            "max_height": null,
            "max_width": null,
            "min_height": null,
            "min_width": null,
            "object_fit": null,
            "object_position": null,
            "order": null,
            "overflow": null,
            "overflow_x": null,
            "overflow_y": null,
            "padding": null,
            "right": null,
            "top": null,
            "visibility": null,
            "width": null
          }
        },
        "306eda18c43342978b1968c7d8d9eccc": {
          "model_module": "@jupyter-widgets/base",
          "model_name": "LayoutModel",
          "model_module_version": "1.2.0",
          "state": {
            "_model_module": "@jupyter-widgets/base",
            "_model_module_version": "1.2.0",
            "_model_name": "LayoutModel",
            "_view_count": null,
            "_view_module": "@jupyter-widgets/base",
            "_view_module_version": "1.2.0",
            "_view_name": "LayoutView",
            "align_content": null,
            "align_items": null,
            "align_self": null,
            "border": null,
            "bottom": null,
            "display": null,
            "flex": null,
            "flex_flow": null,
            "grid_area": null,
            "grid_auto_columns": null,
            "grid_auto_flow": null,
            "grid_auto_rows": null,
            "grid_column": null,
            "grid_gap": null,
            "grid_row": null,
            "grid_template_areas": null,
            "grid_template_columns": null,
            "grid_template_rows": null,
            "height": null,
            "justify_content": null,
            "justify_items": null,
            "left": null,
            "margin": null,
            "max_height": null,
            "max_width": null,
            "min_height": null,
            "min_width": null,
            "object_fit": null,
            "object_position": null,
            "order": null,
            "overflow": null,
            "overflow_x": null,
            "overflow_y": null,
            "padding": null,
            "right": null,
            "top": null,
            "visibility": null,
            "width": null
          }
        },
        "e10082a7a8854976ac0de6e6d83e5aca": {
          "model_module": "@jupyter-widgets/controls",
          "model_name": "DescriptionStyleModel",
          "model_module_version": "1.5.0",
          "state": {
            "_model_module": "@jupyter-widgets/controls",
            "_model_module_version": "1.5.0",
            "_model_name": "DescriptionStyleModel",
            "_view_count": null,
            "_view_module": "@jupyter-widgets/base",
            "_view_module_version": "1.2.0",
            "_view_name": "StyleView",
            "description_width": ""
          }
        },
        "57911e3c7096437094fed35c25a6908a": {
          "model_module": "@jupyter-widgets/base",
          "model_name": "LayoutModel",
          "model_module_version": "1.2.0",
          "state": {
            "_model_module": "@jupyter-widgets/base",
            "_model_module_version": "1.2.0",
            "_model_name": "LayoutModel",
            "_view_count": null,
            "_view_module": "@jupyter-widgets/base",
            "_view_module_version": "1.2.0",
            "_view_name": "LayoutView",
            "align_content": null,
            "align_items": null,
            "align_self": null,
            "border": null,
            "bottom": null,
            "display": null,
            "flex": null,
            "flex_flow": null,
            "grid_area": null,
            "grid_auto_columns": null,
            "grid_auto_flow": null,
            "grid_auto_rows": null,
            "grid_column": null,
            "grid_gap": null,
            "grid_row": null,
            "grid_template_areas": null,
            "grid_template_columns": null,
            "grid_template_rows": null,
            "height": null,
            "justify_content": null,
            "justify_items": null,
            "left": null,
            "margin": null,
            "max_height": null,
            "max_width": null,
            "min_height": null,
            "min_width": null,
            "object_fit": null,
            "object_position": null,
            "order": null,
            "overflow": null,
            "overflow_x": null,
            "overflow_y": null,
            "padding": null,
            "right": null,
            "top": null,
            "visibility": null,
            "width": null
          }
        },
        "c18b36824c4d4698b65deae7f26dded2": {
          "model_module": "@jupyter-widgets/controls",
          "model_name": "ProgressStyleModel",
          "model_module_version": "1.5.0",
          "state": {
            "_model_module": "@jupyter-widgets/controls",
            "_model_module_version": "1.5.0",
            "_model_name": "ProgressStyleModel",
            "_view_count": null,
            "_view_module": "@jupyter-widgets/base",
            "_view_module_version": "1.2.0",
            "_view_name": "StyleView",
            "bar_color": null,
            "description_width": ""
          }
        },
        "25203c4ea7ce42aebd069af691434344": {
          "model_module": "@jupyter-widgets/base",
          "model_name": "LayoutModel",
          "model_module_version": "1.2.0",
          "state": {
            "_model_module": "@jupyter-widgets/base",
            "_model_module_version": "1.2.0",
            "_model_name": "LayoutModel",
            "_view_count": null,
            "_view_module": "@jupyter-widgets/base",
            "_view_module_version": "1.2.0",
            "_view_name": "LayoutView",
            "align_content": null,
            "align_items": null,
            "align_self": null,
            "border": null,
            "bottom": null,
            "display": null,
            "flex": null,
            "flex_flow": null,
            "grid_area": null,
            "grid_auto_columns": null,
            "grid_auto_flow": null,
            "grid_auto_rows": null,
            "grid_column": null,
            "grid_gap": null,
            "grid_row": null,
            "grid_template_areas": null,
            "grid_template_columns": null,
            "grid_template_rows": null,
            "height": null,
            "justify_content": null,
            "justify_items": null,
            "left": null,
            "margin": null,
            "max_height": null,
            "max_width": null,
            "min_height": null,
            "min_width": null,
            "object_fit": null,
            "object_position": null,
            "order": null,
            "overflow": null,
            "overflow_x": null,
            "overflow_y": null,
            "padding": null,
            "right": null,
            "top": null,
            "visibility": null,
            "width": null
          }
        },
        "fb0f5c5bc5c9415daf34674b6da14f88": {
          "model_module": "@jupyter-widgets/controls",
          "model_name": "DescriptionStyleModel",
          "model_module_version": "1.5.0",
          "state": {
            "_model_module": "@jupyter-widgets/controls",
            "_model_module_version": "1.5.0",
            "_model_name": "DescriptionStyleModel",
            "_view_count": null,
            "_view_module": "@jupyter-widgets/base",
            "_view_module_version": "1.2.0",
            "_view_name": "StyleView",
            "description_width": ""
          }
        },
        "4506ef4ae7144fbc8b72e6528e8ec6ea": {
          "model_module": "@jupyter-widgets/controls",
          "model_name": "HBoxModel",
          "model_module_version": "1.5.0",
          "state": {
            "_dom_classes": [],
            "_model_module": "@jupyter-widgets/controls",
            "_model_module_version": "1.5.0",
            "_model_name": "HBoxModel",
            "_view_count": null,
            "_view_module": "@jupyter-widgets/controls",
            "_view_module_version": "1.5.0",
            "_view_name": "HBoxView",
            "box_style": "",
            "children": [
              "IPY_MODEL_34296a64e29647ce8316bcc7c0df883a",
              "IPY_MODEL_052ea7f7a03c4f02965853e151dbc303",
              "IPY_MODEL_5e8b8742f4c0459996651e7a78b56bcc"
            ],
            "layout": "IPY_MODEL_aeeb5ddab838486a9d225381d15e7904"
          }
        },
        "34296a64e29647ce8316bcc7c0df883a": {
          "model_module": "@jupyter-widgets/controls",
          "model_name": "HTMLModel",
          "model_module_version": "1.5.0",
          "state": {
            "_dom_classes": [],
            "_model_module": "@jupyter-widgets/controls",
            "_model_module_version": "1.5.0",
            "_model_name": "HTMLModel",
            "_view_count": null,
            "_view_module": "@jupyter-widgets/controls",
            "_view_module_version": "1.5.0",
            "_view_name": "HTMLView",
            "description": "",
            "description_tooltip": null,
            "layout": "IPY_MODEL_1504fe98de3b42248bce8685bbdbcbcf",
            "placeholder": "​",
            "style": "IPY_MODEL_955eaed5b4f648b2898a97a3471aa024",
            "value": "100%"
          }
        },
        "052ea7f7a03c4f02965853e151dbc303": {
          "model_module": "@jupyter-widgets/controls",
          "model_name": "FloatProgressModel",
          "model_module_version": "1.5.0",
          "state": {
            "_dom_classes": [],
            "_model_module": "@jupyter-widgets/controls",
            "_model_module_version": "1.5.0",
            "_model_name": "FloatProgressModel",
            "_view_count": null,
            "_view_module": "@jupyter-widgets/controls",
            "_view_module_version": "1.5.0",
            "_view_name": "ProgressView",
            "bar_style": "success",
            "description": "",
            "description_tooltip": null,
            "layout": "IPY_MODEL_b7fe637d4db84679bf7cc6d5af5bd10d",
            "max": 1250,
            "min": 0,
            "orientation": "horizontal",
            "style": "IPY_MODEL_e772bde8d73548ddaca18f8af63fe6e0",
            "value": 1250
          }
        },
        "5e8b8742f4c0459996651e7a78b56bcc": {
          "model_module": "@jupyter-widgets/controls",
          "model_name": "HTMLModel",
          "model_module_version": "1.5.0",
          "state": {
            "_dom_classes": [],
            "_model_module": "@jupyter-widgets/controls",
            "_model_module_version": "1.5.0",
            "_model_name": "HTMLModel",
            "_view_count": null,
            "_view_module": "@jupyter-widgets/controls",
            "_view_module_version": "1.5.0",
            "_view_name": "HTMLView",
            "description": "",
            "description_tooltip": null,
            "layout": "IPY_MODEL_31d1562d60e24219a6c669b64d25d971",
            "placeholder": "​",
            "style": "IPY_MODEL_46018db87d0c47f494900d1a90f56e82",
            "value": " 1250/1250 [03:26&lt;00:00,  6.15it/s]"
          }
        },
        "aeeb5ddab838486a9d225381d15e7904": {
          "model_module": "@jupyter-widgets/base",
          "model_name": "LayoutModel",
          "model_module_version": "1.2.0",
          "state": {
            "_model_module": "@jupyter-widgets/base",
            "_model_module_version": "1.2.0",
            "_model_name": "LayoutModel",
            "_view_count": null,
            "_view_module": "@jupyter-widgets/base",
            "_view_module_version": "1.2.0",
            "_view_name": "LayoutView",
            "align_content": null,
            "align_items": null,
            "align_self": null,
            "border": null,
            "bottom": null,
            "display": null,
            "flex": null,
            "flex_flow": null,
            "grid_area": null,
            "grid_auto_columns": null,
            "grid_auto_flow": null,
            "grid_auto_rows": null,
            "grid_column": null,
            "grid_gap": null,
            "grid_row": null,
            "grid_template_areas": null,
            "grid_template_columns": null,
            "grid_template_rows": null,
            "height": null,
            "justify_content": null,
            "justify_items": null,
            "left": null,
            "margin": null,
            "max_height": null,
            "max_width": null,
            "min_height": null,
            "min_width": null,
            "object_fit": null,
            "object_position": null,
            "order": null,
            "overflow": null,
            "overflow_x": null,
            "overflow_y": null,
            "padding": null,
            "right": null,
            "top": null,
            "visibility": null,
            "width": null
          }
        },
        "1504fe98de3b42248bce8685bbdbcbcf": {
          "model_module": "@jupyter-widgets/base",
          "model_name": "LayoutModel",
          "model_module_version": "1.2.0",
          "state": {
            "_model_module": "@jupyter-widgets/base",
            "_model_module_version": "1.2.0",
            "_model_name": "LayoutModel",
            "_view_count": null,
            "_view_module": "@jupyter-widgets/base",
            "_view_module_version": "1.2.0",
            "_view_name": "LayoutView",
            "align_content": null,
            "align_items": null,
            "align_self": null,
            "border": null,
            "bottom": null,
            "display": null,
            "flex": null,
            "flex_flow": null,
            "grid_area": null,
            "grid_auto_columns": null,
            "grid_auto_flow": null,
            "grid_auto_rows": null,
            "grid_column": null,
            "grid_gap": null,
            "grid_row": null,
            "grid_template_areas": null,
            "grid_template_columns": null,
            "grid_template_rows": null,
            "height": null,
            "justify_content": null,
            "justify_items": null,
            "left": null,
            "margin": null,
            "max_height": null,
            "max_width": null,
            "min_height": null,
            "min_width": null,
            "object_fit": null,
            "object_position": null,
            "order": null,
            "overflow": null,
            "overflow_x": null,
            "overflow_y": null,
            "padding": null,
            "right": null,
            "top": null,
            "visibility": null,
            "width": null
          }
        },
        "955eaed5b4f648b2898a97a3471aa024": {
          "model_module": "@jupyter-widgets/controls",
          "model_name": "DescriptionStyleModel",
          "model_module_version": "1.5.0",
          "state": {
            "_model_module": "@jupyter-widgets/controls",
            "_model_module_version": "1.5.0",
            "_model_name": "DescriptionStyleModel",
            "_view_count": null,
            "_view_module": "@jupyter-widgets/base",
            "_view_module_version": "1.2.0",
            "_view_name": "StyleView",
            "description_width": ""
          }
        },
        "b7fe637d4db84679bf7cc6d5af5bd10d": {
          "model_module": "@jupyter-widgets/base",
          "model_name": "LayoutModel",
          "model_module_version": "1.2.0",
          "state": {
            "_model_module": "@jupyter-widgets/base",
            "_model_module_version": "1.2.0",
            "_model_name": "LayoutModel",
            "_view_count": null,
            "_view_module": "@jupyter-widgets/base",
            "_view_module_version": "1.2.0",
            "_view_name": "LayoutView",
            "align_content": null,
            "align_items": null,
            "align_self": null,
            "border": null,
            "bottom": null,
            "display": null,
            "flex": null,
            "flex_flow": null,
            "grid_area": null,
            "grid_auto_columns": null,
            "grid_auto_flow": null,
            "grid_auto_rows": null,
            "grid_column": null,
            "grid_gap": null,
            "grid_row": null,
            "grid_template_areas": null,
            "grid_template_columns": null,
            "grid_template_rows": null,
            "height": null,
            "justify_content": null,
            "justify_items": null,
            "left": null,
            "margin": null,
            "max_height": null,
            "max_width": null,
            "min_height": null,
            "min_width": null,
            "object_fit": null,
            "object_position": null,
            "order": null,
            "overflow": null,
            "overflow_x": null,
            "overflow_y": null,
            "padding": null,
            "right": null,
            "top": null,
            "visibility": null,
            "width": null
          }
        },
        "e772bde8d73548ddaca18f8af63fe6e0": {
          "model_module": "@jupyter-widgets/controls",
          "model_name": "ProgressStyleModel",
          "model_module_version": "1.5.0",
          "state": {
            "_model_module": "@jupyter-widgets/controls",
            "_model_module_version": "1.5.0",
            "_model_name": "ProgressStyleModel",
            "_view_count": null,
            "_view_module": "@jupyter-widgets/base",
            "_view_module_version": "1.2.0",
            "_view_name": "StyleView",
            "bar_color": null,
            "description_width": ""
          }
        },
        "31d1562d60e24219a6c669b64d25d971": {
          "model_module": "@jupyter-widgets/base",
          "model_name": "LayoutModel",
          "model_module_version": "1.2.0",
          "state": {
            "_model_module": "@jupyter-widgets/base",
            "_model_module_version": "1.2.0",
            "_model_name": "LayoutModel",
            "_view_count": null,
            "_view_module": "@jupyter-widgets/base",
            "_view_module_version": "1.2.0",
            "_view_name": "LayoutView",
            "align_content": null,
            "align_items": null,
            "align_self": null,
            "border": null,
            "bottom": null,
            "display": null,
            "flex": null,
            "flex_flow": null,
            "grid_area": null,
            "grid_auto_columns": null,
            "grid_auto_flow": null,
            "grid_auto_rows": null,
            "grid_column": null,
            "grid_gap": null,
            "grid_row": null,
            "grid_template_areas": null,
            "grid_template_columns": null,
            "grid_template_rows": null,
            "height": null,
            "justify_content": null,
            "justify_items": null,
            "left": null,
            "margin": null,
            "max_height": null,
            "max_width": null,
            "min_height": null,
            "min_width": null,
            "object_fit": null,
            "object_position": null,
            "order": null,
            "overflow": null,
            "overflow_x": null,
            "overflow_y": null,
            "padding": null,
            "right": null,
            "top": null,
            "visibility": null,
            "width": null
          }
        },
        "46018db87d0c47f494900d1a90f56e82": {
          "model_module": "@jupyter-widgets/controls",
          "model_name": "DescriptionStyleModel",
          "model_module_version": "1.5.0",
          "state": {
            "_model_module": "@jupyter-widgets/controls",
            "_model_module_version": "1.5.0",
            "_model_name": "DescriptionStyleModel",
            "_view_count": null,
            "_view_module": "@jupyter-widgets/base",
            "_view_module_version": "1.2.0",
            "_view_name": "StyleView",
            "description_width": ""
          }
        },
        "a1027baf7c20454799880420673d323a": {
          "model_module": "@jupyter-widgets/controls",
          "model_name": "HBoxModel",
          "model_module_version": "1.5.0",
          "state": {
            "_dom_classes": [],
            "_model_module": "@jupyter-widgets/controls",
            "_model_module_version": "1.5.0",
            "_model_name": "HBoxModel",
            "_view_count": null,
            "_view_module": "@jupyter-widgets/controls",
            "_view_module_version": "1.5.0",
            "_view_name": "HBoxView",
            "box_style": "",
            "children": [
              "IPY_MODEL_ad3ddbf34d5845f8b11006e4b5698d16",
              "IPY_MODEL_4754ed1c95e647638a09d9d839cce8dc",
              "IPY_MODEL_a2768b36da414e06b60b0a4b522df3f3"
            ],
            "layout": "IPY_MODEL_eb145e8094dd4399badc3ff470fc51db"
          }
        },
        "ad3ddbf34d5845f8b11006e4b5698d16": {
          "model_module": "@jupyter-widgets/controls",
          "model_name": "HTMLModel",
          "model_module_version": "1.5.0",
          "state": {
            "_dom_classes": [],
            "_model_module": "@jupyter-widgets/controls",
            "_model_module_version": "1.5.0",
            "_model_name": "HTMLModel",
            "_view_count": null,
            "_view_module": "@jupyter-widgets/controls",
            "_view_module_version": "1.5.0",
            "_view_name": "HTMLView",
            "description": "",
            "description_tooltip": null,
            "layout": "IPY_MODEL_2cd183fa10c74e048bf2725e1261ac96",
            "placeholder": "​",
            "style": "IPY_MODEL_ca556b48f7ab4469af0f7ade563ad1ce",
            "value": "100%"
          }
        },
        "4754ed1c95e647638a09d9d839cce8dc": {
          "model_module": "@jupyter-widgets/controls",
          "model_name": "FloatProgressModel",
          "model_module_version": "1.5.0",
          "state": {
            "_dom_classes": [],
            "_model_module": "@jupyter-widgets/controls",
            "_model_module_version": "1.5.0",
            "_model_name": "FloatProgressModel",
            "_view_count": null,
            "_view_module": "@jupyter-widgets/controls",
            "_view_module_version": "1.5.0",
            "_view_name": "ProgressView",
            "bar_style": "success",
            "description": "",
            "description_tooltip": null,
            "layout": "IPY_MODEL_66118eaf908e4a48b852cee78c51666c",
            "max": 1250,
            "min": 0,
            "orientation": "horizontal",
            "style": "IPY_MODEL_c8cbfe5696324cd0bf52369d15e97885",
            "value": 1250
          }
        },
        "a2768b36da414e06b60b0a4b522df3f3": {
          "model_module": "@jupyter-widgets/controls",
          "model_name": "HTMLModel",
          "model_module_version": "1.5.0",
          "state": {
            "_dom_classes": [],
            "_model_module": "@jupyter-widgets/controls",
            "_model_module_version": "1.5.0",
            "_model_name": "HTMLModel",
            "_view_count": null,
            "_view_module": "@jupyter-widgets/controls",
            "_view_module_version": "1.5.0",
            "_view_name": "HTMLView",
            "description": "",
            "description_tooltip": null,
            "layout": "IPY_MODEL_4a630ec93810452b9f4add64d176e92b",
            "placeholder": "​",
            "style": "IPY_MODEL_310a7b7864704a6c95b2ed2f411425c7",
            "value": " 1250/1250 [03:25&lt;00:00,  5.91it/s]"
          }
        },
        "eb145e8094dd4399badc3ff470fc51db": {
          "model_module": "@jupyter-widgets/base",
          "model_name": "LayoutModel",
          "model_module_version": "1.2.0",
          "state": {
            "_model_module": "@jupyter-widgets/base",
            "_model_module_version": "1.2.0",
            "_model_name": "LayoutModel",
            "_view_count": null,
            "_view_module": "@jupyter-widgets/base",
            "_view_module_version": "1.2.0",
            "_view_name": "LayoutView",
            "align_content": null,
            "align_items": null,
            "align_self": null,
            "border": null,
            "bottom": null,
            "display": null,
            "flex": null,
            "flex_flow": null,
            "grid_area": null,
            "grid_auto_columns": null,
            "grid_auto_flow": null,
            "grid_auto_rows": null,
            "grid_column": null,
            "grid_gap": null,
            "grid_row": null,
            "grid_template_areas": null,
            "grid_template_columns": null,
            "grid_template_rows": null,
            "height": null,
            "justify_content": null,
            "justify_items": null,
            "left": null,
            "margin": null,
            "max_height": null,
            "max_width": null,
            "min_height": null,
            "min_width": null,
            "object_fit": null,
            "object_position": null,
            "order": null,
            "overflow": null,
            "overflow_x": null,
            "overflow_y": null,
            "padding": null,
            "right": null,
            "top": null,
            "visibility": null,
            "width": null
          }
        },
        "2cd183fa10c74e048bf2725e1261ac96": {
          "model_module": "@jupyter-widgets/base",
          "model_name": "LayoutModel",
          "model_module_version": "1.2.0",
          "state": {
            "_model_module": "@jupyter-widgets/base",
            "_model_module_version": "1.2.0",
            "_model_name": "LayoutModel",
            "_view_count": null,
            "_view_module": "@jupyter-widgets/base",
            "_view_module_version": "1.2.0",
            "_view_name": "LayoutView",
            "align_content": null,
            "align_items": null,
            "align_self": null,
            "border": null,
            "bottom": null,
            "display": null,
            "flex": null,
            "flex_flow": null,
            "grid_area": null,
            "grid_auto_columns": null,
            "grid_auto_flow": null,
            "grid_auto_rows": null,
            "grid_column": null,
            "grid_gap": null,
            "grid_row": null,
            "grid_template_areas": null,
            "grid_template_columns": null,
            "grid_template_rows": null,
            "height": null,
            "justify_content": null,
            "justify_items": null,
            "left": null,
            "margin": null,
            "max_height": null,
            "max_width": null,
            "min_height": null,
            "min_width": null,
            "object_fit": null,
            "object_position": null,
            "order": null,
            "overflow": null,
            "overflow_x": null,
            "overflow_y": null,
            "padding": null,
            "right": null,
            "top": null,
            "visibility": null,
            "width": null
          }
        },
        "ca556b48f7ab4469af0f7ade563ad1ce": {
          "model_module": "@jupyter-widgets/controls",
          "model_name": "DescriptionStyleModel",
          "model_module_version": "1.5.0",
          "state": {
            "_model_module": "@jupyter-widgets/controls",
            "_model_module_version": "1.5.0",
            "_model_name": "DescriptionStyleModel",
            "_view_count": null,
            "_view_module": "@jupyter-widgets/base",
            "_view_module_version": "1.2.0",
            "_view_name": "StyleView",
            "description_width": ""
          }
        },
        "66118eaf908e4a48b852cee78c51666c": {
          "model_module": "@jupyter-widgets/base",
          "model_name": "LayoutModel",
          "model_module_version": "1.2.0",
          "state": {
            "_model_module": "@jupyter-widgets/base",
            "_model_module_version": "1.2.0",
            "_model_name": "LayoutModel",
            "_view_count": null,
            "_view_module": "@jupyter-widgets/base",
            "_view_module_version": "1.2.0",
            "_view_name": "LayoutView",
            "align_content": null,
            "align_items": null,
            "align_self": null,
            "border": null,
            "bottom": null,
            "display": null,
            "flex": null,
            "flex_flow": null,
            "grid_area": null,
            "grid_auto_columns": null,
            "grid_auto_flow": null,
            "grid_auto_rows": null,
            "grid_column": null,
            "grid_gap": null,
            "grid_row": null,
            "grid_template_areas": null,
            "grid_template_columns": null,
            "grid_template_rows": null,
            "height": null,
            "justify_content": null,
            "justify_items": null,
            "left": null,
            "margin": null,
            "max_height": null,
            "max_width": null,
            "min_height": null,
            "min_width": null,
            "object_fit": null,
            "object_position": null,
            "order": null,
            "overflow": null,
            "overflow_x": null,
            "overflow_y": null,
            "padding": null,
            "right": null,
            "top": null,
            "visibility": null,
            "width": null
          }
        },
        "c8cbfe5696324cd0bf52369d15e97885": {
          "model_module": "@jupyter-widgets/controls",
          "model_name": "ProgressStyleModel",
          "model_module_version": "1.5.0",
          "state": {
            "_model_module": "@jupyter-widgets/controls",
            "_model_module_version": "1.5.0",
            "_model_name": "ProgressStyleModel",
            "_view_count": null,
            "_view_module": "@jupyter-widgets/base",
            "_view_module_version": "1.2.0",
            "_view_name": "StyleView",
            "bar_color": null,
            "description_width": ""
          }
        },
        "4a630ec93810452b9f4add64d176e92b": {
          "model_module": "@jupyter-widgets/base",
          "model_name": "LayoutModel",
          "model_module_version": "1.2.0",
          "state": {
            "_model_module": "@jupyter-widgets/base",
            "_model_module_version": "1.2.0",
            "_model_name": "LayoutModel",
            "_view_count": null,
            "_view_module": "@jupyter-widgets/base",
            "_view_module_version": "1.2.0",
            "_view_name": "LayoutView",
            "align_content": null,
            "align_items": null,
            "align_self": null,
            "border": null,
            "bottom": null,
            "display": null,
            "flex": null,
            "flex_flow": null,
            "grid_area": null,
            "grid_auto_columns": null,
            "grid_auto_flow": null,
            "grid_auto_rows": null,
            "grid_column": null,
            "grid_gap": null,
            "grid_row": null,
            "grid_template_areas": null,
            "grid_template_columns": null,
            "grid_template_rows": null,
            "height": null,
            "justify_content": null,
            "justify_items": null,
            "left": null,
            "margin": null,
            "max_height": null,
            "max_width": null,
            "min_height": null,
            "min_width": null,
            "object_fit": null,
            "object_position": null,
            "order": null,
            "overflow": null,
            "overflow_x": null,
            "overflow_y": null,
            "padding": null,
            "right": null,
            "top": null,
            "visibility": null,
            "width": null
          }
        },
        "310a7b7864704a6c95b2ed2f411425c7": {
          "model_module": "@jupyter-widgets/controls",
          "model_name": "DescriptionStyleModel",
          "model_module_version": "1.5.0",
          "state": {
            "_model_module": "@jupyter-widgets/controls",
            "_model_module_version": "1.5.0",
            "_model_name": "DescriptionStyleModel",
            "_view_count": null,
            "_view_module": "@jupyter-widgets/base",
            "_view_module_version": "1.2.0",
            "_view_name": "StyleView",
            "description_width": ""
          }
        },
        "7fe7dcf17c2949369028d286ed45425f": {
          "model_module": "@jupyter-widgets/controls",
          "model_name": "HBoxModel",
          "model_module_version": "1.5.0",
          "state": {
            "_dom_classes": [],
            "_model_module": "@jupyter-widgets/controls",
            "_model_module_version": "1.5.0",
            "_model_name": "HBoxModel",
            "_view_count": null,
            "_view_module": "@jupyter-widgets/controls",
            "_view_module_version": "1.5.0",
            "_view_name": "HBoxView",
            "box_style": "",
            "children": [
              "IPY_MODEL_c588aa3813464c7fa1ef266662dead67",
              "IPY_MODEL_9d2cc0f7004949068ae4a5f632de4767",
              "IPY_MODEL_600636e7ef0e4017b279fa67a2978705"
            ],
            "layout": "IPY_MODEL_263a60d2a104450ebfcf323244091fee"
          }
        },
        "c588aa3813464c7fa1ef266662dead67": {
          "model_module": "@jupyter-widgets/controls",
          "model_name": "HTMLModel",
          "model_module_version": "1.5.0",
          "state": {
            "_dom_classes": [],
            "_model_module": "@jupyter-widgets/controls",
            "_model_module_version": "1.5.0",
            "_model_name": "HTMLModel",
            "_view_count": null,
            "_view_module": "@jupyter-widgets/controls",
            "_view_module_version": "1.5.0",
            "_view_name": "HTMLView",
            "description": "",
            "description_tooltip": null,
            "layout": "IPY_MODEL_4bb7551e977a4ad4b8d1b3c6c8949352",
            "placeholder": "​",
            "style": "IPY_MODEL_d277dda7c43f4412bcb8f21c9264b8fa",
            "value": "100%"
          }
        },
        "9d2cc0f7004949068ae4a5f632de4767": {
          "model_module": "@jupyter-widgets/controls",
          "model_name": "FloatProgressModel",
          "model_module_version": "1.5.0",
          "state": {
            "_dom_classes": [],
            "_model_module": "@jupyter-widgets/controls",
            "_model_module_version": "1.5.0",
            "_model_name": "FloatProgressModel",
            "_view_count": null,
            "_view_module": "@jupyter-widgets/controls",
            "_view_module_version": "1.5.0",
            "_view_name": "ProgressView",
            "bar_style": "success",
            "description": "",
            "description_tooltip": null,
            "layout": "IPY_MODEL_7d6d9bef703645f8b50df4eb308e6545",
            "max": 1250,
            "min": 0,
            "orientation": "horizontal",
            "style": "IPY_MODEL_d19e17cb404b449c954be2a382a44e5c",
            "value": 1250
          }
        },
        "600636e7ef0e4017b279fa67a2978705": {
          "model_module": "@jupyter-widgets/controls",
          "model_name": "HTMLModel",
          "model_module_version": "1.5.0",
          "state": {
            "_dom_classes": [],
            "_model_module": "@jupyter-widgets/controls",
            "_model_module_version": "1.5.0",
            "_model_name": "HTMLModel",
            "_view_count": null,
            "_view_module": "@jupyter-widgets/controls",
            "_view_module_version": "1.5.0",
            "_view_name": "HTMLView",
            "description": "",
            "description_tooltip": null,
            "layout": "IPY_MODEL_4dd013e14ad1470fbec75cdb6f9d40a2",
            "placeholder": "​",
            "style": "IPY_MODEL_9ece23af56b74b04a99f73d535737fd2",
            "value": " 1250/1250 [03:24&lt;00:00,  6.18it/s]"
          }
        },
        "263a60d2a104450ebfcf323244091fee": {
          "model_module": "@jupyter-widgets/base",
          "model_name": "LayoutModel",
          "model_module_version": "1.2.0",
          "state": {
            "_model_module": "@jupyter-widgets/base",
            "_model_module_version": "1.2.0",
            "_model_name": "LayoutModel",
            "_view_count": null,
            "_view_module": "@jupyter-widgets/base",
            "_view_module_version": "1.2.0",
            "_view_name": "LayoutView",
            "align_content": null,
            "align_items": null,
            "align_self": null,
            "border": null,
            "bottom": null,
            "display": null,
            "flex": null,
            "flex_flow": null,
            "grid_area": null,
            "grid_auto_columns": null,
            "grid_auto_flow": null,
            "grid_auto_rows": null,
            "grid_column": null,
            "grid_gap": null,
            "grid_row": null,
            "grid_template_areas": null,
            "grid_template_columns": null,
            "grid_template_rows": null,
            "height": null,
            "justify_content": null,
            "justify_items": null,
            "left": null,
            "margin": null,
            "max_height": null,
            "max_width": null,
            "min_height": null,
            "min_width": null,
            "object_fit": null,
            "object_position": null,
            "order": null,
            "overflow": null,
            "overflow_x": null,
            "overflow_y": null,
            "padding": null,
            "right": null,
            "top": null,
            "visibility": null,
            "width": null
          }
        },
        "4bb7551e977a4ad4b8d1b3c6c8949352": {
          "model_module": "@jupyter-widgets/base",
          "model_name": "LayoutModel",
          "model_module_version": "1.2.0",
          "state": {
            "_model_module": "@jupyter-widgets/base",
            "_model_module_version": "1.2.0",
            "_model_name": "LayoutModel",
            "_view_count": null,
            "_view_module": "@jupyter-widgets/base",
            "_view_module_version": "1.2.0",
            "_view_name": "LayoutView",
            "align_content": null,
            "align_items": null,
            "align_self": null,
            "border": null,
            "bottom": null,
            "display": null,
            "flex": null,
            "flex_flow": null,
            "grid_area": null,
            "grid_auto_columns": null,
            "grid_auto_flow": null,
            "grid_auto_rows": null,
            "grid_column": null,
            "grid_gap": null,
            "grid_row": null,
            "grid_template_areas": null,
            "grid_template_columns": null,
            "grid_template_rows": null,
            "height": null,
            "justify_content": null,
            "justify_items": null,
            "left": null,
            "margin": null,
            "max_height": null,
            "max_width": null,
            "min_height": null,
            "min_width": null,
            "object_fit": null,
            "object_position": null,
            "order": null,
            "overflow": null,
            "overflow_x": null,
            "overflow_y": null,
            "padding": null,
            "right": null,
            "top": null,
            "visibility": null,
            "width": null
          }
        },
        "d277dda7c43f4412bcb8f21c9264b8fa": {
          "model_module": "@jupyter-widgets/controls",
          "model_name": "DescriptionStyleModel",
          "model_module_version": "1.5.0",
          "state": {
            "_model_module": "@jupyter-widgets/controls",
            "_model_module_version": "1.5.0",
            "_model_name": "DescriptionStyleModel",
            "_view_count": null,
            "_view_module": "@jupyter-widgets/base",
            "_view_module_version": "1.2.0",
            "_view_name": "StyleView",
            "description_width": ""
          }
        },
        "7d6d9bef703645f8b50df4eb308e6545": {
          "model_module": "@jupyter-widgets/base",
          "model_name": "LayoutModel",
          "model_module_version": "1.2.0",
          "state": {
            "_model_module": "@jupyter-widgets/base",
            "_model_module_version": "1.2.0",
            "_model_name": "LayoutModel",
            "_view_count": null,
            "_view_module": "@jupyter-widgets/base",
            "_view_module_version": "1.2.0",
            "_view_name": "LayoutView",
            "align_content": null,
            "align_items": null,
            "align_self": null,
            "border": null,
            "bottom": null,
            "display": null,
            "flex": null,
            "flex_flow": null,
            "grid_area": null,
            "grid_auto_columns": null,
            "grid_auto_flow": null,
            "grid_auto_rows": null,
            "grid_column": null,
            "grid_gap": null,
            "grid_row": null,
            "grid_template_areas": null,
            "grid_template_columns": null,
            "grid_template_rows": null,
            "height": null,
            "justify_content": null,
            "justify_items": null,
            "left": null,
            "margin": null,
            "max_height": null,
            "max_width": null,
            "min_height": null,
            "min_width": null,
            "object_fit": null,
            "object_position": null,
            "order": null,
            "overflow": null,
            "overflow_x": null,
            "overflow_y": null,
            "padding": null,
            "right": null,
            "top": null,
            "visibility": null,
            "width": null
          }
        },
        "d19e17cb404b449c954be2a382a44e5c": {
          "model_module": "@jupyter-widgets/controls",
          "model_name": "ProgressStyleModel",
          "model_module_version": "1.5.0",
          "state": {
            "_model_module": "@jupyter-widgets/controls",
            "_model_module_version": "1.5.0",
            "_model_name": "ProgressStyleModel",
            "_view_count": null,
            "_view_module": "@jupyter-widgets/base",
            "_view_module_version": "1.2.0",
            "_view_name": "StyleView",
            "bar_color": null,
            "description_width": ""
          }
        },
        "4dd013e14ad1470fbec75cdb6f9d40a2": {
          "model_module": "@jupyter-widgets/base",
          "model_name": "LayoutModel",
          "model_module_version": "1.2.0",
          "state": {
            "_model_module": "@jupyter-widgets/base",
            "_model_module_version": "1.2.0",
            "_model_name": "LayoutModel",
            "_view_count": null,
            "_view_module": "@jupyter-widgets/base",
            "_view_module_version": "1.2.0",
            "_view_name": "LayoutView",
            "align_content": null,
            "align_items": null,
            "align_self": null,
            "border": null,
            "bottom": null,
            "display": null,
            "flex": null,
            "flex_flow": null,
            "grid_area": null,
            "grid_auto_columns": null,
            "grid_auto_flow": null,
            "grid_auto_rows": null,
            "grid_column": null,
            "grid_gap": null,
            "grid_row": null,
            "grid_template_areas": null,
            "grid_template_columns": null,
            "grid_template_rows": null,
            "height": null,
            "justify_content": null,
            "justify_items": null,
            "left": null,
            "margin": null,
            "max_height": null,
            "max_width": null,
            "min_height": null,
            "min_width": null,
            "object_fit": null,
            "object_position": null,
            "order": null,
            "overflow": null,
            "overflow_x": null,
            "overflow_y": null,
            "padding": null,
            "right": null,
            "top": null,
            "visibility": null,
            "width": null
          }
        },
        "9ece23af56b74b04a99f73d535737fd2": {
          "model_module": "@jupyter-widgets/controls",
          "model_name": "DescriptionStyleModel",
          "model_module_version": "1.5.0",
          "state": {
            "_model_module": "@jupyter-widgets/controls",
            "_model_module_version": "1.5.0",
            "_model_name": "DescriptionStyleModel",
            "_view_count": null,
            "_view_module": "@jupyter-widgets/base",
            "_view_module_version": "1.2.0",
            "_view_name": "StyleView",
            "description_width": ""
          }
        },
        "2cbfbea9258c4cf881e654a2b64d75d8": {
          "model_module": "@jupyter-widgets/controls",
          "model_name": "HBoxModel",
          "model_module_version": "1.5.0",
          "state": {
            "_dom_classes": [],
            "_model_module": "@jupyter-widgets/controls",
            "_model_module_version": "1.5.0",
            "_model_name": "HBoxModel",
            "_view_count": null,
            "_view_module": "@jupyter-widgets/controls",
            "_view_module_version": "1.5.0",
            "_view_name": "HBoxView",
            "box_style": "",
            "children": [
              "IPY_MODEL_21f39fe21bff4cc2b13d83f94a032bce",
              "IPY_MODEL_ecc3887d7ff24c6abdd73b0a9f70f94a",
              "IPY_MODEL_56839f4477f044b5a27bfc894afdc7b7"
            ],
            "layout": "IPY_MODEL_a8fe3f86fc1045569ec93b54c3b65881"
          }
        },
        "21f39fe21bff4cc2b13d83f94a032bce": {
          "model_module": "@jupyter-widgets/controls",
          "model_name": "HTMLModel",
          "model_module_version": "1.5.0",
          "state": {
            "_dom_classes": [],
            "_model_module": "@jupyter-widgets/controls",
            "_model_module_version": "1.5.0",
            "_model_name": "HTMLModel",
            "_view_count": null,
            "_view_module": "@jupyter-widgets/controls",
            "_view_module_version": "1.5.0",
            "_view_name": "HTMLView",
            "description": "",
            "description_tooltip": null,
            "layout": "IPY_MODEL_28cdf40e71be4dc2ac932cdb06a642ca",
            "placeholder": "​",
            "style": "IPY_MODEL_4768defa89e545f2b67aefff4013f7cd",
            "value": "100%"
          }
        },
        "ecc3887d7ff24c6abdd73b0a9f70f94a": {
          "model_module": "@jupyter-widgets/controls",
          "model_name": "FloatProgressModel",
          "model_module_version": "1.5.0",
          "state": {
            "_dom_classes": [],
            "_model_module": "@jupyter-widgets/controls",
            "_model_module_version": "1.5.0",
            "_model_name": "FloatProgressModel",
            "_view_count": null,
            "_view_module": "@jupyter-widgets/controls",
            "_view_module_version": "1.5.0",
            "_view_name": "ProgressView",
            "bar_style": "success",
            "description": "",
            "description_tooltip": null,
            "layout": "IPY_MODEL_e276e71ad8654649af88bed2da462bbe",
            "max": 1,
            "min": 0,
            "orientation": "horizontal",
            "style": "IPY_MODEL_28a6197ec5f14f11b2d0a3a471c8c080",
            "value": 1
          }
        },
        "56839f4477f044b5a27bfc894afdc7b7": {
          "model_module": "@jupyter-widgets/controls",
          "model_name": "HTMLModel",
          "model_module_version": "1.5.0",
          "state": {
            "_dom_classes": [],
            "_model_module": "@jupyter-widgets/controls",
            "_model_module_version": "1.5.0",
            "_model_name": "HTMLModel",
            "_view_count": null,
            "_view_module": "@jupyter-widgets/controls",
            "_view_module_version": "1.5.0",
            "_view_name": "HTMLView",
            "description": "",
            "description_tooltip": null,
            "layout": "IPY_MODEL_8c406592403a409188b5aefeecb791eb",
            "placeholder": "​",
            "style": "IPY_MODEL_68e598a53ae74ef5b361f9b334b945fd",
            "value": " 1/1 [03:19&lt;00:00, 199.08s/it]"
          }
        },
        "a8fe3f86fc1045569ec93b54c3b65881": {
          "model_module": "@jupyter-widgets/base",
          "model_name": "LayoutModel",
          "model_module_version": "1.2.0",
          "state": {
            "_model_module": "@jupyter-widgets/base",
            "_model_module_version": "1.2.0",
            "_model_name": "LayoutModel",
            "_view_count": null,
            "_view_module": "@jupyter-widgets/base",
            "_view_module_version": "1.2.0",
            "_view_name": "LayoutView",
            "align_content": null,
            "align_items": null,
            "align_self": null,
            "border": null,
            "bottom": null,
            "display": null,
            "flex": null,
            "flex_flow": null,
            "grid_area": null,
            "grid_auto_columns": null,
            "grid_auto_flow": null,
            "grid_auto_rows": null,
            "grid_column": null,
            "grid_gap": null,
            "grid_row": null,
            "grid_template_areas": null,
            "grid_template_columns": null,
            "grid_template_rows": null,
            "height": null,
            "justify_content": null,
            "justify_items": null,
            "left": null,
            "margin": null,
            "max_height": null,
            "max_width": null,
            "min_height": null,
            "min_width": null,
            "object_fit": null,
            "object_position": null,
            "order": null,
            "overflow": null,
            "overflow_x": null,
            "overflow_y": null,
            "padding": null,
            "right": null,
            "top": null,
            "visibility": null,
            "width": null
          }
        },
        "28cdf40e71be4dc2ac932cdb06a642ca": {
          "model_module": "@jupyter-widgets/base",
          "model_name": "LayoutModel",
          "model_module_version": "1.2.0",
          "state": {
            "_model_module": "@jupyter-widgets/base",
            "_model_module_version": "1.2.0",
            "_model_name": "LayoutModel",
            "_view_count": null,
            "_view_module": "@jupyter-widgets/base",
            "_view_module_version": "1.2.0",
            "_view_name": "LayoutView",
            "align_content": null,
            "align_items": null,
            "align_self": null,
            "border": null,
            "bottom": null,
            "display": null,
            "flex": null,
            "flex_flow": null,
            "grid_area": null,
            "grid_auto_columns": null,
            "grid_auto_flow": null,
            "grid_auto_rows": null,
            "grid_column": null,
            "grid_gap": null,
            "grid_row": null,
            "grid_template_areas": null,
            "grid_template_columns": null,
            "grid_template_rows": null,
            "height": null,
            "justify_content": null,
            "justify_items": null,
            "left": null,
            "margin": null,
            "max_height": null,
            "max_width": null,
            "min_height": null,
            "min_width": null,
            "object_fit": null,
            "object_position": null,
            "order": null,
            "overflow": null,
            "overflow_x": null,
            "overflow_y": null,
            "padding": null,
            "right": null,
            "top": null,
            "visibility": null,
            "width": null
          }
        },
        "4768defa89e545f2b67aefff4013f7cd": {
          "model_module": "@jupyter-widgets/controls",
          "model_name": "DescriptionStyleModel",
          "model_module_version": "1.5.0",
          "state": {
            "_model_module": "@jupyter-widgets/controls",
            "_model_module_version": "1.5.0",
            "_model_name": "DescriptionStyleModel",
            "_view_count": null,
            "_view_module": "@jupyter-widgets/base",
            "_view_module_version": "1.2.0",
            "_view_name": "StyleView",
            "description_width": ""
          }
        },
        "e276e71ad8654649af88bed2da462bbe": {
          "model_module": "@jupyter-widgets/base",
          "model_name": "LayoutModel",
          "model_module_version": "1.2.0",
          "state": {
            "_model_module": "@jupyter-widgets/base",
            "_model_module_version": "1.2.0",
            "_model_name": "LayoutModel",
            "_view_count": null,
            "_view_module": "@jupyter-widgets/base",
            "_view_module_version": "1.2.0",
            "_view_name": "LayoutView",
            "align_content": null,
            "align_items": null,
            "align_self": null,
            "border": null,
            "bottom": null,
            "display": null,
            "flex": null,
            "flex_flow": null,
            "grid_area": null,
            "grid_auto_columns": null,
            "grid_auto_flow": null,
            "grid_auto_rows": null,
            "grid_column": null,
            "grid_gap": null,
            "grid_row": null,
            "grid_template_areas": null,
            "grid_template_columns": null,
            "grid_template_rows": null,
            "height": null,
            "justify_content": null,
            "justify_items": null,
            "left": null,
            "margin": null,
            "max_height": null,
            "max_width": null,
            "min_height": null,
            "min_width": null,
            "object_fit": null,
            "object_position": null,
            "order": null,
            "overflow": null,
            "overflow_x": null,
            "overflow_y": null,
            "padding": null,
            "right": null,
            "top": null,
            "visibility": null,
            "width": null
          }
        },
        "28a6197ec5f14f11b2d0a3a471c8c080": {
          "model_module": "@jupyter-widgets/controls",
          "model_name": "ProgressStyleModel",
          "model_module_version": "1.5.0",
          "state": {
            "_model_module": "@jupyter-widgets/controls",
            "_model_module_version": "1.5.0",
            "_model_name": "ProgressStyleModel",
            "_view_count": null,
            "_view_module": "@jupyter-widgets/base",
            "_view_module_version": "1.2.0",
            "_view_name": "StyleView",
            "bar_color": null,
            "description_width": ""
          }
        },
        "8c406592403a409188b5aefeecb791eb": {
          "model_module": "@jupyter-widgets/base",
          "model_name": "LayoutModel",
          "model_module_version": "1.2.0",
          "state": {
            "_model_module": "@jupyter-widgets/base",
            "_model_module_version": "1.2.0",
            "_model_name": "LayoutModel",
            "_view_count": null,
            "_view_module": "@jupyter-widgets/base",
            "_view_module_version": "1.2.0",
            "_view_name": "LayoutView",
            "align_content": null,
            "align_items": null,
            "align_self": null,
            "border": null,
            "bottom": null,
            "display": null,
            "flex": null,
            "flex_flow": null,
            "grid_area": null,
            "grid_auto_columns": null,
            "grid_auto_flow": null,
            "grid_auto_rows": null,
            "grid_column": null,
            "grid_gap": null,
            "grid_row": null,
            "grid_template_areas": null,
            "grid_template_columns": null,
            "grid_template_rows": null,
            "height": null,
            "justify_content": null,
            "justify_items": null,
            "left": null,
            "margin": null,
            "max_height": null,
            "max_width": null,
            "min_height": null,
            "min_width": null,
            "object_fit": null,
            "object_position": null,
            "order": null,
            "overflow": null,
            "overflow_x": null,
            "overflow_y": null,
            "padding": null,
            "right": null,
            "top": null,
            "visibility": null,
            "width": null
          }
        },
        "68e598a53ae74ef5b361f9b334b945fd": {
          "model_module": "@jupyter-widgets/controls",
          "model_name": "DescriptionStyleModel",
          "model_module_version": "1.5.0",
          "state": {
            "_model_module": "@jupyter-widgets/controls",
            "_model_module_version": "1.5.0",
            "_model_name": "DescriptionStyleModel",
            "_view_count": null,
            "_view_module": "@jupyter-widgets/base",
            "_view_module_version": "1.2.0",
            "_view_name": "StyleView",
            "description_width": ""
          }
        }
      }
    },
    "accelerator": "GPU"
  },
  "cells": [
    {
      "cell_type": "markdown",
      "metadata": {
        "id": "view-in-github",
        "colab_type": "text"
      },
      "source": [
        "<a href=\"https://colab.research.google.com/github/Jaesu26/dacon-3d-mnist-image-classification/blob/main/2022-09-17-realfinal-%EC%88%AB%EC%9E%903D%EC%9D%B4%EB%AF%B8%EC%A7%80-%EB%B6%84%EB%A5%98-%EB%94%A5%EB%9F%AC%EB%8B%9D.ipynb\" target=\"_parent\"><img src=\"https://colab.research.google.com/assets/colab-badge.svg\" alt=\"Open In Colab\"/></a>"
      ]
    },
    {
      "cell_type": "markdown",
      "source": [
        "# 숫자 3D 이미지 분류 AI 경진대회"
      ],
      "metadata": {
        "id": "75xRhMA-ZZ4g"
      }
    },
    {
      "cell_type": "markdown",
      "source": [
        "## 데이터 불러오기"
      ],
      "metadata": {
        "id": "68xM6jF0ZchA"
      }
    },
    {
      "cell_type": "code",
      "execution_count": 1,
      "metadata": {
        "id": "zJnLWFhmMGG4"
      },
      "outputs": [],
      "source": [
        "import numpy as np\n",
        "import numpy.typing as npt\n",
        "import pandas as pd\n",
        "import matplotlib.pyplot as plt\n",
        "import seaborn as sns\n",
        "import warnings\n",
        "import random\n",
        "import h5py\n",
        "import cv2\n",
        "import os\n",
        "import gc\n",
        "\n",
        "from typing import Callable, Dict, Sequence, List, Optional, Tuple, Union\n",
        "from tqdm.auto import tqdm\n",
        "from glob import glob\n",
        "\n",
        "warnings.filterwarnings('ignore')"
      ]
    },
    {
      "cell_type": "code",
      "source": [
        "from google.colab import drive\n",
        "\n",
        "drive.mount('/content/drive')  ## 구글코랩과 구글드라이브 연결"
      ],
      "metadata": {
        "colab": {
          "base_uri": "https://localhost:8080/"
        },
        "id": "GjvmmVOVMW_P",
        "outputId": "7535eeec-b44e-4127-81b3-e3bc8de1cad3"
      },
      "execution_count": 2,
      "outputs": [
        {
          "output_type": "stream",
          "name": "stdout",
          "text": [
            "Mounted at /content/drive\n"
          ]
        }
      ]
    },
    {
      "cell_type": "code",
      "source": [
        "%cd  '/content/drive/MyDrive/Colab Notebooks/숫자3D이미지-분류/Data'"
      ],
      "metadata": {
        "colab": {
          "base_uri": "https://localhost:8080/"
        },
        "id": "eVxuuFzhM72P",
        "outputId": "1f0bc46b-6d36-46a8-f39f-f20bc3a8b7f1"
      },
      "execution_count": 3,
      "outputs": [
        {
          "output_type": "stream",
          "name": "stdout",
          "text": [
            "/content/drive/MyDrive/Colab Notebooks/숫자3D이미지-분류/Data\n"
          ]
        }
      ]
    },
    {
      "cell_type": "code",
      "source": [
        "# !unzip -qq '/content/drive/MyDrive/Colab Notebooks/숫자3D이미지-분류/Data/open.zip'"
      ],
      "metadata": {
        "id": "FAfo2QqwNKNu"
      },
      "execution_count": 4,
      "outputs": []
    },
    {
      "cell_type": "code",
      "source": [
        "%cd  '/content/drive/MyDrive/Colab Notebooks/숫자3D이미지-분류'"
      ],
      "metadata": {
        "colab": {
          "base_uri": "https://localhost:8080/"
        },
        "id": "0X5M1ufnYYtY",
        "outputId": "f191cb47-7a6f-4559-9eb0-6ad8dc0e7d84"
      },
      "execution_count": 5,
      "outputs": [
        {
          "output_type": "stream",
          "name": "stdout",
          "text": [
            "/content/drive/MyDrive/Colab Notebooks/숫자3D이미지-분류\n"
          ]
        }
      ]
    },
    {
      "cell_type": "markdown",
      "source": [
        "- 데이터 불러오기"
      ],
      "metadata": {
        "id": "MRrJ4A5RKC4B"
      }
    },
    {
      "cell_type": "code",
      "source": [
        "label_df = pd.read_csv('./Data/train.csv')\n",
        "# all_points = h5py.File('./Data/train.h5', 'r')"
      ],
      "metadata": {
        "id": "1BkDYIOCNk4m"
      },
      "execution_count": 6,
      "outputs": []
    },
    {
      "cell_type": "code",
      "source": [
        "test_df = pd.read_csv('./Data/sample_submission.csv')\n",
        "# test_points = h5py.File('./Data/test.h5', 'r')"
      ],
      "metadata": {
        "id": "dkUZ0fOtwMtG"
      },
      "execution_count": 7,
      "outputs": []
    },
    {
      "cell_type": "code",
      "source": [
        "target = label_df['label'].values"
      ],
      "metadata": {
        "id": "0060RPH7jgSz"
      },
      "execution_count": 8,
      "outputs": []
    },
    {
      "cell_type": "markdown",
      "source": [
        "- 하이퍼파라미터"
      ],
      "metadata": {
        "id": "NN7RHXuYr88l"
      }
    },
    {
      "cell_type": "code",
      "source": [
        "MODEL_NAME = 'efficientnet_b1'\n",
        "MODEL_DEFAULT_WEIGHT_PATH = f'{MODEL_NAME}_default_weight.pt' \n",
        "SAVE_PATH = './weight6'\n",
        "NUM_CLASSES = 10\n",
        "NUM_FOLDS = 5\n",
        "NUM_EPOCHS = 60\n",
        "BATCH_SIZE = 32\n",
        "LEARNING_RATE = 2e-4\n",
        "LABEL_SMOOTHING = 0.05  ## 적절한 값을 설정하여 모델이 예측한 것을 과하게 확신하지 못하게 함\n",
        "IMAGE_H = 112\n",
        "IMAGE_W = 112\n",
        "SEED = 2022"
      ],
      "metadata": {
        "id": "ZBe2gEgzr-q1"
      },
      "execution_count": 50,
      "outputs": []
    },
    {
      "cell_type": "markdown",
      "source": [
        "- 가중치 저장폴더"
      ],
      "metadata": {
        "id": "II2XMQAVsAQt"
      }
    },
    {
      "cell_type": "code",
      "source": [
        "def create_folder(path: str) -> None:\n",
        "    try:\n",
        "        if not os.path.exists(path):\n",
        "            os.makedirs(path)\n",
        "    except OSError as error:\n",
        "        print(error)"
      ],
      "metadata": {
        "id": "YnpAfBHMsCb1"
      },
      "execution_count": 10,
      "outputs": []
    },
    {
      "cell_type": "code",
      "source": [
        "create_folder(SAVE_PATH)"
      ],
      "metadata": {
        "id": "WRCnOvxlsE2F"
      },
      "execution_count": 11,
      "outputs": []
    },
    {
      "cell_type": "markdown",
      "source": [
        "## 시각화"
      ],
      "metadata": {
        "id": "bvB62nkihj3a"
      }
    },
    {
      "cell_type": "markdown",
      "source": [
        "- 라벨"
      ],
      "metadata": {
        "id": "5HSm1gzTxO0e"
      }
    },
    {
      "cell_type": "code",
      "source": [
        "sns.countplot(data=label_df, x='label')"
      ],
      "metadata": {
        "colab": {
          "base_uri": "https://localhost:8080/",
          "height": 297
        },
        "id": "Ry9ypt4uYzYQ",
        "outputId": "e702f587-093f-40be-fe27-5fcea4ab60af"
      },
      "execution_count": null,
      "outputs": [
        {
          "output_type": "execute_result",
          "data": {
            "text/plain": [
              "<matplotlib.axes._subplots.AxesSubplot at 0x7fc984b78a10>"
            ]
          },
          "metadata": {},
          "execution_count": 12
        },
        {
          "output_type": "display_data",
          "data": {
            "text/plain": [
              "<Figure size 432x288 with 1 Axes>"
            ],
            "image/png": "[encoded data removed]"
          },
          "metadata": {
            "needs_background": "light"
          }
        }
      ]
    },
    {
      "cell_type": "markdown",
      "source": [
        "`-` 1(가장 많음)과 5(가장 적음)를 제외하면 라벨별 개수는 비슷하다"
      ],
      "metadata": {
        "id": "5iIsrbhdhmwp"
      }
    },
    {
      "cell_type": "code",
      "source": [
        "def show_3Dimage(\n",
        "        _3d_points_data: h5py._hl.files.File, \n",
        "        id: int, \n",
        "        labels: Optional[Sequence] = None\n",
        "    ) -> None:\n",
        "    fig = plt.figure()\n",
        "    ax = fig.gca(projection='3d')\n",
        "    \n",
        "    _3d_points_image = _3d_points_data[str(id)][:]\n",
        "    x = _3d_points_image[:, 0]\n",
        "    y = _3d_points_image[:, 1]\n",
        "    z = _3d_points_image[:, 2]\n",
        "    ax.scatter(x, y, z, alpha=0.04)\n",
        "\n",
        "    if labels is not None:\n",
        "        label = labels[id]\n",
        "        ax.set_title(label, fontsize=16)\n",
        "    plt.show()"
      ],
      "metadata": {
        "id": "rqvTW3M9cI1I"
      },
      "execution_count": null,
      "outputs": []
    },
    {
      "cell_type": "markdown",
      "source": [
        "- 3차원 이미지"
      ],
      "metadata": {
        "id": "H6u9JW2bxQRP"
      }
    },
    {
      "cell_type": "code",
      "source": [
        "show_3Dimage(all_points, 24983, target)"
      ],
      "metadata": {
        "id": "VSMZLF6knZB4"
      },
      "execution_count": null,
      "outputs": []
    },
    {
      "cell_type": "code",
      "source": [
        "show_3Dimage(all_points, 49977, target)"
      ],
      "metadata": {
        "id": "6QqXZEtMdL-Q"
      },
      "execution_count": null,
      "outputs": []
    },
    {
      "cell_type": "code",
      "source": [
        "show_3Dimage(all_points, 311, target)"
      ],
      "metadata": {
        "id": "L846HCbTW38w"
      },
      "execution_count": null,
      "outputs": []
    },
    {
      "cell_type": "markdown",
      "source": [
        "`-` train 이미지는 yz 평면에 숫자를 그린 후 x축으로 팽창되어 있다\n",
        "\n",
        "`-` test 이미지는 그럴 수도 있고 아닐 수도 있어서 적절한 변환이 필요하다\n",
        "\n",
        "`-` 6과 9는 뒤집어져 있으면 구분이 안되지만 위와 같이 옆으로 누워있는 3D 이미지도 존재한다\n",
        "\n",
        "`-` 보통, 글자 6을 쓸 때 막대기부터 쓰고 9는 동그라미부터 쓴다\n",
        "\n",
        "`-` 6의 경우 막대기가 강조되어 있으며 9의 경우 동그라미가 강조되어 있다 \n",
        "\n",
        "`-` 2와 5도 뒤집어져 있으면 구분이 안될 수 있다\n",
        "\n",
        "`-` 나머지는 구분이 잘 된다"
      ],
      "metadata": {
        "id": "I5O9IcWq1CEf"
      }
    },
    {
      "cell_type": "markdown",
      "source": [
        "- 3차원 점의 분포 확인 (train data)"
      ],
      "metadata": {
        "id": "KB8K6S0Vf3kB"
      }
    },
    {
      "cell_type": "markdown",
      "source": [
        "- x의 최댓값, 최솟값의 범위"
      ],
      "metadata": {
        "id": "HTTC6zXRYfdw"
      }
    },
    {
      "cell_type": "code",
      "source": [
        "x_data = 0\n",
        "for i in tqdm(range(50000)):\n",
        "    data = all_points[str(i)][:]\n",
        "    if 0.14 <= np.max(data[:, 0]) < 0.16 and -0.16 <= np.min(data[:, 0]) <= -0.14:\n",
        "        x_data += 1"
      ],
      "metadata": {
        "id": "9Xpw5_f0-CM0"
      },
      "execution_count": null,
      "outputs": []
    },
    {
      "cell_type": "code",
      "source": [
        "x_data"
      ],
      "metadata": {
        "id": "plp76YyG-wtm"
      },
      "execution_count": null,
      "outputs": []
    },
    {
      "cell_type": "markdown",
      "source": [
        "- y, z의 range 분포"
      ],
      "metadata": {
        "id": "rU0lEpy_YkC-"
      }
    },
    {
      "cell_type": "code",
      "source": [
        "y_data, z_data = [], []\n",
        "for i in tqdm(range(50000)):\n",
        "    data = all_points[str(i)][:]\n",
        "    yy = np.max(data[:, 1]) - np.min(data[:, 1])\n",
        "    zz = np.max(data[:, 2]) - np.min(data[:, 2])\n",
        "    y_data.append(yy)\n",
        "    z_data.append(zz)"
      ],
      "metadata": {
        "id": "Sbb4FovXYLt-"
      },
      "execution_count": null,
      "outputs": []
    },
    {
      "cell_type": "code",
      "source": [
        "fig, (ax1, ax2) = plt.subplots(1, 2, figsize=(10, 4))\n",
        "ax1.boxplot(y_data)\n",
        "ax2.boxplot(z_data)\n",
        "plt.show()"
      ],
      "metadata": {
        "id": "DzTYWeIgYq8l"
      },
      "execution_count": null,
      "outputs": []
    },
    {
      "cell_type": "markdown",
      "source": [
        "`-` x의 range는 대략 0.3인 반면 y의 range는 다양한 편이다\n",
        "\n",
        "`-` z의 range는 대략 1이다"
      ],
      "metadata": {
        "id": "3oT9pBKBZiLO"
      }
    },
    {
      "cell_type": "markdown",
      "source": [
        "## 데이터 전처리"
      ],
      "metadata": {
        "id": "3pLbxwaQEU9k"
      }
    },
    {
      "cell_type": "markdown",
      "source": [
        "`-` 위의 시각화를 보면 3차원이 아니라 2차원이더라도 숫자를 구분할 수 있을 듯하다\n",
        "\n",
        "`-` 3차원 points를 2차원 이미지로 변경하자\n",
        "\n",
        "`-` pretrained model도 사용할 수 있으며 파라미터도 더 적어진다\n",
        "\n",
        "`-` [$\\star$] 지금부터의 설명은 `근사적`으로 3차원 점들을 2차원 이미지로 만드는 방법에 대한 것이다 [$\\star$]"
      ],
      "metadata": {
        "id": "Ilk8Awu_EXRz"
      }
    },
    {
      "cell_type": "markdown",
      "source": [
        "### 3D points $\\to$ 2D points \n",
        "\n",
        "`-` 3D points는 축 하나의 범위가 -0.15 ~ 0.15인 경우와 그렇지 않은 경우로 나뉜다\n",
        "\n",
        "`-` 전자의 경우 -0.15 ~ 0.15의 범위를 가지는 축을 제외한 나머지 두 축이 구성하는 평면에 3차원 점들을 정사영시키면 된다 \n",
        "\n",
        "`-` 후자의 경우 특이값 분해 또는 고유값 분해를 이용하여 2차원 점으로 만든다 (고유값 분해가 더 낫다)"
      ],
      "metadata": {
        "id": "0HEFlt8Mr5bt"
      }
    },
    {
      "cell_type": "code",
      "source": [
        "from sklearn.decomposition import PCA"
      ],
      "metadata": {
        "id": "LvgIkrdZBOFX"
      },
      "execution_count": null,
      "outputs": []
    },
    {
      "cell_type": "code",
      "source": [
        "def z_scale(_3d_points: npt.NDArray) -> npt.NDArray:\n",
        "    \"\"\"_3d_points == [[x1, y1, z1], [x2, y2, z2], ..., [xn, yn, zn]]\"\"\"\n",
        "    scaled_points = []\n",
        "\n",
        "    for i in range(3):\n",
        "        p = _3d_points[:, i]\n",
        "        pp = (p - np.mean(p)) / np.std(p)\n",
        "        scaled_points.append(pp)\n",
        "\n",
        "    scaled_points = np.column_stack(tuple(scaled_points))\n",
        "    return scaled_points"
      ],
      "metadata": {
        "id": "lvPk9TD_LRrt"
      },
      "execution_count": null,
      "outputs": []
    },
    {
      "cell_type": "code",
      "source": [
        "def svd_3d_to_2d(_3d_points: npt.NDArray) -> npt.NDArray:\n",
        "    \"\"\"SVD를 이용하여 3차원 점을 2차원 점으로 차원 축소\"\"\"\n",
        "    X = _3d_points\n",
        "    U, d, V = np.linalg.svd(X.T @ X)\n",
        "    V_tilde = np.column_stack((-V[:, 1], -V[:, 0]))  ## 각도 조절\n",
        "    _2d_points = X @ V_tilde\n",
        "    return _2d_points"
      ],
      "metadata": {
        "id": "g9B-Ff40aI2R"
      },
      "execution_count": null,
      "outputs": []
    },
    {
      "cell_type": "code",
      "source": [
        "def eig_3d_to_2d(_3d_points: npt.NDArray) -> npt.NDArray:\n",
        "    \"\"\"고유값 분해를 이용하여 3차원 점을 2차원 점으로 차원 축소\"\"\"\n",
        "    X = _3d_points\n",
        "    Lambda, Psi = np.linalg.eig(X.T @ X)\n",
        "    _1st, _2nd, _3rd = sorted(Lambda, key = lambda x: -x)  ## 내림차순 정렬\n",
        "    idx_1st = np.where(Lambda == _1st)\n",
        "    idx_2nd = np.where(Lambda == _2nd)\n",
        "    \n",
        "    Psi_tilde = np.column_stack((-Psi[:, idx_2nd].squeeze(), -Psi[:, idx_1st].squeeze()))  ## 각도 조절\n",
        "    _2d_points = X @ Psi_tilde\n",
        "    return _2d_points"
      ],
      "metadata": {
        "id": "-5tb-d5J_lFn"
      },
      "execution_count": null,
      "outputs": []
    },
    {
      "cell_type": "code",
      "source": [
        "def show_2Dimages(\n",
        "        _3d_points_data: h5py._hl.files.File, \n",
        "        id: int, \n",
        "        scaling: bool = False\n",
        "    ) -> None:\n",
        "    \"\"\"3D 이미지에 특이값 분해, 고유값 분해, PCA를 각각 수행하고 시각화\"\"\"\n",
        "    fig, (ax1, ax2, ax3) = plt.subplots(1, 3, figsize=(10, 6))\n",
        "    pca = PCA(n_components=2)\n",
        "\n",
        "    X = _3d_points_data[str(id)][:]\n",
        "    if scaling:\n",
        "        X = z_scale(X)\n",
        "\n",
        "    svd_z = svd_3d_to_2d(X)\n",
        "    eig_z = eig_3d_to_2d(X)\n",
        "    pca_z = pca.fit_transform(X)\n",
        "\n",
        "    ax1.plot(svd_z[:,0], svd_z[:,1], '.', alpha=0.5)\n",
        "    ax2.plot(eig_z[:,0], eig_z[:,1], '.', alpha=0.5)\n",
        "    ax3.plot(pca_z[:,0], pca_z[:,1], '.', alpha=0.5)\n",
        "\n",
        "    ax1.set_title('SVD')\n",
        "    ax2.set_title('Eigen')\n",
        "    ax3.set_title('PCA')\n",
        "    plt.show()    "
      ],
      "metadata": {
        "id": "5mWmRhjSquw9"
      },
      "execution_count": null,
      "outputs": []
    },
    {
      "cell_type": "code",
      "source": [
        "show_2Dimages(all_points, 41483)"
      ],
      "metadata": {
        "id": "6BE4OZfsataJ"
      },
      "execution_count": null,
      "outputs": []
    },
    {
      "cell_type": "code",
      "source": [
        "show_2Dimages(all_points, 41483, scaling=True)"
      ],
      "metadata": {
        "id": "-hHAukt6XD41"
      },
      "execution_count": null,
      "outputs": []
    },
    {
      "cell_type": "markdown",
      "source": [
        "`-` SVD와 고유값 분해는 output의 차이가 존재한다 \n",
        "\n",
        "`-` 고유값 분해가 SVD 보다 원본 이미지를 잘 보존하는 듯하다\n",
        "\n",
        "`-` PCA는 고유값 분해와 output이 동일하다 (각도만 다르다)\n",
        "\n",
        "`-` 식별 가능한 이미지를 생성하기엔 스케일링을 하지 않는 것이 더 낫다\n",
        "\n",
        "`-` 스케일링을 하면 팽창된 부분 (-0.15 ~ 0.15)의 range가 다른 axis의 range와 비슷해져 원본 이미지를 보존하지 못한다 (스케일링 한 것과 안 한것을 비교하면 바로 알 수 있음)\n",
        "\n",
        "`-` [$\\star$] 위 코드의 목적은 데이터의 분산을 보존하는 것이 아니라 `식별 가능한 이미지`를 `보존`하는 것이다 [$\\star$]"
      ],
      "metadata": {
        "id": "VEf6CRraBM2m"
      }
    },
    {
      "cell_type": "markdown",
      "source": [
        "- just 정사영"
      ],
      "metadata": {
        "id": "PWKD6wUKBhgH"
      }
    },
    {
      "cell_type": "code",
      "source": [
        "def project_point2plane(_3d_points: npt.NDArray) -> Union[npt.NDArray, None]:\n",
        "    \"\"\"\n",
        "    yz평면에 숫자를 생성하고 x축으로 팽창시킨 경우 (x축의 범위: -0.15 ~ 0.15) \n",
        "    yz평면에 3차원 점들을 정사영\n",
        "    \"\"\"\n",
        "    x = _3d_points[:, 0]\n",
        "    y = _3d_points[:, 1]\n",
        "    z = _3d_points[:, 2]\n",
        "\n",
        "    xmax = np.max(x)\n",
        "    xmin = np.min(x) \n",
        "\n",
        "    if 0.14 <= xmax <= 0.16 and -0.16 <= xmin <= -0.14:\n",
        "        new_x = y\n",
        "        new_y = z\n",
        "    else:\n",
        "        return None\n",
        "\n",
        "    _2d_points = np.column_stack((new_x, new_y))\n",
        "    return _2d_points"
      ],
      "metadata": {
        "id": "bC719i5o6F19"
      },
      "execution_count": null,
      "outputs": []
    },
    {
      "cell_type": "code",
      "source": [
        "show_3Dimage(all_points, 803, target)"
      ],
      "metadata": {
        "id": "w8b8TfGcb-dW"
      },
      "execution_count": null,
      "outputs": []
    },
    {
      "cell_type": "code",
      "source": [
        "z = project_point2plane(all_points['803'][:])\n",
        "plt.plot(z[:, 0], z[:, 1], '.')\n",
        "plt.show()"
      ],
      "metadata": {
        "id": "fmWChn5yB-vm"
      },
      "execution_count": null,
      "outputs": []
    },
    {
      "cell_type": "markdown",
      "source": [
        "`-` 정사영이 잘 수행되었다\n",
        "\n",
        "`-` 이와 별개로 노이즈가 있는 데이터가 존재함을 알 수 있다"
      ],
      "metadata": {
        "id": "4h09-mgZGkYc"
      }
    },
    {
      "cell_type": "markdown",
      "source": [
        "### 2D points $\\to$ 2D image"
      ],
      "metadata": {
        "id": "Vkhv7mFQIhdA"
      }
    },
    {
      "cell_type": "markdown",
      "source": [
        "`-` size $\\times$ size 크기의 격자를 만들고 격자 내부의 해당하는 점의 개수를 픽셀값으로 하여 2D 이미지를 만들겠다\n",
        "\n",
        "`-` 격자의 네 꼭짓점은 (xmax, ymax), (xmax, ymin), (xmin, ymax), (xmin, ymin)으로 할 수도 있다\n",
        "\n",
        "`-` 하지만 그렇게 하면 이미지의 x축, y축 비율을 1:1로 맞추는 것이기에 원본 이미지를 왜곡하게 된다"
      ],
      "metadata": {
        "id": "hL2O8LgVIk-A"
      }
    },
    {
      "cell_type": "code",
      "source": [
        "show_3Dimage(all_points, 71, target)"
      ],
      "metadata": {
        "id": "uPr8sF26G6-4"
      },
      "execution_count": null,
      "outputs": []
    },
    {
      "cell_type": "code",
      "source": [
        "z = eig_3d_to_2d(all_points['71'][:])\n",
        "plt.plot(z[:, 0], z[:, 1], '.')\n",
        "plt.show()"
      ],
      "metadata": {
        "id": "atMVbUOt82kP"
      },
      "execution_count": null,
      "outputs": []
    },
    {
      "cell_type": "code",
      "source": [
        "print(\n",
        "    f\"\"\"\n",
        "    xmax: {np.max(z[:, 0])}\n",
        "    xmin: {np.min(z[:, 0])}\n",
        "    ymax: {np.max(z[:, 1])}\n",
        "    ymin: {np.min(z[:, 1])}\n",
        "    \"\"\")"
      ],
      "metadata": {
        "id": "600visGkCVOJ"
      },
      "execution_count": null,
      "outputs": []
    },
    {
      "cell_type": "markdown",
      "source": [
        "`-` 예컨대 위의 이미지는 직사각형이지만 size $\\times$ size 크기의 이미지로 만드는 과정에서 왜곡이 생긴다\n",
        "\n",
        "`-` 네 꼭짓점을(xmax, ymax), (xmax, ymin), (xmin, ymax), (xmin, ymin)로 하면 직사각형이지만 최종적으론 정사각형이 되야하므로 당연히 원본 이미지가 왜곡된다\n",
        "\n",
        "`-` 즉, x축과 y축의 원본 비율이 어떻든 최종 이미지에선 1:1이 되는 것이다\n",
        "\n",
        "`-` 네 꼭짓점이 직사각형이 아닌 정사각형을 구성하도록 설정해야 스케일을 보존할 수 있다"
      ],
      "metadata": {
        "id": "DBIJjlMZB83f"
      }
    },
    {
      "cell_type": "code",
      "source": [
        "z = eig_3d_to_2d(all_points['71'][:])\n",
        "plt.figure(figsize=(5, 5))\n",
        "plt.plot(z[:, 0], z[:, 1], '.')\n",
        "plt.xlim(np.min(z), np.max(z))\n",
        "plt.ylim(np.min(z), np.max(z))\n",
        "plt.show()"
      ],
      "metadata": {
        "id": "j3M9NbhqC-wQ"
      },
      "execution_count": null,
      "outputs": []
    },
    {
      "cell_type": "markdown",
      "source": [
        "`-` 약간의 여백을 삽입할 수도 있다 (여백을 삽입해도 네 꼭짓점이 정사각형을 이루어야 함)"
      ],
      "metadata": {
        "id": "bc6rRGxgERZg"
      }
    },
    {
      "cell_type": "code",
      "source": [
        "z = eig_3d_to_2d(all_points['71'][:])\n",
        "delta = (np.max(z) - np.min(z)) * 0.05  ## 상하좌우 각각에 축 범위의 5% 만큼 여백을 삽입\n",
        "plt.figure(figsize=(5, 5))\n",
        "plt.plot(z[:, 0], z[:, 1], '.')\n",
        "plt.xlim(np.min(z) - delta, np.max(z) + delta)\n",
        "plt.ylim(np.min(z) - delta, np.max(z) + delta)\n",
        "plt.show()"
      ],
      "metadata": {
        "id": "83QfCMRfEURA"
      },
      "execution_count": null,
      "outputs": []
    },
    {
      "cell_type": "markdown",
      "source": [
        "`-` **점을 평행이동하여 중앙으로 옮길 필요가 있다**\n",
        "\n",
        "`-` 그렇지 않으면 여백의 밸런스가 맞지 않는다"
      ],
      "metadata": {
        "id": "XHGc1Z_9SD1A"
      }
    },
    {
      "cell_type": "markdown",
      "source": [
        "`-` 한편, 네 꼭짓점을 최댓값과 최솟값을 기준으로 하는 것은 너무 위험한 것 같다 (이상치에 매우 민감함)\n",
        "\n",
        "`-` 점이라도 하나 엉뚱한데 찍혀있으면 이미지가 왜곡된다\n",
        "\n",
        "`-` 최댓값 대신에 사분위수와 같이 이상치에 덜 민감한 값을 사용하겠다\n",
        "\n",
        "`-` 사분위수를 벗어나는 점들은 이상치(noise)로 간주하여 이미지를 생성할 때 무시하자\n",
        "\n",
        "`-` 이때 사분위수는 x, y 좌표값을 공통으로 사용하여 계산한다 (정사각형 도화지를 만들 것이므로)"
      ],
      "metadata": {
        "id": "2KyNoBiglOC5"
      }
    },
    {
      "cell_type": "markdown",
      "source": [
        "- 점을 중앙으로 평행이동"
      ],
      "metadata": {
        "id": "2aCWl1XWZM4D"
      }
    },
    {
      "cell_type": "markdown",
      "source": [
        "`-` 이미지를 그릴 도화지는 정사각형이다\n",
        "\n",
        "`-` 기본적으로 정사각형의 네 꼭짓점의 좌표는 (pmax, pmax), (pmax, pmin), (pmin, pmax), (pmin, pmin)이다 \n",
        "\n",
        "`-` $\\text{pmax} = \\max(\\text{xmax}, \\text{ymax})$, pmin도 마찬가지의 방법으로 생성\n",
        "\n",
        "`-` 이때, 로버스트한 결과를 얻기위해 최댓값과 최솟값 대신 사분위수(quantile)를 사용한다\n",
        "\n",
        "`-` 또한, 동일한 크기의 여백을 상하좌우에 추가한다\n",
        "\n",
        "`-` 즉, 최종적인 도화지의 네 꼭짓점의 좌표는 $(\\text{pqmax} + \\alpha, \\text{pqmax} + \\alpha), (\\text{pqmax} + \\alpha, \\text{pqmin} - \\alpha), (\\text{pqmin} - \\alpha, \\text{pqmax} + \\alpha), (\\text{pqmin} - \\alpha, \\text{pqmin} - \\alpha)$이다\n",
        "\n",
        "`-` 점을 중앙으로 옮긴다는 것은 좌우의 여백을 같게 하고 상하의 여백을 같게 하는 것으로 생각하자\n",
        "\n",
        "`-` 즉, $|\\text{pqmax} + \\alpha - \\text{xqmax}| = |\\text{pqmin} - \\alpha - \\text{xqmin}|$ and $|\\text{pqmax} + \\alpha - \\text{yqmax}| = |\\text{pqmin} - \\alpha - \\text{yqmin}|$"
      ],
      "metadata": {
        "id": "hoG2DJ7wZSaD"
      }
    },
    {
      "cell_type": "code",
      "source": [
        "def move_points_to_center(\n",
        "        points : npt.NDArray, \n",
        "        pmax: float, \n",
        "        pmin: float, \n",
        "        xmax: float, \n",
        "        xmin: float, \n",
        "        ymax: float, \n",
        "        ymin: float\n",
        "    ) -> npt.NDArray:\n",
        "    \"\"\"\n",
        "    points == [[x1, y1], [x2, y2], ..., [xn, yn]] \n",
        "    pmax == max(xmax, ymax), pmin == min(xmin, ymin)\n",
        "    (pmax, pmax), (pmax, pmin), (pmin, pmax), (pmin, pmin)을 네 점으로 하는 사각형을 기준으로 하여\n",
        "    정사각형 내부에 존재하는 points를 중앙으로 평행이동\n",
        "    {(pmax >= xmax, ymax) and (pmin =< xmin, ymin)}으로 주어지길 기대\n",
        "    \"\"\"\n",
        "    if pmax < xmax or pmax < ymax or pmin > xmin or pmin > ymin:\n",
        "        return points\n",
        "\n",
        "    new_points = np.zeros_like(points)\n",
        "    left_right_blank = ((pmax - xmax) + (xmin - pmin)) / 2  ## 좌우 여백\n",
        "    up_down_blank = ((pmax - ymax) + (ymin - pmin)) / 2  ## 상하 여백\n",
        "    new_points[:, 0] = points[:, 0] + ((pmax - xmax) - left_right_blank)\n",
        "    new_points[:, 1] = points[:, 1] + ((pmax - ymax) - up_down_blank)\n",
        "    return new_points"
      ],
      "metadata": {
        "id": "9wZMD_paPi0b"
      },
      "execution_count": null,
      "outputs": []
    },
    {
      "cell_type": "markdown",
      "source": [
        "- 2D points $\\to$ 2D image"
      ],
      "metadata": {
        "id": "-WhgQRSKcdDc"
      }
    },
    {
      "cell_type": "code",
      "source": [
        "def points2image(\n",
        "        _2d_points: npt.NDArray, \n",
        "        x_y: Tuple[int, int] = (28, 28)\n",
        "    ) -> npt.NDArray:\n",
        "    \"\"\"\n",
        "    _2d_points == [[x1, y1], [x2, y2], ..., [xn, yn]]\n",
        "    max를 최댓값 대신 (1 - 100q)% 사분위수, min을 최솟값 대신 100q% 사분위수를 사용\n",
        "    pmax, pmin = np.max(_2d_points), np.min(_2d_points)\n",
        "    (pmax, pmax), (pmax, pmin), (pmin, pmax), (pmin, pmin)을 네 점으로 하는 사각형 생성\n",
        "    사각형을 x_y[0] * x_y[1] 크기의 격자로 만들고 칸 하나를 픽셀로 생각하여 이미지를 생성\n",
        "    픽셀값은 해당 칸에 존재하는 점의 개수로 설정\n",
        "    \"\"\"\n",
        "    q = 0.01\n",
        "    x = _2d_points[:, 0]\n",
        "    y = _2d_points[:, 1]\n",
        "    xmax = np.quantile(x, 1 - q)\n",
        "    xmin = np.quantile(x, q)\n",
        "    ymax = np.quantile(y, 1 - q)\n",
        "    ymin = np.quantile(y, q)\n",
        "    pmax = np.max([xmax, ymax])\n",
        "    pmin = np.min([xmin, ymin])\n",
        "\n",
        "    ## 이미지의 상하좌우에 공백을 삽입\n",
        "    ratio = 0.05\n",
        "    delta = np.abs(pmax - pmin) * ratio\n",
        "    pmax += delta\n",
        "    pmin -= delta\n",
        "\n",
        "    ## 이미지를 중앙으로 평행이동\n",
        "    new_2d_points = move_points_to_center(_2d_points, pmax, pmin, xmax, xmin, ymax, ymin)\n",
        "    x = new_2d_points[:, 0]\n",
        "    y = new_2d_points[:, 1]\n",
        "\n",
        "    ## (pmax, pmax), (pmax, pmin), (pmin, pmax), (pmin, pmin)을 네 점으로 하는 사각형 생성\n",
        "    ## 해당 사각형을 x_y 크기의 격자로 만들고 칸 하나를 픽셀로 생각하여 이미지를 생성\n",
        "    x_linspace = np.linspace(pmin, pmax, x_y[0] + 1)\n",
        "    y_linspace = np.linspace(pmin, pmax, x_y[1] + 1)\n",
        "    images = np.zeros(x_y)  ## 이미지 배열 선언\n",
        "\n",
        "    x_idx = np.searchsorted(x_linspace, x) - 1  ## -1 ~ x_y[0] \n",
        "    y_idx = np.searchsorted(y_linspace, y) - 1  ## -1 ~ x_y[1]   \n",
        "\n",
        "    ## 픽셀값은 해당 칸에 존재하는 점의 개수로 설정 \n",
        "    for xx, yy in zip(x_idx, y_idx):\n",
        "        if 0 <= xx < x_y[0] and 0 <= xx < x_y[1]:  ## x: 0 ~ x_y[0] - 1, y: 0 ~ x_y[1] - 1\n",
        "            images[x_y[1] - yy - 1][xx] += 1\n",
        "    return images"
      ],
      "metadata": {
        "id": "o8mYfEQgJwnZ"
      },
      "execution_count": null,
      "outputs": []
    },
    {
      "cell_type": "code",
      "source": [
        "show_3Dimage(test_points, 50023)"
      ],
      "metadata": {
        "id": "tK03HqWDcBfW"
      },
      "execution_count": null,
      "outputs": []
    },
    {
      "cell_type": "code",
      "source": [
        "z = eig_3d_to_2d(test_points['50023'][:])\n",
        "delta = (np.max(z) - np.min(z)) * 0.05  ## 상하좌우 각각에 축 범위의 5% 만큼 여백을 삽입\n",
        "plt.figure(figsize=(5, 5))\n",
        "plt.plot(z[:, 0], z[:, 1], '.')\n",
        "plt.xlim(np.min(z) - delta, np.max(z) + delta)\n",
        "plt.ylim(np.min(z) - delta, np.max(z) + delta)\n",
        "plt.show()"
      ],
      "metadata": {
        "id": "1-sKsXwSW_RN"
      },
      "execution_count": null,
      "outputs": []
    },
    {
      "cell_type": "code",
      "source": [
        "image = points2image(z, x_y=[28, 28])  \n",
        "plt.imshow(image)"
      ],
      "metadata": {
        "id": "VjS-rFBxOWCh"
      },
      "execution_count": null,
      "outputs": []
    },
    {
      "cell_type": "markdown",
      "source": [
        "`-` size가 너무 크면 윤곽선만 남는다 (대부분의 점들이 윤곽선 근처에 모여있음)\n",
        "\n",
        "`-` size를 작게 하고 torchvision 같은 패키지를 활용해 크게 만드는 것이 낫다"
      ],
      "metadata": {
        "id": "IgehUyhE04DN"
      }
    },
    {
      "cell_type": "code",
      "source": [
        "image = points2image(z, x_y=[112, 112])  \n",
        "plt.imshow(image)"
      ],
      "metadata": {
        "id": "FXv3JaXl05As"
      },
      "execution_count": null,
      "outputs": []
    },
    {
      "cell_type": "markdown",
      "source": [
        "- 3D points $\\to$ 2D points $\\to$ 2D image"
      ],
      "metadata": {
        "id": "O8ieq_ylcXbw"
      }
    },
    {
      "cell_type": "markdown",
      "source": [
        "`-` 여기서의 고민은 train image를 생성함에 있어 단순 정사영을 사용할지 고유값 분해를 이용한 차원 축소를 사용할지이다\n",
        "\n",
        "`-` 근데 단순 정사영이 나은 것 같다\n",
        "\n",
        "`-` 고유값 분해를 사용하면 숫자의 방향이 3D 일때와 달라질 수 있기 때문이다\n",
        "\n",
        "`-` 그리고 단순 정사영과 고유값 분해를 통한 차원 축소는 이미지가 1인 경우를 제외하면 큰 차이가 있진 않다"
      ],
      "metadata": {
        "id": "hJCXCkG2MSH4"
      }
    },
    {
      "cell_type": "code",
      "source": [
        "def get_2d_images(\n",
        "        _3d_points_data: h5py._hl.files.File, \n",
        "        labels: Sequence[int],\n",
        "        x_y: Tuple[int, int] = (28, 28)\n",
        "    ) -> npt.NDArray:   \n",
        "    images = []\n",
        "    for i in tqdm(labels):\n",
        "        _3d_points = _3d_points_data[str(i)][:]\n",
        "        _2d_points = project_point2plane(_3d_points)  ## 단순 정사영\n",
        "\n",
        "        if _2d_points is None:\n",
        "            _2d_points = eig_3d_to_2d(_3d_points)  ## 고유값 분해를 통한 차원 축소\n",
        "\n",
        "        _2d_image = points2image(_2d_points, x_y)  ## 2D points -> 2D image\n",
        "        images.append(_2d_image)\n",
        "    images = np.array(images, dtype=np.float32)\n",
        "    return images"
      ],
      "metadata": {
        "id": "Kih5txo3ZXme"
      },
      "execution_count": null,
      "outputs": []
    },
    {
      "cell_type": "code",
      "source": [
        "train_images = get_2d_images(all_points, range(50000))"
      ],
      "metadata": {
        "id": "dDcP2BX80t6k"
      },
      "execution_count": null,
      "outputs": []
    },
    {
      "cell_type": "code",
      "source": [
        "train_images.shape"
      ],
      "metadata": {
        "id": "IiTCvSHlpQfy"
      },
      "execution_count": null,
      "outputs": []
    },
    {
      "cell_type": "code",
      "source": [
        "test_images = get_2d_images(test_points, range(50000, 90000))"
      ],
      "metadata": {
        "id": "F0BCPwjg4IE9"
      },
      "execution_count": null,
      "outputs": []
    },
    {
      "cell_type": "code",
      "source": [
        "test_images.shape"
      ],
      "metadata": {
        "id": "PRy0qlwdpV7Z"
      },
      "execution_count": null,
      "outputs": []
    },
    {
      "cell_type": "markdown",
      "source": [
        "- 2D 이미지 시각화"
      ],
      "metadata": {
        "id": "r8mQn3LzANZj"
      }
    },
    {
      "cell_type": "code",
      "source": [
        "def show_random_images(\n",
        "        images: npt.NDArray,\n",
        "        labels: npt.NDArray[np.int_], \n",
        "        label_condition: Optional[int] = None,\n",
        "        nrows: int = 4, \n",
        "        ncols: int = 4\n",
        "    ) -> None:\n",
        "    fig, axs = plt.subplots(nrows=nrows, ncols=ncols, figsize=(ncols*2, nrows*2))\n",
        "    if label_condition is not None:\n",
        "        images = images[labels == label_condition].copy()\n",
        "        labels = labels[labels == label_condition].copy() \n",
        "    idx_list = list(map(int, np.random.uniform(size=nrows*ncols) * images.shape[0]))\n",
        "\n",
        "    for idx, ax in zip(idx_list, axs.flatten()):\n",
        "        ax.grid(False)\n",
        "        ax.set_xticks([])\n",
        "        ax.set_yticks([])\n",
        "        ax.set_xlabel(labels[idx])\n",
        "        ax.imshow(images[idx])       \n",
        "    fig.tight_layout()"
      ],
      "metadata": {
        "id": "WUGfhhLWANFa"
      },
      "execution_count": null,
      "outputs": []
    },
    {
      "cell_type": "markdown",
      "source": [
        "- 숫자 6 이미지"
      ],
      "metadata": {
        "id": "P2m7a_KYtiwT"
      }
    },
    {
      "cell_type": "code",
      "source": [
        "show_random_images(train_images, target, 6)"
      ],
      "metadata": {
        "id": "FHoqZSCEs-bM"
      },
      "execution_count": null,
      "outputs": []
    },
    {
      "cell_type": "markdown",
      "source": [
        "- 숫자 9 이미지"
      ],
      "metadata": {
        "id": "P7KTRi9btkMD"
      }
    },
    {
      "cell_type": "code",
      "source": [
        "show_random_images(train_images, target, 9)"
      ],
      "metadata": {
        "id": "2U4MW-nztlFb"
      },
      "execution_count": null,
      "outputs": []
    },
    {
      "cell_type": "markdown",
      "source": [
        "- 숫자 2와 5"
      ],
      "metadata": {
        "id": "F1xtux9riVne"
      }
    },
    {
      "cell_type": "markdown",
      "source": [
        "- 숫자 2 이미지"
      ],
      "metadata": {
        "id": "9q3buVDYiGx_"
      }
    },
    {
      "cell_type": "code",
      "source": [
        "show_random_images(train_images, target, 2)"
      ],
      "metadata": {
        "id": "90Itx4XgiL3W"
      },
      "execution_count": null,
      "outputs": []
    },
    {
      "cell_type": "markdown",
      "source": [
        "- 숫자 5 이미지"
      ],
      "metadata": {
        "id": "oF90h-zKiITO"
      }
    },
    {
      "cell_type": "code",
      "source": [
        "show_random_images(train_images, target, 5)"
      ],
      "metadata": {
        "id": "220fM3gQiJkm"
      },
      "execution_count": null,
      "outputs": []
    },
    {
      "cell_type": "markdown",
      "source": [
        "- Test 이미지"
      ],
      "metadata": {
        "id": "-JBiqJTljiL3"
      }
    },
    {
      "cell_type": "code",
      "source": [
        "show_random_images(test_images, ['Unknown'] * 50000)"
      ],
      "metadata": {
        "id": "XbV8fJHrjjsG"
      },
      "execution_count": null,
      "outputs": []
    },
    {
      "cell_type": "markdown",
      "source": [
        "- 이미지를 벡터로 변환 후 csv파일로 저장"
      ],
      "metadata": {
        "id": "nRdx-MNo4zYA"
      }
    },
    {
      "cell_type": "code",
      "source": [
        "train_vectors = train_images.reshape(-1, 28*28)\n",
        "test_vectors = test_images.reshape(-1, 28*28)"
      ],
      "metadata": {
        "id": "7j9OY5On0HSo"
      },
      "execution_count": null,
      "outputs": []
    },
    {
      "cell_type": "code",
      "source": [
        "train_vectors.shape, test_vectors.shape"
      ],
      "metadata": {
        "id": "6tELiM2P0Qmo"
      },
      "execution_count": null,
      "outputs": []
    },
    {
      "cell_type": "code",
      "source": [
        "train_data = pd.DataFrame([])\n",
        "train_data['ID'] = list(range(50000))\n",
        "\n",
        "test_data = pd.DataFrame([])\n",
        "test_data['ID'] = list(range(50000, 90000))"
      ],
      "metadata": {
        "id": "mWxYH2kU4YS0"
      },
      "execution_count": null,
      "outputs": []
    },
    {
      "cell_type": "code",
      "source": [
        "for i in range(28*28):\n",
        "    train_data[f'X{i}'] = train_vectors[:, i]\n",
        "    test_data[f'X{i}'] = test_vectors[:, i]"
      ],
      "metadata": {
        "id": "7GK8ONTi43Wg"
      },
      "execution_count": null,
      "outputs": []
    },
    {
      "cell_type": "code",
      "source": [
        "# train_data.to_csv('./Data/train_array3.csv', index=False)\n",
        "# test_data.to_csv('./Data/test_array3.csv', index=False)"
      ],
      "metadata": {
        "id": "_vHPygnR5Rrx"
      },
      "execution_count": null,
      "outputs": []
    },
    {
      "cell_type": "markdown",
      "source": [
        "## 모델 학습 준비"
      ],
      "metadata": {
        "id": "8R8eEwVqa-Yw"
      }
    },
    {
      "cell_type": "code",
      "source": [
        "!pip install albumentations==1.2.1\n",
        "!pip install adabelief-pytorch\n",
        "!pip install timm"
      ],
      "metadata": {
        "id": "iFARf4tPgUBi",
        "colab": {
          "base_uri": "https://localhost:8080/"
        },
        "outputId": "109f74df-0dab-411c-a485-3987ad8bc65f"
      },
      "execution_count": 12,
      "outputs": [
        {
          "output_type": "stream",
          "name": "stdout",
          "text": [
            "Looking in indexes: https://pypi.org/simple, https://us-python.pkg.dev/colab-wheels/public/simple/\n",
            "Requirement already satisfied: albumentations==1.2.1 in /usr/local/lib/python3.7/dist-packages (1.2.1)\n",
            "Requirement already satisfied: PyYAML in /usr/local/lib/python3.7/dist-packages (from albumentations==1.2.1) (6.0)\n",
            "Requirement already satisfied: numpy>=1.11.1 in /usr/local/lib/python3.7/dist-packages (from albumentations==1.2.1) (1.21.6)\n",
            "Requirement already satisfied: qudida>=0.0.4 in /usr/local/lib/python3.7/dist-packages (from albumentations==1.2.1) (0.0.4)\n",
            "Requirement already satisfied: opencv-python-headless>=4.1.1 in /usr/local/lib/python3.7/dist-packages (from albumentations==1.2.1) (4.6.0.66)\n",
            "Requirement already satisfied: scipy in /usr/local/lib/python3.7/dist-packages (from albumentations==1.2.1) (1.7.3)\n",
            "Requirement already satisfied: scikit-image>=0.16.1 in /usr/local/lib/python3.7/dist-packages (from albumentations==1.2.1) (0.18.3)\n",
            "Requirement already satisfied: scikit-learn>=0.19.1 in /usr/local/lib/python3.7/dist-packages (from qudida>=0.0.4->albumentations==1.2.1) (1.0.2)\n",
            "Requirement already satisfied: typing-extensions in /usr/local/lib/python3.7/dist-packages (from qudida>=0.0.4->albumentations==1.2.1) (4.1.1)\n",
            "Requirement already satisfied: networkx>=2.0 in /usr/local/lib/python3.7/dist-packages (from scikit-image>=0.16.1->albumentations==1.2.1) (2.6.3)\n",
            "Requirement already satisfied: tifffile>=2019.7.26 in /usr/local/lib/python3.7/dist-packages (from scikit-image>=0.16.1->albumentations==1.2.1) (2021.11.2)\n",
            "Requirement already satisfied: matplotlib!=3.0.0,>=2.0.0 in /usr/local/lib/python3.7/dist-packages (from scikit-image>=0.16.1->albumentations==1.2.1) (3.2.2)\n",
            "Requirement already satisfied: imageio>=2.3.0 in /usr/local/lib/python3.7/dist-packages (from scikit-image>=0.16.1->albumentations==1.2.1) (2.9.0)\n",
            "Requirement already satisfied: PyWavelets>=1.1.1 in /usr/local/lib/python3.7/dist-packages (from scikit-image>=0.16.1->albumentations==1.2.1) (1.3.0)\n",
            "Requirement already satisfied: pillow!=7.1.0,!=7.1.1,>=4.3.0 in /usr/local/lib/python3.7/dist-packages (from scikit-image>=0.16.1->albumentations==1.2.1) (7.1.2)\n",
            "Requirement already satisfied: python-dateutil>=2.1 in /usr/local/lib/python3.7/dist-packages (from matplotlib!=3.0.0,>=2.0.0->scikit-image>=0.16.1->albumentations==1.2.1) (2.8.2)\n",
            "Requirement already satisfied: pyparsing!=2.0.4,!=2.1.2,!=2.1.6,>=2.0.1 in /usr/local/lib/python3.7/dist-packages (from matplotlib!=3.0.0,>=2.0.0->scikit-image>=0.16.1->albumentations==1.2.1) (3.0.9)\n",
            "Requirement already satisfied: cycler>=0.10 in /usr/local/lib/python3.7/dist-packages (from matplotlib!=3.0.0,>=2.0.0->scikit-image>=0.16.1->albumentations==1.2.1) (0.11.0)\n",
            "Requirement already satisfied: kiwisolver>=1.0.1 in /usr/local/lib/python3.7/dist-packages (from matplotlib!=3.0.0,>=2.0.0->scikit-image>=0.16.1->albumentations==1.2.1) (1.4.4)\n",
            "Requirement already satisfied: six>=1.5 in /usr/local/lib/python3.7/dist-packages (from python-dateutil>=2.1->matplotlib!=3.0.0,>=2.0.0->scikit-image>=0.16.1->albumentations==1.2.1) (1.15.0)\n",
            "Requirement already satisfied: threadpoolctl>=2.0.0 in /usr/local/lib/python3.7/dist-packages (from scikit-learn>=0.19.1->qudida>=0.0.4->albumentations==1.2.1) (3.1.0)\n",
            "Requirement already satisfied: joblib>=0.11 in /usr/local/lib/python3.7/dist-packages (from scikit-learn>=0.19.1->qudida>=0.0.4->albumentations==1.2.1) (1.1.0)\n",
            "Looking in indexes: https://pypi.org/simple, https://us-python.pkg.dev/colab-wheels/public/simple/\n",
            "Collecting adabelief-pytorch\n",
            "  Downloading adabelief_pytorch-0.2.1-py3-none-any.whl (5.8 kB)\n",
            "Collecting colorama>=0.4.0\n",
            "  Downloading colorama-0.4.5-py2.py3-none-any.whl (16 kB)\n",
            "Requirement already satisfied: tabulate>=0.7 in /usr/local/lib/python3.7/dist-packages (from adabelief-pytorch) (0.8.10)\n",
            "Requirement already satisfied: torch>=0.4.0 in /usr/local/lib/python3.7/dist-packages (from adabelief-pytorch) (1.12.1+cu113)\n",
            "Requirement already satisfied: typing-extensions in /usr/local/lib/python3.7/dist-packages (from torch>=0.4.0->adabelief-pytorch) (4.1.1)\n",
            "Installing collected packages: colorama, adabelief-pytorch\n",
            "Successfully installed adabelief-pytorch-0.2.1 colorama-0.4.5\n",
            "Looking in indexes: https://pypi.org/simple, https://us-python.pkg.dev/colab-wheels/public/simple/\n",
            "Collecting timm\n",
            "  Downloading timm-0.6.7-py3-none-any.whl (509 kB)\n",
            "\u001b[K     |████████████████████████████████| 509 kB 4.5 MB/s \n",
            "\u001b[?25hRequirement already satisfied: torchvision in /usr/local/lib/python3.7/dist-packages (from timm) (0.13.1+cu113)\n",
            "Requirement already satisfied: torch>=1.4 in /usr/local/lib/python3.7/dist-packages (from timm) (1.12.1+cu113)\n",
            "Requirement already satisfied: typing-extensions in /usr/local/lib/python3.7/dist-packages (from torch>=1.4->timm) (4.1.1)\n",
            "Requirement already satisfied: requests in /usr/local/lib/python3.7/dist-packages (from torchvision->timm) (2.23.0)\n",
            "Requirement already satisfied: pillow!=8.3.*,>=5.3.0 in /usr/local/lib/python3.7/dist-packages (from torchvision->timm) (7.1.2)\n",
            "Requirement already satisfied: numpy in /usr/local/lib/python3.7/dist-packages (from torchvision->timm) (1.21.6)\n",
            "Requirement already satisfied: chardet<4,>=3.0.2 in /usr/local/lib/python3.7/dist-packages (from requests->torchvision->timm) (3.0.4)\n",
            "Requirement already satisfied: certifi>=2017.4.17 in /usr/local/lib/python3.7/dist-packages (from requests->torchvision->timm) (2022.6.15)\n",
            "Requirement already satisfied: idna<3,>=2.5 in /usr/local/lib/python3.7/dist-packages (from requests->torchvision->timm) (2.10)\n",
            "Requirement already satisfied: urllib3!=1.25.0,!=1.25.1,<1.26,>=1.21.1 in /usr/local/lib/python3.7/dist-packages (from requests->torchvision->timm) (1.24.3)\n",
            "Installing collected packages: timm\n",
            "Successfully installed timm-0.6.7\n"
          ]
        }
      ]
    },
    {
      "cell_type": "code",
      "source": [
        "import torch\n",
        "import torch.nn as nn\n",
        "import torch.optim as optim\n",
        "from torch import Tensor\n",
        "from torch.utils.data import Dataset, DataLoader\n",
        "from torch.optim.lr_scheduler import _LRScheduler\n",
        "from torch.nn.modules.loss import _WeightedLoss\n",
        "from torch.optim import Optimizer\n",
        "from torch.nn import Module\n",
        " \n",
        "import albumentations as A\n",
        "from albumentations import Compose\n",
        "from albumentations.pytorch import ToTensorV2\n",
        "from albumentations.core.transforms_interface import ImageOnlyTransform\n",
        "\n",
        "import timm\n",
        "from adabelief_pytorch import AdaBelief"
      ],
      "metadata": {
        "id": "n8LBsMPybBJx"
      },
      "execution_count": 13,
      "outputs": []
    },
    {
      "cell_type": "code",
      "source": [
        "device = torch.device('cuda' if torch.cuda.is_available() else 'cpu')\n",
        "print(f'현재 device는 {device}입니다')"
      ],
      "metadata": {
        "id": "VHaG21kBKVPp",
        "colab": {
          "base_uri": "https://localhost:8080/"
        },
        "outputId": "a5e852e3-07ae-4695-b15c-5a6563158104"
      },
      "execution_count": 14,
      "outputs": [
        {
          "output_type": "stream",
          "name": "stdout",
          "text": [
            "현재 device는 cuda입니다\n"
          ]
        }
      ]
    },
    {
      "cell_type": "code",
      "source": [
        "## 정확도 계산\n",
        "def accuracy(true: npt.NDArray[np.int_], pred: npt.NDArray[np.int_]) -> float:\n",
        "    return np.sum(true == pred) / len(true)"
      ],
      "metadata": {
        "id": "lINGTPmTco4a"
      },
      "execution_count": 15,
      "outputs": []
    },
    {
      "cell_type": "code",
      "source": [
        "def seed_everything(seed: int = 22) -> None:\n",
        "    random.seed(seed)\n",
        "    os.environ['PYTHONHASHSEED'] = str(seed)\n",
        "    np.random.seed(seed)\n",
        "    torch.manual_seed(seed)\n",
        "    torch.cuda.manual_seed(seed)\n",
        "    torch.backends.cudnn.deterministic = True\n",
        "    torch.backends.cudnn.benchmark = True"
      ],
      "metadata": {
        "id": "Bs1K4etzcwE-"
      },
      "execution_count": 16,
      "outputs": []
    },
    {
      "cell_type": "code",
      "source": [
        "def clear_gpu() -> None:\n",
        "    gc.collect()\n",
        "    torch.cuda.empty_cache()"
      ],
      "metadata": {
        "id": "Ts-GMlTEn_YX"
      },
      "execution_count": 17,
      "outputs": []
    },
    {
      "cell_type": "markdown",
      "source": [
        "- 학습 이미지"
      ],
      "metadata": {
        "id": "Fw66toreUa_E"
      }
    },
    {
      "cell_type": "markdown",
      "source": [
        "`-` 3d point 데이터를 보면 숫자마다 점의 개수가 다르다\n",
        "\n",
        "`-` 그에 따라, 픽셀의 최댓값도 다르다\n",
        "\n",
        "`-` 이미지마다 픽셀의 최댓값을 1로 맞춰주어 차이를 줄여주겠다\n",
        "\n",
        "`-` 그러면 어떤 영역에 점이 더 많이 분포하는지가 차이점이 된다\n",
        "\n",
        "`-` 최댓값을 255로 해도 되지만 어차피 정규화를 할 것이므로 미리 1로 맞춰주겠다"
      ],
      "metadata": {
        "id": "aAlAWAxI1TEi"
      }
    },
    {
      "cell_type": "code",
      "source": [
        "def change_max_pixel_value(image, new_max_pixel_value=1.0):\n",
        "    max_pixel_value = np.max(image)\n",
        "    if max_pixel_value > new_max_pixel_value:\n",
        "        image *= (new_max_pixel_value / max_pixel_value)\n",
        "    return image"
      ],
      "metadata": {
        "id": "tomn2lVXkXoR"
      },
      "execution_count": 18,
      "outputs": []
    },
    {
      "cell_type": "code",
      "source": [
        "train_data = pd.read_csv('./Data/train_array3.csv').drop('ID', axis=1)\n",
        "test_data = pd.read_csv('./Data/test_array3.csv').drop('ID', axis=1)"
      ],
      "metadata": {
        "id": "a5jYhHqi-1tS"
      },
      "execution_count": 19,
      "outputs": []
    },
    {
      "cell_type": "code",
      "source": [
        "train_images = train_data.to_numpy().reshape(-1, 28, 28, 1)\n",
        "test_images = test_data.to_numpy().reshape(-1, 28, 28, 1)"
      ],
      "metadata": {
        "id": "8MQuSNEE5kZx"
      },
      "execution_count": 20,
      "outputs": []
    },
    {
      "cell_type": "markdown",
      "source": [
        "- 이미지 픽셀의 최댓값을 1로 변경"
      ],
      "metadata": {
        "id": "EfHFtO4c_IaK"
      }
    },
    {
      "cell_type": "code",
      "source": [
        "for train_image in train_images:\n",
        "    train_image = change_max_pixel_value(train_image)"
      ],
      "metadata": {
        "id": "y5KPYtZC_NPi"
      },
      "execution_count": 21,
      "outputs": []
    },
    {
      "cell_type": "code",
      "source": [
        "for test_image in test_images:\n",
        "    test_image = change_max_pixel_value(test_image)"
      ],
      "metadata": {
        "id": "O43ECAsP_pIK"
      },
      "execution_count": 22,
      "outputs": []
    },
    {
      "cell_type": "markdown",
      "source": [
        "- 이미지의 채널을 3차원으로 변경"
      ],
      "metadata": {
        "id": "7k83zQ7dBbcv"
      }
    },
    {
      "cell_type": "code",
      "source": [
        "train_images = np.concatenate([train_images, train_images, train_images], axis=-1).astype(np.float32)\n",
        "test_images = np.concatenate([test_images, test_images, test_images], axis=-1).astype(np.float32)"
      ],
      "metadata": {
        "id": "P3ksvqWkTnM8"
      },
      "execution_count": 23,
      "outputs": []
    },
    {
      "cell_type": "code",
      "source": [
        "train_images.shape, test_images.shape"
      ],
      "metadata": {
        "id": "DB3o-ozkAeJq",
        "colab": {
          "base_uri": "https://localhost:8080/"
        },
        "outputId": "e721e832-6398-4b96-ea7c-84946396538c"
      },
      "execution_count": 24,
      "outputs": [
        {
          "output_type": "execute_result",
          "data": {
            "text/plain": [
              "((50000, 28, 28, 3), (40000, 28, 28, 3))"
            ]
          },
          "metadata": {},
          "execution_count": 24
        }
      ]
    },
    {
      "cell_type": "markdown",
      "source": [
        "- 데이터 셋과 데이터 로더"
      ],
      "metadata": {
        "id": "VqF9HjyEEelg"
      }
    },
    {
      "cell_type": "code",
      "source": [
        "class CustomDataset(Dataset):\n",
        "    def __init__(\n",
        "        self,\n",
        "        images: Sequence[npt.NDArray], \n",
        "        labels: Optional[Sequence[int]] = None,\n",
        "        transforms: Optional[Callable[[Compose], Dict[str, Tensor]]] = None\n",
        "    ) -> None:\n",
        "        self.images = images\n",
        "        self.labels = labels\n",
        "        self.transforms = transforms\n",
        "    \n",
        "    def __getitem__(self, idx: int) -> Union[Tuple[Tensor, int], Tensor]:\n",
        "        image = self.images[idx]    \n",
        "        if self.transforms is not None:\n",
        "            image = self.transforms(image=image)['image']  ## albumentations 사용\n",
        "        image = torch.tensor(image, dtype=torch.float32)\n",
        "\n",
        "        if self.labels is not None:\n",
        "            label = torch.tensor(self.labels[idx], dtype=torch.int64)\n",
        "            return image, label\n",
        "        return image  ## test는 라벨이 없다\n",
        "    \n",
        "    def __len__(self) -> int:\n",
        "        return len(self.images)  "
      ],
      "metadata": {
        "id": "4mH74d_iEgno"
      },
      "execution_count": 25,
      "outputs": []
    },
    {
      "cell_type": "code",
      "source": [
        "def get_dataloader(\n",
        "        X: Sequence[npt.NDArray], \n",
        "        y: Optional[Sequence[int]] = None, \n",
        "        transforms: Optional[Callable[[Compose], Dict[str, Tensor]]] = None, \n",
        "        shuffle_dataloader: bool = True\n",
        "    ) -> DataLoader:\n",
        "    dataset = CustomDataset(X, y, transforms)    \n",
        "    dataloader = DataLoader(dataset, batch_size=BATCH_SIZE, shuffle=shuffle_dataloader)\n",
        "    return dataloader"
      ],
      "metadata": {
        "id": "eRhfFGB1tpO5"
      },
      "execution_count": 26,
      "outputs": []
    },
    {
      "cell_type": "markdown",
      "source": [
        "- 데이터 변환"
      ],
      "metadata": {
        "id": "rlEnL4U7EZ1o"
      }
    },
    {
      "cell_type": "markdown",
      "source": [
        "`-` https://github.com/albumentations-team/albumentations/blob/master/albumentations/augmentations/transforms.py\n",
        "\n",
        "`-` 위의 링크를 통해 변환함수들의 구조를 확인하자"
      ],
      "metadata": {
        "id": "LzCThJENN-yU"
      }
    },
    {
      "cell_type": "code",
      "source": [
        "RGB_MEAN = [np.mean((train_images[..., i])) for i in range(3)] \n",
        "RGB_STD = [np.std(train_images[..., i]) for i in range(3)]  "
      ],
      "metadata": {
        "id": "pKUIPeD3olLv"
      },
      "execution_count": 27,
      "outputs": []
    },
    {
      "cell_type": "code",
      "source": [
        "def sharpen(image):\n",
        "    \"\"\"이미지 픽셀값의 범위는 0.0 ~ 1.0 이어야 함\"\"\"\n",
        "    kernel = np.array([[0, -1, 0],\n",
        "                       [-1, 5, -1],\n",
        "                       [0, -1, 0]])\n",
        "    transformed_image = cv2.filter2D(image, -1, kernel)\n",
        "    transformed_image = np.clip(transformed_image, 0.0, 1.0)\n",
        "    return transformed_image"
      ],
      "metadata": {
        "id": "qCIogEwUBqCL"
      },
      "execution_count": 28,
      "outputs": []
    },
    {
      "cell_type": "code",
      "source": [
        "class Sharpen(ImageOnlyTransform):\n",
        "    def __init__(\n",
        "        self,\n",
        "        always_apply=False,\n",
        "        p=1.0\n",
        "    ): \n",
        "        super(Sharpen, self).__init__(always_apply, p)\n",
        "    \n",
        "    def apply(self, image, **params):\n",
        "        return sharpen(image)"
      ],
      "metadata": {
        "id": "gu1opurSCKa9"
      },
      "execution_count": 29,
      "outputs": []
    },
    {
      "cell_type": "code",
      "source": [
        "## 데이터 변환 방식을 정의 (Agumentation)\n",
        "def get_transforms(phase: str) -> Compose:\n",
        "    if phase == 'train':\n",
        "        transforms = A.Compose([\n",
        "            A.RandomSnow(brightness_coeff=1.8, p=0.3),\n",
        "            A.HorizontalFlip(p=0.5), \n",
        "            A.VerticalFlip(p=0.5),  \n",
        "            A.Rotate(limit=100, interpolation=cv2.INTER_NEAREST, border_mode=cv2.BORDER_CONSTANT, p=0.75),  ## 무작위로 -limit~limit 각도 회전\n",
        "            A.Resize(IMAGE_H, IMAGE_W),\n",
        "            Sharpen(),\n",
        "            A.RandomGamma(gamma_limit=(90, 110), p=0.5),  ## X -> (X ** gamma_list[0] ~ X ** gamma_list[1])\n",
        "            A.RandomBrightnessContrast(brightness_limit=(-0.1, 0.0), contrast_limit=(-0.25, 0.05), p=0.5),\n",
        "            A.GaussNoise(var_limit=(0.0, 0.001), p=0.5),  ## X -> X + gauss\n",
        "            A.Normalize(mean=RGB_MEAN, std=RGB_STD, max_pixel_value=1.0), \n",
        "            ToTensorV2()  ## (H X W X C) 차원의 numpy array를 (C X H X W) 차원의 torch tensor로 변환  \n",
        "        ])\n",
        "    elif phase == 'valid':\n",
        "        transforms = A.Compose([\n",
        "            A.Resize(IMAGE_H, IMAGE_W),\n",
        "            Sharpen(),\n",
        "            A.Normalize(mean=RGB_MEAN, std=RGB_STD, max_pixel_value=1.0), \n",
        "            ToTensorV2()  \n",
        "        ])\n",
        "        \n",
        "    return transforms  ## 데이터 변환 방식을 반환"
      ],
      "metadata": {
        "id": "KeUHgT0wS00J"
      },
      "execution_count": 30,
      "outputs": []
    },
    {
      "cell_type": "markdown",
      "source": [
        "- 조기 중단"
      ],
      "metadata": {
        "id": "IYPBhwtgKQJZ"
      }
    },
    {
      "cell_type": "code",
      "source": [
        "## Copyright (c) 2018 Bjarte Mehus Sunde\n",
        "## 코드 참고: https://github.com/Bjarten/early-stopping-pytorch/blob/master/pytorchtools.py\n",
        "class EarlyStopping:\n",
        "    \"\"\"주어진 patience 횟수 이후로 validation score가 개선되지 않으면 학습을 조기 중단\"\"\"\n",
        "    mode_dict = {'min':-1, 'max':1}\n",
        "    score_metrics = [\n",
        "                      'accuracy',\n",
        "                    ]\n",
        "\n",
        "    def __init__(\n",
        "        self, \n",
        "        patience: int = 7, \n",
        "        monitored_quantity: str = 'loss', \n",
        "        mode: str = 'min', \n",
        "        min_delta: float = 0.0, \n",
        "        path: str = './weight', \n",
        "        model_name: str = '', \n",
        "        current_fold: int = 1\n",
        "    ) -> None:\n",
        "        \"\"\"\n",
        "        Args:\n",
        "            patience (int): score가 개선될 때까지 기다리는 에폭\n",
        "                            Default: 7\n",
        "                          \n",
        "            monitored_quantity (str): 값의 변화를 모니터링할 수치(score)\n",
        "                            Default: 'loss'\n",
        "\n",
        "            mode (str): score를 개선시킬 방식\n",
        "                            Default: 'min'\n",
        "\n",
        "            min_delta (float): 개선되었다고 인정되는 score의 최소 변화\n",
        "                            Default: 0.0\n",
        "\n",
        "            path (str): checkpoint 공통 저장 경로\n",
        "                            Default: './weight'\n",
        "\n",
        "            model_name (str): 학습시킬 모델의 이름\n",
        "                            Default: ''\n",
        "\n",
        "            current_fold (int): 현재 학습을 진행하는 fold의 순서\n",
        "                            Default: 1\n",
        "        \"\"\"\n",
        "        self.patience = patience\n",
        "        self.counter = 0\n",
        "        self.mode = mode\n",
        "        self.direction = self.mode_dict[mode]\n",
        "        self.monitored_quantity = monitored_quantity\n",
        "        self.best_score = -np.Inf\n",
        "        self.valid_loss = np.Inf\n",
        "        self.valid_metric_score = None  ## 평가지표 (i.g. accuracy)\n",
        "        self.early_stop = False\n",
        "        self.min_delta = min_delta\n",
        "        self.path = path\n",
        "        self.model_name = model_name\n",
        "        self.current_fold = current_fold\n",
        "\n",
        "    def __call__(\n",
        "        self, \n",
        "        model: Module, \n",
        "        valid_loss: float, \n",
        "        valid_metric_score: Optional[float] = None\n",
        "    ) -> None:\n",
        "        ## score는 클수록 좋다\n",
        "        if self.monitored_quantity == 'loss':\n",
        "            score = valid_loss * self.direction\n",
        "        elif self.monitored_quantity in self.score_metrics:\n",
        "            score = valid_metric_score * self.direcion\n",
        "        else:\n",
        "            score = None\n",
        "\n",
        "        ## score가 개선되었는지 확인\n",
        "        if score <= self.best_score + self.min_delta: \n",
        "            self.counter += 1 \n",
        "            if self.counter > self.patience:  ## 만약 score가 개선되지 않은 에폭이 patience 횟수보다 크다면 조기 중단\n",
        "                self.early_stop = True\n",
        "        else: \n",
        "            self.best_score = score \n",
        "            self.save_checkpoint(model, valid_loss, valid_metric_score) \n",
        "            self.counter = 0  ## score가 개선되었으므로 0으로 변경\n",
        "\n",
        "    def save_checkpoint(\n",
        "        self, \n",
        "        model: Module, \n",
        "        valid_loss: float, \n",
        "        valid_metric_score: Optional[float] = None\n",
        "    ) -> None:\n",
        "        \"\"\"validation score가 개선되면 모델을 저장\"\"\"\n",
        "        torch.save(model.state_dict(), self.path + f'/{self.model_name}_best_{self.current_fold}.pt') \n",
        "        self.valid_loss = valid_loss  ## 모델이 더 좋게 갱신되었으므로 이때의 valid loss를 기준치로 변경\n",
        "        self.valid_metric_score = valid_metric_score  ## 이때의 valid metric score도 변경해준다\n",
        "\n",
        "    def check_early_stop(self) -> bool:\n",
        "        return self.early_stop\n",
        "\n",
        "    def set_fold(self, current_fold: int) -> None:\n",
        "        self.current_fold = current_fold\n",
        "\n",
        "    def reset_score(self) -> None:\n",
        "        \"\"\"다음 fold 학습을 위해 score 관련 파라미터를 초기화\"\"\"\n",
        "        self.counter = 0\n",
        "        self.best_score = -np.Inf\n",
        "        self.valid_loss = np.Inf\n",
        "        self.valid_metric_score = None\n",
        "        self.early_stop = False"
      ],
      "metadata": {
        "id": "5iBTSeFgKSop"
      },
      "execution_count": 31,
      "outputs": []
    },
    {
      "cell_type": "markdown",
      "source": [
        "## 모델 K겹 교차검증"
      ],
      "metadata": {
        "id": "3lq9uwAwJbZI"
      }
    },
    {
      "cell_type": "code",
      "source": [
        "from sklearn.model_selection import StratifiedKFold"
      ],
      "metadata": {
        "id": "T8bFvyCXKYqK"
      },
      "execution_count": 32,
      "outputs": []
    },
    {
      "cell_type": "markdown",
      "source": [
        "- Kfold와 손실 함수"
      ],
      "metadata": {
        "id": "OdJ4NrlutzeQ"
      }
    },
    {
      "cell_type": "code",
      "source": [
        "skfold = StratifiedKFold(n_splits=NUM_FOLDS, shuffle=True, random_state=SEED)\n",
        "loss_fn = nn.CrossEntropyLoss(label_smoothing=LABEL_SMOOTHING)"
      ],
      "metadata": {
        "id": "pcwBZjJMKa9Z"
      },
      "execution_count": 33,
      "outputs": []
    },
    {
      "cell_type": "markdown",
      "source": [
        "- early stopping"
      ],
      "metadata": {
        "id": "jugLYDOLuYcB"
      }
    },
    {
      "cell_type": "code",
      "source": [
        "early_stopping = EarlyStopping(patience=7,\n",
        "                               path=SAVE_PATH,\n",
        "                               model_name=MODEL_NAME,\n",
        "                               current_fold=1)  ## patience 횟수 에폭 후에도 검증 손실이 작아지지 않으면 조기 중단"
      ],
      "metadata": {
        "id": "Zyp4tzxKuZOI"
      },
      "execution_count": 34,
      "outputs": []
    },
    {
      "cell_type": "code",
      "source": [
        "def train(\n",
        "        model: Module,\n",
        "        dataloader: DataLoader, \n",
        "        optimizer: Optimizer, \n",
        "        loss_fn: _WeightedLoss, \n",
        "        scheduler: Optional[_LRScheduler] = None\n",
        "    ) -> Tuple[Module, float]:\n",
        "    \"\"\"dataloader의 데이터로 모델을 학습시킨 후 학습된 모델과 평균 배치 훈련 오차를 반환\"\"\"  \n",
        "    train_loss = 0.0  ## mini-batch 평균 훈련 오차 \n",
        "    model = model.to(device)\n",
        "    model.train()\n",
        "\n",
        "    for X, y in tqdm(dataloader):  ## 미니 배치 단위로 꺼내온다, X는 미니 배치, y는 레이블\n",
        "        X, y = X.to(device), y.to(device)\n",
        "        y_hat = model(X)\n",
        "        loss = loss_fn(y_hat, y)  \n",
        "        optimizer.zero_grad()  ## 그래디언트 초기화\n",
        "        loss.backward()   ## 미분\n",
        "        optimizer.step()  ## 업데이트\n",
        "        train_loss += (loss.item() / len(dataloader)) \n",
        "  \n",
        "    ## 에폭마다 학습률 조절\n",
        "    if scheduler is not None:\n",
        "        scheduler.step()\n",
        "\n",
        "    return model, train_loss"
      ],
      "metadata": {
        "id": "uovat0AnJvnR"
      },
      "execution_count": 35,
      "outputs": []
    },
    {
      "cell_type": "code",
      "source": [
        "def evaluate(\n",
        "        model: Module, \n",
        "        dataloader: DataLoader, \n",
        "        loss_fn: _WeightedLoss\n",
        "    ) -> Tuple[float, float]:\n",
        "    \"\"\"dataloader의 데이터를 모델이 평가한 후 평균 배치 검증 오차와 정확도를 반환\"\"\"\n",
        "    valid_acc, valid_loss = 0.0, 0.0  ## mini-batch 평균 검증 오차와 정확도 \n",
        "    model = model.to(device)\n",
        "    model.eval()  \n",
        "\n",
        "    with torch.no_grad():  ## 역전파를 계산할 필요가 없으니까\n",
        "        for X, y in dataloader:  ## 미니 배치 단위로 꺼내온다, X는 미니 배치, y는 레이블\n",
        "            X, y = X.to(device), y.to(device)\n",
        "            y_hat = model(X)\n",
        "            loss = loss_fn(y_hat, y)  \n",
        "            acc = accuracy(y.cpu().numpy(), y_hat.cpu().numpy().argmax(-1))    \n",
        "            valid_loss += loss.item() / len(dataloader)\n",
        "            valid_acc += (acc * len(y) / len(dataloader.dataset))  ## 각 배치마다 정확도(정답 개수 / 전체 개수)\n",
        "\n",
        "    return valid_loss, valid_acc"
      ],
      "metadata": {
        "id": "1TCpoAmDJxPR"
      },
      "execution_count": 36,
      "outputs": []
    },
    {
      "cell_type": "code",
      "source": [
        "def kfold_cross_validate(\n",
        "        model: Module, \n",
        "        X: Sequence[npt.NDArray], \n",
        "        y: Sequence[int], \n",
        "        skfold: StratifiedKFold, \n",
        "        loss_fn: _WeightedLoss, \n",
        "        early_stopping: EarlyStopping\n",
        "    ) -> Tuple[Module, List[List[float]], List[List[float]]]:\n",
        "    \"\"\"K겹 교차검증을 통해 모델의 성능을 평가하고 학습된 모델과 폴드별 훈련 손실, 폴드별 검증 손실을 반환\"\"\"\n",
        "    seed_everything(SEED)  ## 정확한 재현을 위함\n",
        "    num_folds = skfold.n_splits  ## 폴드의 개수\n",
        "    fold_valid_loss = []  ## 폴드별 가장 작은 검증 손실\n",
        "    fold_valid_acc = []  ## 폴드별 가장 작은 검증 손실을 가질 때의 정확도\n",
        "    fold_train_losses_per_epoch = [[] for _ in range(num_folds)]  ## 폴드별 1 에폭에 따른 훈련 배치 손실\n",
        "    fold_valid_losses_per_epoch = [[] for _ in range(num_folds)]  ## 폴드별 1 에폭에 따른 검증 배치 손실\n",
        "\n",
        "    for fold, (train_idx, valid_idx) in enumerate(skfold.split(X, y)):\n",
        "        print(f'[{fold + 1} / {num_folds}] Fold Training......')\n",
        "\n",
        "        if fold != 1:\n",
        "            continue\n",
        "\n",
        "        ## 메모리 절약\n",
        "        clear_gpu()\n",
        "        \n",
        "        ## 훈련 데이터와 검증 데이터로 분할\n",
        "        X_train, X_valid = X[train_idx], X[valid_idx] \n",
        "        y_train, y_valid = y[train_idx], y[valid_idx]\n",
        "\n",
        "        ## Dataloader\n",
        "        train_dataloader = get_dataloader(X_train, y_train, get_transforms('train'))\n",
        "        valid_dataloader = get_dataloader(X_valid, y_valid, get_transforms('valid'))\n",
        "\n",
        "        ## 딥러닝 모델의 기본 가중치 불러오기\n",
        "        model.load_state_dict(torch.load(MODEL_DEFAULT_WEIGHT_PATH, map_location=device))\n",
        "\n",
        "        ## optimizer, scheduler (수동으로 선택)\n",
        "        optimizer = AdaBelief(model.parameters(),\n",
        "                      lr=LEARNING_RATE,  ## LEARNING_RATE\n",
        "                      eps=1e-8,\n",
        "                      weight_decay=1e-2,\n",
        "                      betas=(0.9, 0.999),\n",
        "                      weight_decouple=True,\n",
        "                      rectify=False,\n",
        "                      print_change_log=False)\n",
        "        \n",
        "        scheduler = None\n",
        "\n",
        "        ## early stop, 다음 폴드 학습을 위해 score 관련 파라미터 초기화\n",
        "        early_stopping.reset_score()\n",
        "        early_stopping.set_fold(fold + 1)  \n",
        "        \n",
        "        ## 폴드마다 모델 학습\n",
        "        for epoch in tqdm(range(1, NUM_EPOCHS + 1)): ## (배치사이즈 X 에폭) 만큼 훈련시킴           \n",
        "            model, train_loss = train(model, train_dataloader, optimizer, loss_fn, scheduler)  ## 모델 학습\n",
        "            valid_loss, valid_acc = evaluate(model, valid_dataloader, loss_fn)  ## 모델 평가\n",
        "            fold_train_losses_per_epoch[fold].append(train_loss) \n",
        "            fold_valid_losses_per_epoch[fold].append(valid_loss)  \n",
        "\n",
        "            print_score_condition = (epoch == 1 or epoch % 1 == 0 or epoch == NUM_EPOCHS)  ## 10의 배수값을 가지는 에폭마다 score 출력\n",
        "            score_information = f'[Epoch: {epoch:>2}]  train loss = {train_loss:.5f}  valid loss = {valid_loss:.5f}  valid acc = {valid_acc:.5f}'\n",
        "\n",
        "            ## 평균 배치 훈련 오차와 검증 오차 출력\n",
        "            if print_score_condition:  \n",
        "                print(score_information)  \n",
        "                \n",
        "            ## 에폭마다 early stopping 실행\n",
        "            early_stopping(model, valid_loss, valid_acc)  ## __call__ function\n",
        "            if early_stopping.check_early_stop(): \n",
        "                if not print_score_condition:  ## 이미 출력한 에폭에 대해 중복으로 출력하지 않기 위함\n",
        "                    print(score_information) \n",
        "                print('Early Stopping!')\n",
        "                break \n",
        "\n",
        "        fold_valid_loss.append(early_stopping.valid_loss)  ## 폴드별 가장 작은 검증 손실\n",
        "        fold_valid_acc.append(early_stopping.valid_metric_score)  ## 폴드별 가장 작은 검증 손실일 때의 정확도\n",
        "         \n",
        "        ## 폴드별 학습 및 검증 종료시 가장 작은 검증 손실과 이때의 정확도를 출력\n",
        "        print(f'{fold + 1} Fold -> Best Valid Loss: {early_stopping.valid_loss:.5f} Valid Accuracy: {early_stopping.valid_metric_score:.5f}', end='\\n\\n')\n",
        "        \n",
        "    ## 폴드별 가장 손실이 작은 모델의 평균 검증 손실과 이때의 평균 정확도를 출력\n",
        "    print(f'{num_folds} Fold Mean Valid Best Loss: {np.mean(fold_valid_loss):.5f}')\n",
        "    print(f'{num_folds} Fold Mean Valid Accuracy: {np.mean(fold_valid_acc):.5f}')\n",
        "\n",
        "    return model, fold_train_losses_per_epoch, fold_valid_losses_per_epoch"
      ],
      "metadata": {
        "id": "gxQWX9ZIuhgi"
      },
      "execution_count": 46,
      "outputs": []
    },
    {
      "cell_type": "markdown",
      "source": [
        "- 모델 선언 및 가중치 저장"
      ],
      "metadata": {
        "id": "LyGMoqytkIDx"
      }
    },
    {
      "cell_type": "code",
      "source": [
        "model = timm.create_model(MODEL_NAME, pretrained=True, num_classes=NUM_CLASSES)\n",
        "torch.save(model.state_dict(), MODEL_DEFAULT_WEIGHT_PATH)"
      ],
      "metadata": {
        "id": "u48sHy24kHIB",
        "colab": {
          "base_uri": "https://localhost:8080/"
        },
        "outputId": "0610a104-bd4c-453b-a07c-9fa84931c6c9"
      },
      "execution_count": 38,
      "outputs": [
        {
          "output_type": "stream",
          "name": "stderr",
          "text": [
            "Downloading: \"https://github.com/rwightman/pytorch-image-models/releases/download/v0.1-weights/efficientnet_b1-533bc792.pth\" to /root/.cache/torch/hub/checkpoints/efficientnet_b1-533bc792.pth\n"
          ]
        }
      ]
    },
    {
      "cell_type": "markdown",
      "source": [
        "- 모델 K겹 교차검증"
      ],
      "metadata": {
        "id": "s0OMjmQ_t12g"
      }
    },
    {
      "cell_type": "markdown",
      "source": [
        "`-` 이미지 $112 \\times 112$ 크기 기준 에폭 하나당 코랩에서 3분 30초쯤 걸린다"
      ],
      "metadata": {
        "id": "EwZoUATu5P10"
      }
    },
    {
      "cell_type": "markdown",
      "source": [
        "`-` 15시 55분 시작"
      ],
      "metadata": {
        "id": "q27TltjX6ynp"
      }
    },
    {
      "cell_type": "code",
      "source": [
        "model, fold_train_losses_per_epoch, fold_valid_losses_per_epoch = kfold_cross_validate(model, train_images, target, skfold, loss_fn, early_stopping)"
      ],
      "metadata": {
        "colab": {
          "base_uri": "https://localhost:8080/",
          "height": 702,
          "referenced_widgets": [
            "485b967935e544a6b139ec586433b400",
            "d57526f438f94fd3af4492f87f88cd2c",
            "08b3e0c729d745ae9d7b02b8e5d6b3df",
            "6b820e917dfa4a3bbb05688ce26a9c80",
            "874e328590d94264979757646dbfb49c",
            "06151b81a7e941df9be7e9e703de118d",
            "aef2966b88c34cd9b6d35e416796ca94",
            "dadeb86c6a714bec97cf736bf53f65aa",
            "03ce44fa68bc4844ac3a32d5edead442",
            "4180e02b3c3145168b06f748be98f763",
            "9c820d56b4c24e40977963a27932e06f",
            "1c38f78836db49eea11c94a9489362c9",
            "41017da8af3f47a480440c239ea143ad",
            "06f46524df9b40df9f3a4c40cacc9c99",
            "c92be5059be34a21bfe94dc09bc2aa77",
            "f506588403064be0b111ea9ea4f76ef2",
            "257a86c499d0455a9dc6ac3aacc6b829",
            "58a49b7ac898433f998762e57e4225ec",
            "8dd753006fb9430dbde2102d3d8f6dd8",
            "a7ccb587cf384974b0dd115beba14407",
            "6c43c05ef14a4029b66213c36bd1bf55",
            "76e3796da45440e5a11ccc5ad885f289",
            "31b1e70e641b41978e3e901d4fc6eb1d",
            "d36024423b444feca786f504ce3a4cf4",
            "93b649688e5247e0a99213cca604fa70",
            "05765c513b414cf78b0f0719ad075dd5",
            "c0884029cc384a2081c5ad0e19226996",
            "d30af49b707b407cbfe90714b7bc1f9a",
            "c657a6bc1c2c40e8886ccb9b1d9787e4",
            "e32dd5a2d7344a2a955394da868f3ee3",
            "ee438bba783d452896cc29060aacc059",
            "8e3a891d75de4dbf819831edfc5e7d93",
            "1a4282a6ff1b4b6ba1dac2608f286aa5",
            "4daf1b4bbffe464c883b2cfde46ee412",
            "c08a1bf62d1449f8a3ee06ec7e9632c2",
            "72c32e565e364187b99737c380a0371d",
            "6c24dba8ccf84f1bba4a810a7a98ed59",
            "77414c3378a04c178ea3e832561bc4b7",
            "e640ee2135a445a38d6e2fdc030b9f5e",
            "4b924dfee4db411aace23159662938f2",
            "38e96c263a1f4a76aef337f812b790fa",
            "bd5cb089e09449988f1169e50c5a67ad",
            "a0e5c33ebcfd4f839d636b9b9c7e5098",
            "889c99e6784f4e98b754f3e9c53a679f",
            "c0a6a6862afc4091832a8d3f6238da74",
            "800a332b38f64845b198764d532b288e",
            "d2ecd3b0f78d4919ad797b7b7d39c10a",
            "a9f44df2becc4a7da8b53ea1caa44c95",
            "1db4c20e04ca4a4380ad808d18304632",
            "ca47bdf6a90e4e069e75c5278c66e265",
            "0cbbfca1b5cd4c8a83db23833291fe8d",
            "33e16600e0414651b979b12217ba741b",
            "8b934752c2bc4699980c42a1eb393dca",
            "e7d9da26efc34935be3ef24a8e7c5785",
            "107474acb9184bcfbc87436caf5f17f2",
            "a074b614ad3449c6af4d07e17504ea2f",
            "61b4fa89b2b6406e874faae5f6d5a7ba",
            "0fd8ec3a73084b23a6caf034aefbd810",
            "0920797b6d8e48f591933c6b9b340065",
            "5692a089960a4ffea54e965184103415",
            "7f479a9c560448088f6a089038c9d6c6",
            "57ce90f1de4c4507863bff3ebe786059",
            "b2adf4f18a9d44c69ef1d316689fea54",
            "de90da27a8444001803785dac16fcdd0",
            "2df16000e35b4cb08f7ce1832171b8ad",
            "b9595a2584954569bc7b802fbff57e75",
            "022b5355b6df43c294708e03cb2f64eb",
            "19d7ffbef9b4497eb40014e96891df8e",
            "e7ae5cf3d8d44ecfb52e7db16579f71f",
            "e8cf145fc1224c43b6d61649e292fe5e",
            "d036322a81ba416c876dee2c848b3ae0",
            "306eda18c43342978b1968c7d8d9eccc",
            "e10082a7a8854976ac0de6e6d83e5aca",
            "57911e3c7096437094fed35c25a6908a",
            "c18b36824c4d4698b65deae7f26dded2",
            "25203c4ea7ce42aebd069af691434344",
            "fb0f5c5bc5c9415daf34674b6da14f88",
            "4506ef4ae7144fbc8b72e6528e8ec6ea",
            "34296a64e29647ce8316bcc7c0df883a",
            "052ea7f7a03c4f02965853e151dbc303",
            "5e8b8742f4c0459996651e7a78b56bcc",
            "aeeb5ddab838486a9d225381d15e7904",
            "1504fe98de3b42248bce8685bbdbcbcf",
            "955eaed5b4f648b2898a97a3471aa024",
            "b7fe637d4db84679bf7cc6d5af5bd10d",
            "e772bde8d73548ddaca18f8af63fe6e0",
            "31d1562d60e24219a6c669b64d25d971",
            "46018db87d0c47f494900d1a90f56e82",
            "a1027baf7c20454799880420673d323a",
            "ad3ddbf34d5845f8b11006e4b5698d16",
            "4754ed1c95e647638a09d9d839cce8dc",
            "a2768b36da414e06b60b0a4b522df3f3",
            "eb145e8094dd4399badc3ff470fc51db",
            "2cd183fa10c74e048bf2725e1261ac96",
            "ca556b48f7ab4469af0f7ade563ad1ce",
            "66118eaf908e4a48b852cee78c51666c",
            "c8cbfe5696324cd0bf52369d15e97885",
            "4a630ec93810452b9f4add64d176e92b",
            "310a7b7864704a6c95b2ed2f411425c7",
            "7fe7dcf17c2949369028d286ed45425f",
            "c588aa3813464c7fa1ef266662dead67",
            "9d2cc0f7004949068ae4a5f632de4767",
            "600636e7ef0e4017b279fa67a2978705",
            "263a60d2a104450ebfcf323244091fee",
            "4bb7551e977a4ad4b8d1b3c6c8949352",
            "d277dda7c43f4412bcb8f21c9264b8fa",
            "7d6d9bef703645f8b50df4eb308e6545",
            "d19e17cb404b449c954be2a382a44e5c",
            "4dd013e14ad1470fbec75cdb6f9d40a2",
            "9ece23af56b74b04a99f73d535737fd2"
          ]
        },
        "id": "wQeFGYJTi_SF",
        "outputId": "ee743ea8-0d2a-44ad-c2d0-0522d2c03338"
      },
      "execution_count": 39,
      "outputs": [
        {
          "output_type": "stream",
          "name": "stdout",
          "text": [
            "[1 / 5] Fold Training......\n",
            "Weight decoupling enabled in AdaBelief\n"
          ]
        },
        {
          "output_type": "display_data",
          "data": {
            "text/plain": [
              "  0%|          | 0/29 [00:00<?, ?it/s]"
            ],
            "application/vnd.jupyter.widget-view+json": {
              "version_major": 2,
              "version_minor": 0,
              "model_id": "485b967935e544a6b139ec586433b400"
            }
          },
          "metadata": {}
        },
        {
          "output_type": "display_data",
          "data": {
            "text/plain": [
              "  0%|          | 0/1250 [00:00<?, ?it/s]"
            ],
            "application/vnd.jupyter.widget-view+json": {
              "version_major": 2,
              "version_minor": 0,
              "model_id": "1c38f78836db49eea11c94a9489362c9"
            }
          },
          "metadata": {}
        },
        {
          "output_type": "stream",
          "name": "stdout",
          "text": [
            "[Epoch:  1]  train loss = 0.34327  valid loss = 0.34187  valid acc = 0.97980\n"
          ]
        },
        {
          "output_type": "display_data",
          "data": {
            "text/plain": [
              "  0%|          | 0/1250 [00:00<?, ?it/s]"
            ],
            "application/vnd.jupyter.widget-view+json": {
              "version_major": 2,
              "version_minor": 0,
              "model_id": "31b1e70e641b41978e3e901d4fc6eb1d"
            }
          },
          "metadata": {}
        },
        {
          "output_type": "stream",
          "name": "stdout",
          "text": [
            "[Epoch:  2]  train loss = 0.33925  valid loss = 0.34724  valid acc = 0.97820\n"
          ]
        },
        {
          "output_type": "display_data",
          "data": {
            "text/plain": [
              "  0%|          | 0/1250 [00:00<?, ?it/s]"
            ],
            "application/vnd.jupyter.widget-view+json": {
              "version_major": 2,
              "version_minor": 0,
              "model_id": "4daf1b4bbffe464c883b2cfde46ee412"
            }
          },
          "metadata": {}
        },
        {
          "output_type": "stream",
          "name": "stdout",
          "text": [
            "[Epoch:  3]  train loss = 0.33631  valid loss = 0.34423  valid acc = 0.98090\n"
          ]
        },
        {
          "output_type": "display_data",
          "data": {
            "text/plain": [
              "  0%|          | 0/1250 [00:00<?, ?it/s]"
            ],
            "application/vnd.jupyter.widget-view+json": {
              "version_major": 2,
              "version_minor": 0,
              "model_id": "c0a6a6862afc4091832a8d3f6238da74"
            }
          },
          "metadata": {}
        },
        {
          "output_type": "stream",
          "name": "stdout",
          "text": [
            "[Epoch:  4]  train loss = 0.33568  valid loss = 0.34559  valid acc = 0.97860\n"
          ]
        },
        {
          "output_type": "display_data",
          "data": {
            "text/plain": [
              "  0%|          | 0/1250 [00:00<?, ?it/s]"
            ],
            "application/vnd.jupyter.widget-view+json": {
              "version_major": 2,
              "version_minor": 0,
              "model_id": "a074b614ad3449c6af4d07e17504ea2f"
            }
          },
          "metadata": {}
        },
        {
          "output_type": "stream",
          "name": "stdout",
          "text": [
            "[Epoch:  5]  train loss = 0.33316  valid loss = 0.34617  valid acc = 0.97860\n"
          ]
        },
        {
          "output_type": "display_data",
          "data": {
            "text/plain": [
              "  0%|          | 0/1250 [00:00<?, ?it/s]"
            ],
            "application/vnd.jupyter.widget-view+json": {
              "version_major": 2,
              "version_minor": 0,
              "model_id": "022b5355b6df43c294708e03cb2f64eb"
            }
          },
          "metadata": {}
        },
        {
          "output_type": "stream",
          "name": "stdout",
          "text": [
            "[Epoch:  6]  train loss = 0.33007  valid loss = 0.34305  valid acc = 0.97960\n"
          ]
        },
        {
          "output_type": "display_data",
          "data": {
            "text/plain": [
              "  0%|          | 0/1250 [00:00<?, ?it/s]"
            ],
            "application/vnd.jupyter.widget-view+json": {
              "version_major": 2,
              "version_minor": 0,
              "model_id": "4506ef4ae7144fbc8b72e6528e8ec6ea"
            }
          },
          "metadata": {}
        },
        {
          "output_type": "stream",
          "name": "stdout",
          "text": [
            "[Epoch:  7]  train loss = 0.32942  valid loss = 0.34602  valid acc = 0.97910\n"
          ]
        },
        {
          "output_type": "display_data",
          "data": {
            "text/plain": [
              "  0%|          | 0/1250 [00:00<?, ?it/s]"
            ],
            "application/vnd.jupyter.widget-view+json": {
              "version_major": 2,
              "version_minor": 0,
              "model_id": "a1027baf7c20454799880420673d323a"
            }
          },
          "metadata": {}
        },
        {
          "output_type": "stream",
          "name": "stdout",
          "text": [
            "[Epoch:  8]  train loss = 0.32653  valid loss = 0.34451  valid acc = 0.97900\n"
          ]
        },
        {
          "output_type": "display_data",
          "data": {
            "text/plain": [
              "  0%|          | 0/1250 [00:00<?, ?it/s]"
            ],
            "application/vnd.jupyter.widget-view+json": {
              "version_major": 2,
              "version_minor": 0,
              "model_id": "7fe7dcf17c2949369028d286ed45425f"
            }
          },
          "metadata": {}
        },
        {
          "output_type": "stream",
          "name": "stdout",
          "text": [
            "[Epoch:  9]  train loss = 0.32741  valid loss = 0.34511  valid acc = 0.97900\n",
            "Early Stopping!\n",
            "1 Fold -> Best Valid Loss: 0.34187 Valid Accuracy: 0.97980\n",
            "\n",
            "[2 / 5] Fold Training......\n",
            "[3 / 5] Fold Training......\n",
            "[4 / 5] Fold Training......\n",
            "[5 / 5] Fold Training......\n",
            "5 Fold Mean Valid Best Loss: 0.34187\n",
            "5 Fold Mean Valid Accuracy: 0.97980\n"
          ]
        }
      ]
    },
    {
      "cell_type": "markdown",
      "source": [
        "1"
      ],
      "metadata": {
        "id": "sc7l352bRLrU"
      }
    },
    {
      "cell_type": "markdown",
      "source": [
        "- train loss와 valid loss의 변화를 시각화"
      ],
      "metadata": {
        "id": "dS896I7QumEp"
      }
    },
    {
      "cell_type": "code",
      "source": [
        "def show_loss_plot(\n",
        "        fold_train_losses: List[List[float]],\n",
        "        fold_valid_losses: List[List[float]]\n",
        "    ) -> None:\n",
        "    \"\"\"폴드별로 에폭에 따른 모델의 훈련 손실과 검증 손실의 변화를 시각화\"\"\"\n",
        "    assert len(fold_train_losses) == len(fold_valid_losses)\n",
        "    num_folds = len(fold_train_losses)\n",
        "    ncols = 3\n",
        "    nrows = 1 + (num_folds - 1)//ncols\n",
        "    fig, axes = plt.subplots(nrows, ncols, figsize=(ncols*4, nrows*4)) \n",
        "\n",
        "    ## 폴드마다 에폭에 따른 훈련 손실과 검증 손실의 변화를 시각화\n",
        "    for fold, (ax, train_losses, valid_losses) in enumerate(zip(axes.flatten(), fold_train_losses, fold_valid_losses), start=1):\n",
        "        assert len(train_losses) == len(valid_losses) \n",
        "        if fold > num_folds:\n",
        "            break\n",
        "\n",
        "        num_epochs = len(train_losses)\n",
        "        ax.set_title(f'{fold} Fold')\n",
        "        ax.plot(range(1, num_epochs+1), train_losses, label='Train')\n",
        "        ax.plot(range(1, num_epochs+1), valid_losses, label='Valid')\n",
        "        ax.set_xlabel('Epoch')\n",
        "        ax.set_ylabel('Loss')\n",
        "        ax.legend()\n",
        "\n",
        "    fig.suptitle('Train Loss and Valid Loss', x=0.51, y=1.05, fontsize=15)\n",
        "    fig.tight_layout()\n",
        "\n",
        "    ## 남는 서브 플랏 제거\n",
        "    for ax in axes.flatten():\n",
        "        if not ax.has_data():\n",
        "            fig.delaxes(ax)"
      ],
      "metadata": {
        "id": "gcfLWSukuoQx"
      },
      "execution_count": null,
      "outputs": []
    },
    {
      "cell_type": "code",
      "source": [
        "# show_loss_plot(fold_train_losses_per_epoch, fold_valid_losses_per_epoch)"
      ],
      "metadata": {
        "id": "wJCs4xPLJ3Ry"
      },
      "execution_count": null,
      "outputs": []
    },
    {
      "cell_type": "markdown",
      "source": [
        "## Test 예측"
      ],
      "metadata": {
        "id": "2F1rlPmIPpvL"
      }
    },
    {
      "cell_type": "code",
      "source": [
        "!pip install ttach"
      ],
      "metadata": {
        "id": "XZz7f-F6eZoL",
        "colab": {
          "base_uri": "https://localhost:8080/"
        },
        "outputId": "961a5da6-8974-48fc-a232-64873d4225cd"
      },
      "execution_count": 42,
      "outputs": [
        {
          "output_type": "stream",
          "name": "stdout",
          "text": [
            "Looking in indexes: https://pypi.org/simple, https://us-python.pkg.dev/colab-wheels/public/simple/\n",
            "Collecting ttach\n",
            "  Downloading ttach-0.0.3-py3-none-any.whl (9.8 kB)\n",
            "Installing collected packages: ttach\n",
            "Successfully installed ttach-0.0.3\n"
          ]
        }
      ]
    },
    {
      "cell_type": "code",
      "source": [
        "import ttach as tta"
      ],
      "metadata": {
        "id": "ZWB5KO6c-Epg"
      },
      "execution_count": 43,
      "outputs": []
    },
    {
      "cell_type": "markdown",
      "source": [
        "`-` 3차원 이미지를 2차원 이미지로 축소된 결과물이 일반적으로 알고있는 형태와 다르다 (예컨대 6이 거꾸로 뒤집어 있다)\n",
        "\n",
        "`-` 왜냐하면 같은 라벨이더라도 3차원 상에서 rotate, flip 되어있는 이미지가 존재하기 때문이다\n",
        "\n",
        "`-` 즉, 3차원 상에서는 동일한 숫자이미지라도 rotate 또는 flip 되어도 구분이 가능하다 (쉽지는 않다...)\n",
        "\n",
        "`-` 따라서 이미지의 형태를 보고 라벨을 맞춰야 한다 (예컨대 6은 막대기가, 9는 동그라미가 강조되어있다; 그런데 내가 몇개만 확인한거라 아닐수도 있다)\n",
        "\n",
        "`-` 이미지를 rotate 또는 flip 하더라도 동일하므로 예측해야할 이미지에 roate와 flip을 적용하여 일반화 성능을 올리겠다"
      ],
      "metadata": {
        "id": "up90b1rslbJc"
      }
    },
    {
      "cell_type": "code",
      "source": [
        "def predict(\n",
        "        model: Module, \n",
        "        dataloader: DataLoader, \n",
        "        weight_save_path: str, \n",
        "        tta_transforms: Optional[tta.base.Compose] = None,\n",
        "        return_prob: bool = False\n",
        "    ) -> Tensor:\n",
        "    \"\"\"저장된 모델의 가중치를 불러와서 dataloader의 데이터를 예측하여 반환\"\"\"\n",
        "    model = model.to(device) \n",
        "    weight_path_list = glob(weight_save_path + '/*.pt')\n",
        "    test_probs = np.zeros(shape=(len(dataloader.dataset), NUM_CLASSES))  \n",
        "\n",
        "    for weight_path in tqdm(weight_path_list):\n",
        "        probs = None\n",
        "        model.load_state_dict(torch.load(weight_path, map_location=device))\n",
        "        model.eval()\n",
        "\n",
        "        if tta_transforms is not None:\n",
        "            tta_model = tta.ClassificationTTAWrapper(model, tta_transforms)\n",
        "        \n",
        "        with torch.no_grad(): \n",
        "            for X in dataloader:  ## test 데이터는 라벨(y)이 없다\n",
        "                X = X.to(device) \n",
        "                if tta_transforms is not None:\n",
        "                    y_hat = tta_model(X).cpu().numpy()\n",
        "                else:\n",
        "                    y_hat = model(X).cpu().numpy()\n",
        "\n",
        "                if probs is None:\n",
        "                    probs = y_hat\n",
        "                else:\n",
        "                    probs = np.concatenate([probs, y_hat])\n",
        "\n",
        "        test_probs += (probs / NUM_FOLDS) \n",
        "    test_probs = torch.softmax(torch.tensor(test_probs), dim=1)  ## 각 컬럼별 확률\n",
        "    _, test_preds = torch.max(test_probs, dim=1)  ## 최댓값과 인덱스\n",
        "\n",
        "    if return_prob:\n",
        "        return test_probs  ## 각 컬럼별 확률\n",
        "    return test_preds  ## 라벨"
      ],
      "metadata": {
        "id": "WLjeqtyqur_R"
      },
      "execution_count": 44,
      "outputs": []
    },
    {
      "cell_type": "code",
      "source": [
        "test_dataloader = get_dataloader(X=test_images, y=None, transforms=get_transforms('valid'), shuffle_dataloader=False)"
      ],
      "metadata": {
        "id": "b-H5lyYIbDrF"
      },
      "execution_count": 47,
      "outputs": []
    },
    {
      "cell_type": "code",
      "source": [
        "tta_transforms = tta.Compose(\n",
        "    [\n",
        "        tta.Rotate90([0, 90, 180, 270]),\n",
        "        tta.HorizontalFlip()\n",
        "    ]\n",
        ")"
      ],
      "metadata": {
        "id": "z-JKQTjwehix"
      },
      "execution_count": 48,
      "outputs": []
    },
    {
      "cell_type": "code",
      "source": [
        "preds = predict(model, test_dataloader, SAVE_PATH, tta_transforms, return_prob=False)"
      ],
      "metadata": {
        "id": "Jc0avJNn8Y3X",
        "colab": {
          "base_uri": "https://localhost:8080/",
          "height": 49,
          "referenced_widgets": [
            "2cbfbea9258c4cf881e654a2b64d75d8",
            "21f39fe21bff4cc2b13d83f94a032bce",
            "ecc3887d7ff24c6abdd73b0a9f70f94a",
            "56839f4477f044b5a27bfc894afdc7b7",
            "a8fe3f86fc1045569ec93b54c3b65881",
            "28cdf40e71be4dc2ac932cdb06a642ca",
            "4768defa89e545f2b67aefff4013f7cd",
            "e276e71ad8654649af88bed2da462bbe",
            "28a6197ec5f14f11b2d0a3a471c8c080",
            "8c406592403a409188b5aefeecb791eb",
            "68e598a53ae74ef5b361f9b334b945fd"
          ]
        },
        "outputId": "0dbf7cf1-a399-41b3-bc51-8640760e8381"
      },
      "execution_count": 49,
      "outputs": [
        {
          "output_type": "display_data",
          "data": {
            "text/plain": [
              "  0%|          | 0/1 [00:00<?, ?it/s]"
            ],
            "application/vnd.jupyter.widget-view+json": {
              "version_major": 2,
              "version_minor": 0,
              "model_id": "2cbfbea9258c4cf881e654a2b64d75d8"
            }
          },
          "metadata": {}
        }
      ]
    },
    {
      "cell_type": "code",
      "source": [
        "test_df['label'] = preds\n",
        "test_df.head()"
      ],
      "metadata": {
        "id": "PoepzDgQSJFc",
        "colab": {
          "base_uri": "https://localhost:8080/",
          "height": 206
        },
        "outputId": "b1b870e9-4f87-4508-ae03-0012fab77051"
      },
      "execution_count": 51,
      "outputs": [
        {
          "output_type": "execute_result",
          "data": {
            "text/plain": [
              "      ID  label\n",
              "0  50000      7\n",
              "1  50001      2\n",
              "2  50002      2\n",
              "3  50003      4\n",
              "4  50004      9"
            ],
            "text/html": [
              "\n",
              "  <div id=\"df-c618029f-e513-4f94-be90-0f9306879e8f\">\n",
              "    <div class=\"colab-df-container\">\n",
              "      <div>\n",
              "<style scoped>\n",
              "    .dataframe tbody tr th:only-of-type {\n",
              "        vertical-align: middle;\n",
              "    }\n",
              "\n",
              "    .dataframe tbody tr th {\n",
              "        vertical-align: top;\n",
              "    }\n",
              "\n",
              "    .dataframe thead th {\n",
              "        text-align: right;\n",
              "    }\n",
              "</style>\n",
              "<table border=\"1\" class=\"dataframe\">\n",
              "  <thead>\n",
              "    <tr style=\"text-align: right;\">\n",
              "      <th></th>\n",
              "      <th>ID</th>\n",
              "      <th>label</th>\n",
              "    </tr>\n",
              "  </thead>\n",
              "  <tbody>\n",
              "    <tr>\n",
              "      <th>0</th>\n",
              "      <td>50000</td>\n",
              "      <td>7</td>\n",
              "    </tr>\n",
              "    <tr>\n",
              "      <th>1</th>\n",
              "      <td>50001</td>\n",
              "      <td>2</td>\n",
              "    </tr>\n",
              "    <tr>\n",
              "      <th>2</th>\n",
              "      <td>50002</td>\n",
              "      <td>2</td>\n",
              "    </tr>\n",
              "    <tr>\n",
              "      <th>3</th>\n",
              "      <td>50003</td>\n",
              "      <td>4</td>\n",
              "    </tr>\n",
              "    <tr>\n",
              "      <th>4</th>\n",
              "      <td>50004</td>\n",
              "      <td>9</td>\n",
              "    </tr>\n",
              "  </tbody>\n",
              "</table>\n",
              "</div>\n",
              "      <button class=\"colab-df-convert\" onclick=\"convertToInteractive('df-c618029f-e513-4f94-be90-0f9306879e8f')\"\n",
              "              title=\"Convert this dataframe to an interactive table.\"\n",
              "              style=\"display:none;\">\n",
              "        \n",
              "  <svg xmlns=\"http://www.w3.org/2000/svg\" height=\"24px\"viewBox=\"0 0 24 24\"\n",
              "       width=\"24px\">\n",
              "    <path d=\"M0 0h24v24H0V0z\" fill=\"none\"/>\n",
              "    <path d=\"M18.56 5.44l.94 2.06.94-2.06 2.06-.94-2.06-.94-.94-2.06-.94 2.06-2.06.94zm-11 1L8.5 8.5l.94-2.06 2.06-.94-2.06-.94L8.5 2.5l-.94 2.06-2.06.94zm10 10l.94 2.06.94-2.06 2.06-.94-2.06-.94-.94-2.06-.94 2.06-2.06.94z\"/><path d=\"M17.41 7.96l-1.37-1.37c-.4-.4-.92-.59-1.43-.59-.52 0-1.04.2-1.43.59L10.3 9.45l-7.72 7.72c-.78.78-.78 2.05 0 2.83L4 21.41c.39.39.9.59 1.41.59.51 0 1.02-.2 1.41-.59l7.78-7.78 2.81-2.81c.8-.78.8-2.07 0-2.86zM5.41 20L4 18.59l7.72-7.72 1.47 1.35L5.41 20z\"/>\n",
              "  </svg>\n",
              "      </button>\n",
              "      \n",
              "  <style>\n",
              "    .colab-df-container {\n",
              "      display:flex;\n",
              "      flex-wrap:wrap;\n",
              "      gap: 12px;\n",
              "    }\n",
              "\n",
              "    .colab-df-convert {\n",
              "      background-color: #E8F0FE;\n",
              "      border: none;\n",
              "      border-radius: 50%;\n",
              "      cursor: pointer;\n",
              "      display: none;\n",
              "      fill: #1967D2;\n",
              "      height: 32px;\n",
              "      padding: 0 0 0 0;\n",
              "      width: 32px;\n",
              "    }\n",
              "\n",
              "    .colab-df-convert:hover {\n",
              "      background-color: #E2EBFA;\n",
              "      box-shadow: 0px 1px 2px rgba(60, 64, 67, 0.3), 0px 1px 3px 1px rgba(60, 64, 67, 0.15);\n",
              "      fill: #174EA6;\n",
              "    }\n",
              "\n",
              "    [theme=dark] .colab-df-convert {\n",
              "      background-color: #3B4455;\n",
              "      fill: #D2E3FC;\n",
              "    }\n",
              "\n",
              "    [theme=dark] .colab-df-convert:hover {\n",
              "      background-color: #434B5C;\n",
              "      box-shadow: 0px 1px 3px 1px rgba(0, 0, 0, 0.15);\n",
              "      filter: drop-shadow(0px 1px 2px rgba(0, 0, 0, 0.3));\n",
              "      fill: #FFFFFF;\n",
              "    }\n",
              "  </style>\n",
              "\n",
              "      <script>\n",
              "        const buttonEl =\n",
              "          document.querySelector('#df-c618029f-e513-4f94-be90-0f9306879e8f button.colab-df-convert');\n",
              "        buttonEl.style.display =\n",
              "          google.colab.kernel.accessAllowed ? 'block' : 'none';\n",
              "\n",
              "        async function convertToInteractive(key) {\n",
              "          const element = document.querySelector('#df-c618029f-e513-4f94-be90-0f9306879e8f');\n",
              "          const dataTable =\n",
              "            await google.colab.kernel.invokeFunction('convertToInteractive',\n",
              "                                                     [key], {});\n",
              "          if (!dataTable) return;\n",
              "\n",
              "          const docLinkHtml = 'Like what you see? Visit the ' +\n",
              "            '<a target=\"_blank\" href=https://colab.research.google.com/notebooks/data_table.ipynb>data table notebook</a>'\n",
              "            + ' to learn more about interactive tables.';\n",
              "          element.innerHTML = '';\n",
              "          dataTable['output_type'] = 'display_data';\n",
              "          await google.colab.output.renderOutput(dataTable, element);\n",
              "          const docLink = document.createElement('div');\n",
              "          docLink.innerHTML = docLinkHtml;\n",
              "          element.appendChild(docLink);\n",
              "        }\n",
              "      </script>\n",
              "    </div>\n",
              "  </div>\n",
              "  "
            ]
          },
          "metadata": {},
          "execution_count": 51
        }
      ]
    },
    {
      "cell_type": "code",
      "source": [
        "sns.countplot(data=test_df, x='label')"
      ],
      "metadata": {
        "id": "gIOJ7M1DZj69",
        "colab": {
          "base_uri": "https://localhost:8080/",
          "height": 297
        },
        "outputId": "ad0b65e9-bfe8-4464-f41f-a37655c49c99"
      },
      "execution_count": 52,
      "outputs": [
        {
          "output_type": "execute_result",
          "data": {
            "text/plain": [
              "<matplotlib.axes._subplots.AxesSubplot at 0x7fba18d62ad0>"
            ]
          },
          "metadata": {},
          "execution_count": 52
        },
        {
          "output_type": "display_data",
          "data": {
            "text/plain": [
              "<Figure size 432x288 with 1 Axes>"
            ],
            "image/png": "[encoded data removed]"
          },
          "metadata": {
            "needs_background": "light"
          }
        }
      ]
    },
    {
      "cell_type": "code",
      "source": [
        "test_df.to_csv(f'./Data/submission-{MODEL_NAME}-53.csv', index=False)"
      ],
      "metadata": {
        "id": "nDlAjiwbSQ-M"
      },
      "execution_count": 53,
      "outputs": []
    },
    {
      "cell_type": "code",
      "source": [],
      "metadata": {
        "id": "_4D3xSiszkgk"
      },
      "execution_count": null,
      "outputs": []
    }
  ]
}